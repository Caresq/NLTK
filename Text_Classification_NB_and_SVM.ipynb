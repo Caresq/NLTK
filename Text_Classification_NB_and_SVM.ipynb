{
 "cells": [
  {
   "cell_type": "markdown",
   "metadata": {
    "id": "5xxlWUJqGJjH"
   },
   "source": [
    "PASO -1: Agregar las bibliotecas requeridas\n",
    "Las siguientes bibliotecas se utilizan en el código. Si no están disponibles, se pueden descargar fácilmente a través de sus respectivos sitios web."
   ]
  },
  {
   "cell_type": "code",
   "execution_count": 1,
   "metadata": {
    "id": "xLxrBr4XGJjI"
   },
   "outputs": [],
   "source": [
    "import pandas as pd\n",
    "import numpy as np\n",
    "import nltk\n",
    "from nltk.tokenize import word_tokenize\n",
    "from nltk import pos_tag\n",
    "from nltk.corpus import stopwords\n",
    "from nltk.stem import WordNetLemmatizer\n",
    "from sklearn.preprocessing import LabelEncoder\n",
    "from collections import defaultdict\n",
    "from nltk.corpus import wordnet as wn\n",
    "from sklearn.feature_extraction.text import TfidfVectorizer\n",
    "from sklearn import model_selection, naive_bayes, svm\n",
    "from sklearn.metrics import accuracy_score"
   ]
  },
  {
   "cell_type": "markdown",
   "metadata": {
    "id": "Ckj9WlA0GJjI"
   },
   "source": [
    "PASO -2: Establecer semilla aleatoria\n",
    "Esto se utiliza para reproducir el mismo resultado cada vez si el script se mantiene constante; de lo contrario, cada ejecución producirá resultados diferentes. La semilla se puede establecer en cualquier número."
   ]
  },
  {
   "cell_type": "code",
   "execution_count": 2,
   "metadata": {
    "id": "e5-_5P4cGJjI"
   },
   "outputs": [],
   "source": [
    "np.random.seed(500)"
   ]
  },
  {
   "cell_type": "markdown",
   "metadata": {
    "id": "X2D3F4bOGJjI"
   },
   "source": [
    "PASO -3: Agregar el Corpus\n",
    "El dataset se puede agregar fácilmente como DataFrame de pandas con la ayuda de la función \"read_csv\"\n",
    "La codificación se ha configurado en \"latin-1\" ya que el texto tiene muchos caracteres especiales."
   ]
  },
  {
   "cell_type": "code",
   "execution_count": 3,
   "metadata": {
    "id": "wcjXL6BFGJjJ"
   },
   "outputs": [],
   "source": [
    "Corpus = pd.read_csv(\"corpus.csv\",encoding='latin-1')"
   ]
  },
  {
   "cell_type": "markdown",
   "metadata": {
    "id": "EXq_S84BGJjJ"
   },
   "source": [
    "Se imprime el inicio y final del dataframe para visualizar los datos"
   ]
  },
  {
   "cell_type": "code",
   "execution_count": 4,
   "metadata": {
    "id": "bjDynFIDGJjJ"
   },
   "outputs": [
    {
     "data": {
      "text/html": [
       "<div>\n",
       "<style scoped>\n",
       "    .dataframe tbody tr th:only-of-type {\n",
       "        vertical-align: middle;\n",
       "    }\n",
       "\n",
       "    .dataframe tbody tr th {\n",
       "        vertical-align: top;\n",
       "    }\n",
       "\n",
       "    .dataframe thead th {\n",
       "        text-align: right;\n",
       "    }\n",
       "</style>\n",
       "<table border=\"1\" class=\"dataframe\">\n",
       "  <thead>\n",
       "    <tr style=\"text-align: right;\">\n",
       "      <th></th>\n",
       "      <th>text</th>\n",
       "      <th>label</th>\n",
       "    </tr>\n",
       "  </thead>\n",
       "  <tbody>\n",
       "    <tr>\n",
       "      <th>0</th>\n",
       "      <td>Stuning even for the non-gamer: This sound tr...</td>\n",
       "      <td>__label__2</td>\n",
       "    </tr>\n",
       "    <tr>\n",
       "      <th>1</th>\n",
       "      <td>The best soundtrack ever to anything.: I'm re...</td>\n",
       "      <td>__label__2</td>\n",
       "    </tr>\n",
       "    <tr>\n",
       "      <th>2</th>\n",
       "      <td>Amazing!: This soundtrack is my favorite musi...</td>\n",
       "      <td>__label__2</td>\n",
       "    </tr>\n",
       "    <tr>\n",
       "      <th>3</th>\n",
       "      <td>Excellent Soundtrack: I truly like this sound...</td>\n",
       "      <td>__label__2</td>\n",
       "    </tr>\n",
       "    <tr>\n",
       "      <th>4</th>\n",
       "      <td>Remember, Pull Your Jaw Off The Floor After H...</td>\n",
       "      <td>__label__2</td>\n",
       "    </tr>\n",
       "  </tbody>\n",
       "</table>\n",
       "</div>"
      ],
      "text/plain": [
       "                                                text        label\n",
       "0   Stuning even for the non-gamer: This sound tr...  __label__2 \n",
       "1   The best soundtrack ever to anything.: I'm re...  __label__2 \n",
       "2   Amazing!: This soundtrack is my favorite musi...  __label__2 \n",
       "3   Excellent Soundtrack: I truly like this sound...  __label__2 \n",
       "4   Remember, Pull Your Jaw Off The Floor After H...  __label__2 "
      ]
     },
     "execution_count": 4,
     "metadata": {},
     "output_type": "execute_result"
    }
   ],
   "source": [
    "Corpus.head()"
   ]
  },
  {
   "cell_type": "code",
   "execution_count": 5,
   "metadata": {
    "id": "LO7-vP25GJjJ"
   },
   "outputs": [
    {
     "data": {
      "text/html": [
       "<div>\n",
       "<style scoped>\n",
       "    .dataframe tbody tr th:only-of-type {\n",
       "        vertical-align: middle;\n",
       "    }\n",
       "\n",
       "    .dataframe tbody tr th {\n",
       "        vertical-align: top;\n",
       "    }\n",
       "\n",
       "    .dataframe thead th {\n",
       "        text-align: right;\n",
       "    }\n",
       "</style>\n",
       "<table border=\"1\" class=\"dataframe\">\n",
       "  <thead>\n",
       "    <tr style=\"text-align: right;\">\n",
       "      <th></th>\n",
       "      <th>text</th>\n",
       "      <th>label</th>\n",
       "    </tr>\n",
       "  </thead>\n",
       "  <tbody>\n",
       "    <tr>\n",
       "      <th>9995</th>\n",
       "      <td>A revelation of life in small town America in...</td>\n",
       "      <td>__label__2</td>\n",
       "    </tr>\n",
       "    <tr>\n",
       "      <th>9996</th>\n",
       "      <td>Great biography of a very interesting journal...</td>\n",
       "      <td>__label__2</td>\n",
       "    </tr>\n",
       "    <tr>\n",
       "      <th>9997</th>\n",
       "      <td>Interesting Subject; Poor Presentation: You'd...</td>\n",
       "      <td>__label__1</td>\n",
       "    </tr>\n",
       "    <tr>\n",
       "      <th>9998</th>\n",
       "      <td>Don't buy: The box looked used and it is obvi...</td>\n",
       "      <td>__label__1</td>\n",
       "    </tr>\n",
       "    <tr>\n",
       "      <th>9999</th>\n",
       "      <td>Beautiful Pen and Fast Delivery.: The pen was...</td>\n",
       "      <td>__label__2</td>\n",
       "    </tr>\n",
       "  </tbody>\n",
       "</table>\n",
       "</div>"
      ],
      "text/plain": [
       "                                                   text        label\n",
       "9995   A revelation of life in small town America in...  __label__2 \n",
       "9996   Great biography of a very interesting journal...  __label__2 \n",
       "9997   Interesting Subject; Poor Presentation: You'd...  __label__1 \n",
       "9998   Don't buy: The box looked used and it is obvi...  __label__1 \n",
       "9999   Beautiful Pen and Fast Delivery.: The pen was...  __label__2 "
      ]
     },
     "execution_count": 5,
     "metadata": {},
     "output_type": "execute_result"
    }
   ],
   "source": [
    "Corpus.tail()"
   ]
  },
  {
   "cell_type": "markdown",
   "metadata": {
    "id": "FAWbsFxxGJjJ"
   },
   "source": [
    "PASO -4: Preprocesamiento de datos\n",
    "\n",
    "Este es un paso importante en cualquier proceso de minería de datos. Básicamente, esto implica transformar los datos en bruto en un formato comprensible para los modelos de PNL. Los datos del mundo real a menudo son incompletos, inconsistentes y / o carecen de ciertos comportamientos o tendencias, y es probable que contengan muchos errores. El preprocesamiento de datos es un método comprobado para resolver estos problemas. Esto ayudará a obtener mejores resultados a través de los algoritmos de clasificación.\n",
    "\n",
    "Las técnicas que se utilizan en este ejemplo son el tokenizado y stemming y lemmatization.\n",
    "\n",
    "Tokenización: este es un proceso de dividir una secuencia de texto en palabras, frases, símbolos u otros elementos significativos llamados tokens. La lista de tokens se convierte en entrada para su posterior procesamiento. NLTK Library tiene word_tokenize y sent_tokenize para dividir fácilmente una secuencia de texto en una lista de palabras u oraciones, respectivamente.\n",
    "\n",
    "Word Stemming/Lemmatization: el objetivo de ambos procesos es el mismo, reduciendo las formas de inflexión de cada palabra en una base o raíz común. La lematización está estrechamente relacionada con la derivación. La diferencia es que un stemmer opera en una sola palabra sin conocimiento del contexto, y por lo tanto no puede discriminar entre palabras que tienen diferentes significados dependiendo de parte del discurso. Sin embargo, los stemmers suelen ser más fáciles de implementar y ejecutar más rápido, y aunque la precisión puede estar reducida puede no importar para algunas aplicaciones."
   ]
  },
  {
   "cell_type": "code",
   "execution_count": 6,
   "metadata": {
    "id": "Bv5RHzP_GJjJ"
   },
   "outputs": [],
   "source": [
    "# Comenzamos por eliminar los registros vacíos si es que existen.\n",
    "Corpus['text'].dropna(inplace=True)"
   ]
  },
  {
   "cell_type": "code",
   "execution_count": 7,
   "metadata": {
    "id": "IkjKs-0IGJjJ"
   },
   "outputs": [],
   "source": [
    "# Cambiar todo el texto a minúsculas.\n",
    "Corpus['text'] = [entry.lower() for entry in Corpus['text']]"
   ]
  },
  {
   "cell_type": "code",
   "execution_count": 8,
   "metadata": {
    "id": "JYwD4y1yGJjJ"
   },
   "outputs": [
    {
     "data": {
      "text/html": [
       "<div>\n",
       "<style scoped>\n",
       "    .dataframe tbody tr th:only-of-type {\n",
       "        vertical-align: middle;\n",
       "    }\n",
       "\n",
       "    .dataframe tbody tr th {\n",
       "        vertical-align: top;\n",
       "    }\n",
       "\n",
       "    .dataframe thead th {\n",
       "        text-align: right;\n",
       "    }\n",
       "</style>\n",
       "<table border=\"1\" class=\"dataframe\">\n",
       "  <thead>\n",
       "    <tr style=\"text-align: right;\">\n",
       "      <th></th>\n",
       "      <th>text</th>\n",
       "      <th>label</th>\n",
       "    </tr>\n",
       "  </thead>\n",
       "  <tbody>\n",
       "    <tr>\n",
       "      <th>0</th>\n",
       "      <td>stuning even for the non-gamer: this sound tr...</td>\n",
       "      <td>__label__2</td>\n",
       "    </tr>\n",
       "    <tr>\n",
       "      <th>1</th>\n",
       "      <td>the best soundtrack ever to anything.: i'm re...</td>\n",
       "      <td>__label__2</td>\n",
       "    </tr>\n",
       "    <tr>\n",
       "      <th>2</th>\n",
       "      <td>amazing!: this soundtrack is my favorite musi...</td>\n",
       "      <td>__label__2</td>\n",
       "    </tr>\n",
       "    <tr>\n",
       "      <th>3</th>\n",
       "      <td>excellent soundtrack: i truly like this sound...</td>\n",
       "      <td>__label__2</td>\n",
       "    </tr>\n",
       "    <tr>\n",
       "      <th>4</th>\n",
       "      <td>remember, pull your jaw off the floor after h...</td>\n",
       "      <td>__label__2</td>\n",
       "    </tr>\n",
       "  </tbody>\n",
       "</table>\n",
       "</div>"
      ],
      "text/plain": [
       "                                                text        label\n",
       "0   stuning even for the non-gamer: this sound tr...  __label__2 \n",
       "1   the best soundtrack ever to anything.: i'm re...  __label__2 \n",
       "2   amazing!: this soundtrack is my favorite musi...  __label__2 \n",
       "3   excellent soundtrack: i truly like this sound...  __label__2 \n",
       "4   remember, pull your jaw off the floor after h...  __label__2 "
      ]
     },
     "execution_count": 8,
     "metadata": {},
     "output_type": "execute_result"
    }
   ],
   "source": [
    "# Se visualizan los resultados de los pasos anteriores\n",
    "Corpus.head()"
   ]
  },
  {
   "cell_type": "code",
   "execution_count": 9,
   "metadata": {
    "id": "GFNVHkVIGJjK"
   },
   "outputs": [
    {
     "data": {
      "text/html": [
       "<div>\n",
       "<style scoped>\n",
       "    .dataframe tbody tr th:only-of-type {\n",
       "        vertical-align: middle;\n",
       "    }\n",
       "\n",
       "    .dataframe tbody tr th {\n",
       "        vertical-align: top;\n",
       "    }\n",
       "\n",
       "    .dataframe thead th {\n",
       "        text-align: right;\n",
       "    }\n",
       "</style>\n",
       "<table border=\"1\" class=\"dataframe\">\n",
       "  <thead>\n",
       "    <tr style=\"text-align: right;\">\n",
       "      <th></th>\n",
       "      <th>text</th>\n",
       "      <th>label</th>\n",
       "    </tr>\n",
       "  </thead>\n",
       "  <tbody>\n",
       "    <tr>\n",
       "      <th>9995</th>\n",
       "      <td>a revelation of life in small town america in...</td>\n",
       "      <td>__label__2</td>\n",
       "    </tr>\n",
       "    <tr>\n",
       "      <th>9996</th>\n",
       "      <td>great biography of a very interesting journal...</td>\n",
       "      <td>__label__2</td>\n",
       "    </tr>\n",
       "    <tr>\n",
       "      <th>9997</th>\n",
       "      <td>interesting subject; poor presentation: you'd...</td>\n",
       "      <td>__label__1</td>\n",
       "    </tr>\n",
       "    <tr>\n",
       "      <th>9998</th>\n",
       "      <td>don't buy: the box looked used and it is obvi...</td>\n",
       "      <td>__label__1</td>\n",
       "    </tr>\n",
       "    <tr>\n",
       "      <th>9999</th>\n",
       "      <td>beautiful pen and fast delivery.: the pen was...</td>\n",
       "      <td>__label__2</td>\n",
       "    </tr>\n",
       "  </tbody>\n",
       "</table>\n",
       "</div>"
      ],
      "text/plain": [
       "                                                   text        label\n",
       "9995   a revelation of life in small town america in...  __label__2 \n",
       "9996   great biography of a very interesting journal...  __label__2 \n",
       "9997   interesting subject; poor presentation: you'd...  __label__1 \n",
       "9998   don't buy: the box looked used and it is obvi...  __label__1 \n",
       "9999   beautiful pen and fast delivery.: the pen was...  __label__2 "
      ]
     },
     "execution_count": 9,
     "metadata": {},
     "output_type": "execute_result"
    }
   ],
   "source": [
    "Corpus.tail()"
   ]
  },
  {
   "cell_type": "code",
   "execution_count": 10,
   "metadata": {
    "colab": {
     "base_uri": "https://localhost:8080/"
    },
    "id": "g6PSyjjtGySh",
    "outputId": "62915fdb-684e-46d2-e5ac-ec84f4ab3f3b"
   },
   "outputs": [
    {
     "name": "stderr",
     "output_type": "stream",
     "text": [
      "[nltk_data] Downloading package punkt to\n",
      "[nltk_data]     C:\\Users\\jumunoz\\AppData\\Roaming\\nltk_data...\n",
      "[nltk_data]   Package punkt is already up-to-date!\n"
     ]
    },
    {
     "data": {
      "text/plain": [
       "True"
      ]
     },
     "execution_count": 10,
     "metadata": {},
     "output_type": "execute_result"
    }
   ],
   "source": [
    "nltk.download('punkt')"
   ]
  },
  {
   "cell_type": "code",
   "execution_count": 11,
   "metadata": {
    "id": "2JMq6JSqGJjK"
   },
   "outputs": [],
   "source": [
    "# Se tokeniza por palabras cada una de las entradas del corpus\n",
    "Corpus['text']= [word_tokenize(entry) for entry in Corpus['text']]"
   ]
  },
  {
   "cell_type": "code",
   "execution_count": 12,
   "metadata": {
    "id": "J1tjQ6UzG_iS"
   },
   "outputs": [
    {
     "data": {
      "text/html": [
       "<div>\n",
       "<style scoped>\n",
       "    .dataframe tbody tr th:only-of-type {\n",
       "        vertical-align: middle;\n",
       "    }\n",
       "\n",
       "    .dataframe tbody tr th {\n",
       "        vertical-align: top;\n",
       "    }\n",
       "\n",
       "    .dataframe thead th {\n",
       "        text-align: right;\n",
       "    }\n",
       "</style>\n",
       "<table border=\"1\" class=\"dataframe\">\n",
       "  <thead>\n",
       "    <tr style=\"text-align: right;\">\n",
       "      <th></th>\n",
       "      <th>text</th>\n",
       "      <th>label</th>\n",
       "    </tr>\n",
       "  </thead>\n",
       "  <tbody>\n",
       "    <tr>\n",
       "      <th>0</th>\n",
       "      <td>[stuning, even, for, the, non-gamer, :, this, ...</td>\n",
       "      <td>__label__2</td>\n",
       "    </tr>\n",
       "    <tr>\n",
       "      <th>1</th>\n",
       "      <td>[the, best, soundtrack, ever, to, anything, .,...</td>\n",
       "      <td>__label__2</td>\n",
       "    </tr>\n",
       "    <tr>\n",
       "      <th>2</th>\n",
       "      <td>[amazing, !, :, this, soundtrack, is, my, favo...</td>\n",
       "      <td>__label__2</td>\n",
       "    </tr>\n",
       "    <tr>\n",
       "      <th>3</th>\n",
       "      <td>[excellent, soundtrack, :, i, truly, like, thi...</td>\n",
       "      <td>__label__2</td>\n",
       "    </tr>\n",
       "    <tr>\n",
       "      <th>4</th>\n",
       "      <td>[remember, ,, pull, your, jaw, off, the, floor...</td>\n",
       "      <td>__label__2</td>\n",
       "    </tr>\n",
       "  </tbody>\n",
       "</table>\n",
       "</div>"
      ],
      "text/plain": [
       "                                                text        label\n",
       "0  [stuning, even, for, the, non-gamer, :, this, ...  __label__2 \n",
       "1  [the, best, soundtrack, ever, to, anything, .,...  __label__2 \n",
       "2  [amazing, !, :, this, soundtrack, is, my, favo...  __label__2 \n",
       "3  [excellent, soundtrack, :, i, truly, like, thi...  __label__2 \n",
       "4  [remember, ,, pull, your, jaw, off, the, floor...  __label__2 "
      ]
     },
     "execution_count": 12,
     "metadata": {},
     "output_type": "execute_result"
    }
   ],
   "source": [
    "Corpus.head()"
   ]
  },
  {
   "cell_type": "code",
   "execution_count": 13,
   "metadata": {
    "id": "P3LR2LpgHUjz"
   },
   "outputs": [
    {
     "name": "stderr",
     "output_type": "stream",
     "text": [
      "[nltk_data] Downloading package wordnet to\n",
      "[nltk_data]     C:\\Users\\jumunoz\\AppData\\Roaming\\nltk_data...\n",
      "[nltk_data]   Package wordnet is already up-to-date!\n",
      "[nltk_data] Downloading package averaged_perceptron_tagger to\n",
      "[nltk_data]     C:\\Users\\jumunoz\\AppData\\Roaming\\nltk_data...\n",
      "[nltk_data]   Package averaged_perceptron_tagger is already up-to-\n",
      "[nltk_data]       date!\n",
      "[nltk_data] Downloading package stopwords to\n",
      "[nltk_data]     C:\\Users\\jumunoz\\AppData\\Roaming\\nltk_data...\n",
      "[nltk_data]   Package stopwords is already up-to-date!\n"
     ]
    },
    {
     "data": {
      "text/plain": [
       "True"
      ]
     },
     "execution_count": 13,
     "metadata": {},
     "output_type": "execute_result"
    }
   ],
   "source": [
    "nltk.download('wordnet')\n",
    "nltk.download('averaged_perceptron_tagger')\n",
    "nltk.download('stopwords')"
   ]
  },
  {
   "cell_type": "code",
   "execution_count": 14,
   "metadata": {
    "id": "s6HcsYQKgt3n"
   },
   "outputs": [],
   "source": [
    "#Se eliminan las stopwords,y se hace el Stemming y Lemmatization\n",
    "#Para el lemmatization se requiere del pos_tagging para determinar si una palabra es pronombre, verbo, adjetivo,\n",
    "#etc\n",
    "\n",
    "for index, entry in enumerate(Corpus['text']):\n",
    "\n",
    "    # Se declara una lista vacía para almacenar las palabras finales (después de la limpieza)\n",
    "    Final_words = []\n",
    "\n",
    "    # Se inicializa el WordNetLemmatizer()\n",
    "    word_Lemmatized = WordNetLemmatizer()\n",
    "\n",
    "    for word in entry:\n",
    "\n",
    "        # La siguiente condición filtra las stopwords y considera solo los tokens alfabéticos\n",
    "        if word not in stopwords.words('english') and word.isalpha():\n",
    "            word_Final = word_Lemmatized.lemmatize(word)\n",
    "            Final_words.append(word_Final)\n",
    "\n",
    "    # El conjunto final de palabras procesadas se almacena en 'text_final'\n",
    "\n",
    "    Corpus.loc[index,'text_final'] = str(Final_words)"
   ]
  },
  {
   "cell_type": "markdown",
   "metadata": {
    "id": "gcIMiexdGJjK"
   },
   "source": [
    "Se imprime una muestra del resultado del proceso anterior"
   ]
  },
  {
   "cell_type": "code",
   "execution_count": 15,
   "metadata": {
    "id": "Vs2E8RLpGJjK",
    "scrolled": true
   },
   "outputs": [
    {
     "data": {
      "text/html": [
       "<div>\n",
       "<style scoped>\n",
       "    .dataframe tbody tr th:only-of-type {\n",
       "        vertical-align: middle;\n",
       "    }\n",
       "\n",
       "    .dataframe tbody tr th {\n",
       "        vertical-align: top;\n",
       "    }\n",
       "\n",
       "    .dataframe thead th {\n",
       "        text-align: right;\n",
       "    }\n",
       "</style>\n",
       "<table border=\"1\" class=\"dataframe\">\n",
       "  <thead>\n",
       "    <tr style=\"text-align: right;\">\n",
       "      <th></th>\n",
       "      <th>text</th>\n",
       "      <th>label</th>\n",
       "      <th>text_final</th>\n",
       "    </tr>\n",
       "  </thead>\n",
       "  <tbody>\n",
       "    <tr>\n",
       "      <th>0</th>\n",
       "      <td>[stuning, even, for, the, non-gamer, :, this, ...</td>\n",
       "      <td>__label__2</td>\n",
       "      <td>['stuning', 'even', 'sound', 'track', 'beautif...</td>\n",
       "    </tr>\n",
       "    <tr>\n",
       "      <th>1</th>\n",
       "      <td>[the, best, soundtrack, ever, to, anything, .,...</td>\n",
       "      <td>__label__2</td>\n",
       "      <td>['best', 'soundtrack', 'ever', 'anything', 're...</td>\n",
       "    </tr>\n",
       "    <tr>\n",
       "      <th>2</th>\n",
       "      <td>[amazing, !, :, this, soundtrack, is, my, favo...</td>\n",
       "      <td>__label__2</td>\n",
       "      <td>['amazing', 'soundtrack', 'favorite', 'music',...</td>\n",
       "    </tr>\n",
       "    <tr>\n",
       "      <th>3</th>\n",
       "      <td>[excellent, soundtrack, :, i, truly, like, thi...</td>\n",
       "      <td>__label__2</td>\n",
       "      <td>['excellent', 'soundtrack', 'truly', 'like', '...</td>\n",
       "    </tr>\n",
       "    <tr>\n",
       "      <th>4</th>\n",
       "      <td>[remember, ,, pull, your, jaw, off, the, floor...</td>\n",
       "      <td>__label__2</td>\n",
       "      <td>['remember', 'pull', 'jaw', 'floor', 'hearing'...</td>\n",
       "    </tr>\n",
       "  </tbody>\n",
       "</table>\n",
       "</div>"
      ],
      "text/plain": [
       "                                                text        label  \\\n",
       "0  [stuning, even, for, the, non-gamer, :, this, ...  __label__2    \n",
       "1  [the, best, soundtrack, ever, to, anything, .,...  __label__2    \n",
       "2  [amazing, !, :, this, soundtrack, is, my, favo...  __label__2    \n",
       "3  [excellent, soundtrack, :, i, truly, like, thi...  __label__2    \n",
       "4  [remember, ,, pull, your, jaw, off, the, floor...  __label__2    \n",
       "\n",
       "                                          text_final  \n",
       "0  ['stuning', 'even', 'sound', 'track', 'beautif...  \n",
       "1  ['best', 'soundtrack', 'ever', 'anything', 're...  \n",
       "2  ['amazing', 'soundtrack', 'favorite', 'music',...  \n",
       "3  ['excellent', 'soundtrack', 'truly', 'like', '...  \n",
       "4  ['remember', 'pull', 'jaw', 'floor', 'hearing'...  "
      ]
     },
     "execution_count": 15,
     "metadata": {},
     "output_type": "execute_result"
    }
   ],
   "source": [
    "Corpus.head()"
   ]
  },
  {
   "cell_type": "markdown",
   "metadata": {
    "id": "NXA5DEgAGJjK"
   },
   "source": [
    "PASO -5: Se preparan los datasets de entrenamiento y prueba\n",
    "    \n",
    "El Corpus se divide en dos datasets, entrenamiento y Prueba. El dataset de entrenamiento se usa para ajustarse el modelo y las predicciones se realizarán en el dataset de prueba.\n",
    "Esto se puede hacer a través de train_test_split de la biblioteca de sklearn.\n",
    "Los datos de entrenamiento tendrán el 70% del corpus y los datos de prueba tendrán el 30% restante, ya que hemos establecido el parámetro test_size = 0.3."
   ]
  },
  {
   "cell_type": "code",
   "execution_count": 18,
   "metadata": {
    "id": "WseyNdhQGJjK"
   },
   "outputs": [],
   "source": [
    "Train_X, Test_X, Train_Y, Test_Y = model_selection.train_test_split(Corpus['text_final'],Corpus['label'],test_size=0.3)"
   ]
  },
  {
   "cell_type": "markdown",
   "metadata": {
    "id": "jEoOrfW4i0Rt"
   },
   "source": [
    "![TrainTest.png](data:image/png;base64,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)"
   ]
  },
  {
   "cell_type": "markdown",
   "metadata": {
    "id": "qwGVpovjGJjK"
   },
   "source": [
    "PASO -6: Codificación\n",
    "\n",
    "Se codifican las etiquetas de clase: esto se hace para transformar los datos categóricos de tipo de cadena\n",
    "en un conjunto de datos con valores numéricos para que el modelo los pueda entender."
   ]
  },
  {
   "cell_type": "code",
   "execution_count": 19,
   "metadata": {
    "id": "zFeOOuYQGJjK"
   },
   "outputs": [],
   "source": [
    "Encoder = LabelEncoder()\n",
    "Train_Y = Encoder.fit_transform(Train_Y)\n",
    "Test_Y = Encoder.fit_transform(Test_Y)"
   ]
  },
  {
   "cell_type": "markdown",
   "metadata": {
    "id": "sFjPwEzjGJjK"
   },
   "source": [
    "Se imprime el resultado de este proceso"
   ]
  },
  {
   "cell_type": "code",
   "execution_count": 20,
   "metadata": {
    "id": "ikvzLz_RGJjK"
   },
   "outputs": [
    {
     "data": {
      "text/plain": [
       "(array([1, 0, 0, ..., 0, 1, 1]), array([0, 0, 0, ..., 1, 1, 0]))"
      ]
     },
     "execution_count": 20,
     "metadata": {},
     "output_type": "execute_result"
    }
   ],
   "source": [
    "Train_Y, Test_Y"
   ]
  },
  {
   "cell_type": "markdown",
   "metadata": {
    "id": "I9rZ9PzHGJjK"
   },
   "source": [
    "PASO -7: Vectorización de palabras\n",
    "    \n",
    "Es el proceso general de convertir una colección de documentos de texto en vectores de características numéricas.\n",
    "Existen muchos métodos para convertir datos de texto en vect \"Term Frequency — Inverse Document Frequency \",\n",
    "que son los componentes de las puntuaciones resultantes asignadas a cada palabra.\n",
    "\n",
    "Term Frequency: Esto resume la frecuencia con la que aparece una palabra determinada dentro de un documento.\n",
    "    \n",
    "Inverse Document Frequency: Esta baja la escala de las palabras que aparecen mucho en los documentos.\n",
    "\n",
    "TF-IDF son puntuaciones de frecuencia que intentan resaltar palabras que son más interesantes, por ejemplo, frecuentes en un documento pero no entre documentos.\n",
    "\n",
    "Se construye un vocabulario de palabras aprendidas del corpus con 5 mil palabras únicas cada una considerada como una característica a las que se les asigna un número entero único.\n",
    "\n",
    "Finalmente el conjunto de Train_X y Test_X se convierten en vectores"
   ]
  },
  {
   "cell_type": "code",
   "execution_count": 21,
   "metadata": {
    "id": "pXGpcZ9SGJjK"
   },
   "outputs": [],
   "source": [
    "Tfidf_vect = TfidfVectorizer(max_features=5000)\n",
    "Tfidf_vect.fit(Corpus['text_final'])\n",
    "Train_X_Tfidf = Tfidf_vect.transform(Train_X)\n",
    "Test_X_Tfidf = Tfidf_vect.transform(Test_X)"
   ]
  },
  {
   "cell_type": "markdown",
   "metadata": {
    "id": "HM1WstKRGJjL"
   },
   "source": [
    "Se imprime el vocabulario para visualizarlo"
   ]
  },
  {
   "cell_type": "code",
   "execution_count": 22,
   "metadata": {
    "colab": {
     "base_uri": "https://localhost:8080/"
    },
    "id": "EimISZiEGJjL",
    "outputId": "663deb24-c14d-4e3f-ff4e-556179546b7e",
    "scrolled": false
   },
   "outputs": [
    {
     "name": "stdout",
     "output_type": "stream",
     "text": [
      "{'even': 1495, 'sound': 4127, 'track': 4562, 'beautiful': 364, 'paint': 3128, 'mind': 2816, 'well': 4861, 'would': 4951, 'recomend': 3561, 'people': 3192, 'hate': 2049, 'video': 4760, 'game': 1851, 'music': 2895, 'played': 3266, 'cross': 1005, 'ever': 1499, 'best': 409, 'back': 307, 'away': 298, 'crude': 1009, 'take': 4373, 'step': 4212, 'guitar': 1999, 'orchestra': 3068, 'impress': 2221, 'anyone': 184, 'care': 616, 'listen': 2605, 'soundtrack': 4130, 'anything': 185, 'reading': 3531, 'lot': 2654, 'review': 3702, 'saying': 3824, 'figured': 1669, 'write': 4959, 'disagree': 1211, 'bit': 431, 'ultimate': 4643, 'masterpiece': 2740, 'timeless': 4507, 'listening': 2609, 'year': 4979, 'beauty': 366, 'simply': 4010, 'refuse': 3586, 'price': 3374, 'tag': 4372, 'pretty': 3369, 'must': 2901, 'say': 3823, 'going': 1922, 'buy': 576, 'cd': 652, 'much': 2886, 'money': 2850, 'one': 3047, 'feel': 1648, 'worth': 4947, 'every': 1501, 'penny': 3191, 'amazing': 142, 'favorite': 1634, 'time': 4506, 'hand': 2017, 'intense': 2312, 'sadness': 3792, 'fate': 1629, 'mean': 2757, 'hope': 2142, 'distant': 1250, 'promise': 3417, 'girl': 1899, 'stole': 4233, 'star': 4192, 'important': 2218, 'inspiration': 2285, 'personally': 3213, 'throughout': 4487, 'teen': 4407, 'higher': 2102, 'energy': 1436, 'like': 2584, 'absolutely': 4, 'superb': 4322, 'probably': 3394, 'composer': 861, 'work': 4935, 'heard': 2068, 'ca': 579, 'sure': 4335, 'never': 2946, 'twice': 4630, 'wish': 4911, 'could': 951, 'give': 1901, 'excellent': 1519, 'truly': 4611, 'enjoy': 1444, 'relaxing': 3605, 'disk': 1238, 'life': 2573, 'death': 1077, 'ancient': 158, 'dragon': 1293, 'lost': 2653, 'two': 4634, 'home': 2132, 'girlfriend': 1900, 'three': 4480, 'garden': 1861, 'god': 1920, 'sea': 3864, 'burning': 568, 'tower': 4558, 'radical': 3494, 'brought': 537, 'remember': 3623, 'pull': 3449, 'jaw': 2381, 'floor': 1734, 'hearing': 2069, 'know': 2463, 'single': 4017, 'song': 4109, 'tell': 4412, 'story': 4243, 'good': 1928, 'greatest': 1966, 'without': 4916, 'doubt': 1278, 'magical': 2686, 'wind': 4899, 'jewel': 2395, 'translation': 4578, 'perfect': 3197, 'ask': 246, 'heart': 2070, 'wrote': 4965, 'paper': 3139, 'absolute': 3, 'quite': 3484, 'actually': 44, 'taking': 4375, 'read': 3528, 'least': 2541, 'whether': 4873, 'aware': 297, 'greatly': 1967, 'mood': 2859, 'minute': 2825, 'whole': 4880, 'exact': 1514, 'count': 953, 'remarkable': 3621, 'forget': 1771, 'everything': 1505, 'listener': 2608, 'dancing': 1050, 'slower': 4061, 'haunting': 2053, 'purely': 3462, 'beautifully': 365, 'composed': 860, 'fantastic': 1617, 'vocal': 4787, 'surely': 4336, 'buyer': 577, 'beware': 412, 'book': 473, 'want': 4810, 'paragraph': 3145, 'written': 4963, 'family': 1612, 'friend': 1813, 'perhaps': 3206, 'imagine': 2209, 'thing': 4465, 'spent': 4160, 'evening': 1496, 'piece': 3238, 'another': 174, 'definitely': 1100, 'bad': 312, 'enough': 1451, 'kind': 2448, 'worst': 4946, 'believe': 389, 'amazon': 144, 'sell': 3893, 'maybe': 2751, 'offer': 3031, 'grade': 1946, 'term': 4427, 'kill': 2444, 'anyway': 187, 'unless': 4682, 'send': 3896, 'someone': 4102, 'joke': 2406, 'far': 1619, 'glorious': 1911, 'loved': 2660, 'wicked': 4883, 'saint': 3797, 'pleasantly': 3271, 'surprised': 4343, 'change': 676, 'romance': 3753, 'novel': 2998, 'world': 4941, 'bought': 491, 'brilliant': 525, 'true': 4609, 'wonderful': 4926, 'told': 4526, 'typical': 4636, 'crime': 995, 'becuase': 372, 'missing': 2834, 'warming': 4816, 'five': 1709, 'finished': 1690, 'fell': 1651, 'love': 2658, 'expected': 1545, 'average': 292, 'instead': 2298, 'found': 1786, 'thought': 4475, 'outcome': 3089, 'shocked': 3967, 'descriptive': 1143, 'broke': 534, 'julia': 2416, 'felt': 1654, 'reader': 3530, 'lover': 2662, 'let': 2560, 'cover': 965, 'fool': 1760, 'spectacular': 4151, 'easy': 1361, 'made': 2681, 'keep': 2433, 'put': 3468, 'left': 2547, 'wanting': 4812, 'follow': 1752, 'coming': 825, 'soon': 4113, 'used': 4716, 'gotten': 1941, 'enjoyable': 1445, 'complete': 853, 'waste': 4831, 'error': 1477, 'poor': 3297, 'grammar': 1951, 'totally': 4550, 'pathetic': 3170, 'plot': 3276, 'add': 50, 'nothing': 2993, 'embarrassed': 1414, 'author': 287, 'disappointed': 1214, 'paid': 3124, 'great': 1964, 'fast': 1626, 'boy': 498, 'twist': 4632, 'turn': 4621, 'guessing': 1993, 'happen': 2026, 'next': 2955, 'make': 2695, 'fall': 1606, 'heat': 2071, 'also': 133, 'go': 1918, 'several': 3926, 'emotion': 1417, 'quick': 3478, 'something': 4103, 'end': 1429, 'day': 1067, 'night': 2964, 'yet': 4985, 'realistic': 3535, 'showed': 3983, 'human': 2172, 'fact': 1589, 'writer': 4960, 'loving': 2663, 'side': 3991, 'twisted': 4633, 'turned': 4622, 'glass': 1906, 'castle': 638, 'oh': 3038, 'please': 3272, 'guess': 1992, 'others': 3085, 'drivel': 1309, 'trouble': 4607, 'typo': 4638, 'first': 1700, 'page': 3123, 'removed': 3635, 'wait': 4798, 'point': 3286, 'beginning': 382, 'clear': 766, 'intentional': 2315, 'prose': 3428, 'purpose': 3464, 'glad': 1904, 'awful': 300, 'beyond': 413, 'belief': 387, 'wasting': 4833, 'seems': 3886, 'grader': 1947, 'skill': 4038, 'age': 89, 'reviewer': 3704, 'per': 3194, 'chapter': 681, 'example': 1517, 'mentioned': 2789, 'lean': 2535, 'house': 2162, 'writing': 4962, 'weak': 4844, 'decided': 1085, 'pencil': 3189, 'mark': 2720, 'horrible': 2147, 'spelling': 4156, 'relative': 3602, 'faith': 1604, 'try': 4614, 'fake': 1605, 'obvious': 3016, 'glowing': 1914, 'person': 3210, 'sentence': 3906, 'structure': 4267, 'think': 4466, 'romantic': 3754, 'zen': 4995, 'baseball': 336, 'comedy': 818, 'hear': 2067, 'folk': 1751, 'anymore': 183, 'might': 2806, 'talking': 4381, 'cool': 935, 'young': 4990, 'searching': 3870, 'resort': 3676, 'kitchen': 2455, 'gig': 1897, 'motorcycle': 2872, 'man': 2700, 'italian': 2359, 'right': 3725, 'play': 3265, 'team': 4399, 'owner': 3111, 'often': 3037, 'case': 633, 'honest': 2135, 'always': 139, 'emotional': 1418, 'interaction': 2316, 'player': 3267, 'mix': 2838, 'special': 4147, 'effect': 1383, 'salsa': 3800, 'get': 1889, 'big': 417, 'compression': 865, 'stocking': 4232, 'doctor': 1259, 'required': 3665, 'wear': 4848, 'wore': 4934, 'ugly': 4641, 'white': 4877, 'hose': 2154, 'thick': 4460, 'brown': 538, 'gave': 1866, 'needed': 2935, 'looked': 2641, 'regular': 3595, 'though': 4474, 'blood': 450, 'gone': 1927, 'still': 4225, 'support': 4328, 'leg': 2548, 'nice': 2956, 'note': 2991, 'problem': 3396, 'top': 4538, 'rolling': 3751, 'thigh': 4463, 'tried': 4600, 'hated': 2051, 'skin': 4039, 'pulled': 3450, 'inexpensive': 2260, 'belt': 398, 'fine': 1686, 'help': 2084, 'high': 2101, 'product': 3403, 'however': 2166, 'difficult': 1195, 'older': 3043, 'full': 1827, 'workout': 4940, 'getting': 1890, 'begin': 379, 'roll': 3748, 'create': 982, 'deep': 1091, 'difficulty': 1196, 'size': 4031, 'recomended': 3562, 'chart': 692, 'real': 3533, 'smaller': 4064, 'sheer': 3951, 'item': 2361, 'internet': 2324, 'better': 411, 'store': 4241, 'check': 701, 'men': 2785, 'model': 2845, 'may': 2750, 'ok': 3040, 'type': 4635, 'active': 39, 'around': 224, 'alot': 129, 'job': 2400, 'consistently': 895, 'ankle': 169, 'solution': 4095, 'standard': 4189, 'stock': 4231, 'stay': 4205, 'need': 2934, 'pair': 3131, 'tore': 4541, 'struggled': 4269, 'investment': 2343, 'delicious': 1112, 'funny': 1838, 'knowing': 2464, 'quickly': 3479, 'packaged': 3118, 'noticed': 2996, 'since': 4013, 'convenience': 924, 'wrapped': 4957, 'plastic': 3262, 'surprise': 4342, 'mixing': 2841, 'extremely': 1581, 'sticky': 4223, 'ingredient': 2270, 'extra': 1578, 'butter': 574, 'really': 3540, 'large': 2497, 'chocolate': 722, 'chip': 721, 'addition': 55, 'flavor': 1718, 'digital': 1198, 'copy': 937, 'rather': 3520, 'scratch': 3852, 'random': 3506, 'combined': 814, 'light': 2577, 'vague': 4730, 'image': 2205, 'resolution': 3674, 'packaging': 3119, 'straight': 4247, 'street': 4255, 'corner': 940, 'bootleg': 478, 'seen': 3887, 'reasonably': 3544, 'condition': 876, 'film': 1674, 'visuals': 4783, 'crystal': 1012, 'lighting': 2579, 'contrast': 916, 'black': 435, 'surrounding': 4348, 'countryside': 958, 'scene': 3835, 'set': 3922, 'early': 1350, 'morning': 2864, 'ground': 1982, 'memory': 2784, 'event': 1497, 'bridge': 522, 'water': 4838, 'bright': 524, 'dull': 1330, 'dark': 1055, 'captain': 608, 'command': 826, 'hard': 2034, 'award': 296, 'winning': 4904, 'acclaimed': 20, 'presentation': 3360, 'youtube': 4993, 'somewhere': 4107, 'dvd': 1338, 'come': 816, 'public': 3443, 'library': 2569, 'none': 2980, 'appear': 199, 'fascinating': 1623, 'insight': 2282, 'modern': 2846, 'japanese': 2377, 'thoroughly': 4472, 'enjoyed': 1446, 'rising': 3732, 'son': 4108, 'daughter': 1063, 'look': 2640, 'society': 4084, 'view': 4761, 'parent': 3150, 'culture': 1017, 'community': 835, 'western': 4864, 'form': 1775, 'new': 2947, 'japan': 2376, 'seem': 3883, 'creating': 985, 'international': 2323, 'blend': 443, 'demonstrates': 1124, 'private': 3391, 'member': 2781, 'steven': 4218, 'clearly': 767, 'talented': 4378, 'adopted': 64, 'four': 1788, 'thus': 4493, 'able': 2, 'inside': 2281, 'liked': 2586, 'album': 113, 'listened': 2607, 'blue': 456, 'angel': 161, 'hair': 2009, 'rose': 3761, 'singer': 4015, 'talent': 4377, 'find': 1684, 'charging': 687, 'charger': 686, 'charge': 684, 'aa': 0, 'battery': 349, 'huge': 2170, 'flip': 1731, 'little': 2616, 'button': 575, 'positive': 3316, 'pop': 3299, 'wo': 4919, 'hold': 2122, 'mechanism': 2766, 'became': 368, 'loose': 2644, 'pressure': 3366, 'push': 3465, 'using': 4721, 'tape': 4386, 'segment': 3888, 'apply': 206, 'wrap': 4956, 'painful': 3126, 'advertised': 73, 'instruction': 2299, 'dont': 1273, 'done': 1272, 'hour': 2161, 'returned': 3694, 'thinking': 4467, 'kept': 2437, 'useless': 4718, 'backup': 311, 'manage': 2701, 'drain': 1294, 'purchase': 3458, 'convenient': 925, 'last': 2502, 'short': 3976, 'longer': 2639, 'dear': 1076, 'excited': 1526, 'muslim': 2900, 'volume': 4790, 'live': 2617, 'essay': 1481, 'among': 150, 'describes': 1140, 'explain': 1555, 'woman': 4923, 'cape': 606, 'town': 4559, 'claim': 751, 'separate': 3907, 'equal': 1468, 'hoped': 2143, 'feminist': 1657, 'female': 1655, 'based': 337, 'christmas': 735, 'present': 3359, 'deciding': 1087, 'join': 2404, 'rest': 3684, 'vhs': 4751, 'movie': 2881, 'tv': 4628, 'choice': 723, 'agree': 94, 'awkward': 302, 'selection': 3891, 'option': 3066, 'hang': 2024, 'comment': 827, 'complicated': 857, 'many': 2713, 'remote': 3631, 'rely': 3615, 'heavily': 2075, 'manual': 2710, 'setting': 3923, 'vcr': 4740, 'timer': 4509, 'enter': 1452, 'start': 4196, 'complaint': 852, 'incorrect': 2243, 'disc': 1218, 'fan': 1614, 'saw': 3822, 'unit': 4676, 'return': 3693, 'section': 3876, 'happy': 2033, 'sends': 3898, 'click': 771, 'receiver': 3553, 'transition': 4576, 'smooth': 4074, 'fairly': 1602, 'message': 2796, 'nut': 3008, 'television': 4411, 'bookshelf': 475, 'audio': 279, 'system': 4369, 'car': 613, 'came': 589, 'move': 2878, 'room': 3758, 'old': 3042, 'knew': 2457, 'combo': 815, 'except': 1520, 'cable': 581, 'box': 496, 'control': 919, 'input': 2278, 'programming': 3413, 'mono': 2853, 'wife': 4890, 'difference': 1192, 'titled': 4520, 'hollywood': 2128, 'ridiculous': 3721, 'wonder': 4924, 'script': 3860, 'making': 2698, 'mountain': 2875, 'lion': 2598, 'break': 509, 'trailer': 4570, 'behind': 385, 'notice': 2994, 'captured': 612, 'jail': 2369, 'cell': 656, 'utterly': 4728, 'completely': 854, 'stupid': 4280, 'bet': 410, 'hotel': 2159, 'show': 3981, 'feature': 1638, 'incredible': 2245, 'acting': 37, 'bbc': 353, 'soap': 4082, 'max': 2749, 'starring': 4195, 'mariah': 2717, 'drama': 1295, 'series': 3913, 'opera': 3056, 'mixed': 2839, 'aired': 104, 'america': 146, 'seeing': 3880, 'got': 1939, 'episode': 1466, 'season': 3871, 'finale': 1680, 'interesting': 2319, 'reminds': 3628, 'reason': 3542, 'fictional': 1662, 'san': 3805, 'francisco': 1796, 'recommend': 3563, 'willing': 4896, 'watch': 4834, 'already': 131, 'law': 2518, 'school': 3841, 'seriously': 3915, 'unfortunately': 4669, 'entertaining': 1454, 'ordered': 3070, 'hip': 2112, 'daddy': 1040, 'vibe': 4753, 'fourth': 1789, 'class': 757, 'main': 2689, 'playing': 3268, 'voice': 4788, 'trying': 4615, 'happening': 2028, 'party': 3159, 'anywhere': 189, 'laughed': 2513, 'beach': 356, 'growing': 1985, 'surfer': 4339, 'southern': 4134, 'california': 584, 'brother': 536, 'honestly': 2136, 'kinda': 2449, 'surf': 4337, 'explains': 1558, 'wondering': 4928, 'hell': 2082, 'happened': 2027, 'moral': 2862, 'aspect': 251, 'american': 147, 'explanation': 1559, 'simple': 4007, 'become': 369, 'focused': 1748, 'individual': 2256, 'ignored': 2197, 'personal': 3211, 'responsibility': 3682, 'final': 1679, 'response': 3681, 'robert': 3740, 'seller': 3894, 'looking': 2642, 'state': 4200, 'medium': 2772, 'politics': 3294, 'general': 1873, 'head': 2059, 'substantial': 4289, 'challenge': 671, 'lie': 2572, 'being': 386, 'larry': 2500, 'label': 2475, 'late': 2505, 'exploring': 1565, 'rich': 3716, 'jazz': 2384, 'grew': 1972, 'musician': 2897, 'stand': 4188, 'mile': 2810, 'mac': 2676, 'line': 2594, 'window': 4900, 'order': 3069, 'frustrating': 1823, 'attempt': 269, 'touched': 4552, 'use': 4715, 'mouse': 2876, 'arrow': 230, 'keyboard': 2440, 'fun': 1829, 'disapointed': 1212, 'attention': 273, 'long': 2638, 'level': 2564, 'rescue': 3668, 'hero': 2092, 'dog': 1264, 'former': 1779, 'repeatedly': 3646, 'attempting': 271, 'recipe': 3558, 'throw': 4488, 'cup': 1019, 'nearly': 2929, 'ed': 1371, 'wood': 4930, 'flawlessly': 1722, 'lisa': 2602, 'wild': 4892, 'bread': 508, 'novice': 3000, 'worked': 4937, 'place': 3252, 'reliable': 3611, 'concise': 874, 'information': 2267, 'starting': 4199, 'fabulous': 1586, 'pas': 3160, 'historical': 2114, 'cost': 947, 'alaska': 111, 'visiting': 4779, 'starter': 4198, 'collection': 805, 'advise': 77, 'ruth': 3786, 'picture': 3236, 'past': 3166, 'ago': 93, 'mixer': 2840, 'stuff': 4277, 'pot': 3326, 'lived': 2618, 'closer': 782, 'download': 1282, 'decade': 1081, 'background': 309, 'dance': 1048, 'melody': 2779, 'english': 1442, 'lyric': 2674, 'see': 3879, 'else': 1406, 'downloaded': 1283, 'via': 4752, 'happily': 2031, 'ipod': 2346, 'experience': 1550, 'fm': 1745, 'sometimes': 4105, 'quality': 3471, 'screen': 3856, 'thru': 4491, 'middle': 2804, 'plus': 3279, 'dead': 1070, 'layout': 2521, 'sense': 3901, 'engineering': 1440, 'imo': 2213, 'refund': 3584, 'name': 2909, 'flat': 1717, 'panel': 3137, 'lcd': 2524, 'built': 556, 'weight': 4858, 'space': 4136, 'saving': 3821, 'attractive': 277, 'design': 1148, 'sharp': 3949, 'negative': 2939, 'function': 1830, 'key': 2439, 'due': 1327, 'color': 808, 'almost': 126, 'carefully': 620, 'designed': 1149, 'terrible': 4429, 'birthday': 429, 'failed': 1597, 'junk': 2426, 'capable': 604, 'recall': 3547, 'flash': 1715, 'channel': 679, 'sony': 4112, 'universal': 4678, 'learned': 2538, 'factory': 1591, 'deal': 1072, 'user': 4719, 'annoying': 173, 'replace': 3650, 'tube': 4616, 'gained': 1849, 'larger': 2499, 'counter': 954, 'internal': 2322, 'bonus': 471, 'defective': 1096, 'purchased': 3459, 'electronics': 1399, 'express': 1571, 'contacted': 902, 'number': 3005, 'picked': 3233, 'arrived': 229, 'week': 4855, 'later': 2507, 'clarity': 755, 'mode': 2844, 'loud': 2655, 'rv': 3787, 'running': 3780, 'barely': 331, 'solved': 4097, 'jack': 2366, 'stereo': 4215, 'speaker': 4142, 'lightweight': 2583, 'antenna': 176, 'opinion': 3060, 'biased': 415, 'angle': 163, 'europe': 1491, 'clean': 763, 'proper': 3425, 'fails': 1599, 'shed': 3950, 'understand': 4660, 'guide': 1995, 'tour': 4555, 'country': 957, 'forgotten': 1774, 'reference': 3576, 'travel': 4582, 'detail': 1161, 'disappointment': 1216, 'realy': 3541, 'everybody': 1502, 'combination': 812, 'illustration': 2203, 'text': 4440, 'overall': 3099, 'sight': 3993, 'city': 748, 'european': 1492, 'thank': 4445, 'lonely': 2637, 'planet': 3258, 'info': 2266, 'ended': 1431, 'buying': 578, 'surface': 4338, 'received': 3552, 'moving': 2882, 'germany': 1888, 'wanted': 4811, 'overview': 3107, 'greece': 1969, 'spanish': 4138, 'sort': 4123, 'printing': 3387, 'highlight': 2104, 'course': 961, 'kid': 2442, 'jay': 2383, 'eric': 1474, 'tender': 4423, 'rocking': 3745, 'either': 1392, 'depends': 1129, 'sent': 3905, 'foot': 1762, 'accept': 13, 'figure': 1668, 'way': 4842, 'gift': 1895, 'husband': 2182, 'date': 1060, 'disappointing': 1215, 'plate': 3263, 'inferior': 2261, 'previous': 3372, 'edition': 1377, 'known': 2467, 'ahead': 97, 'homer': 2133, 'helpful': 2086, 'gem': 1872, 'complex': 855, 'subject': 4285, 'second': 3873, 'century': 663, 'religious': 3614, 'authority': 288, 'serious': 3914, 'period': 3207, 'essential': 1483, 'detailed': 1162, 'argue': 219, 'yes': 4983, 'cardboard': 615, 'beat': 361, 'cheesy': 706, 'finish': 1689, 'worn': 4942, 'across': 34, 'entire': 1458, 'solid': 4092, 'decent': 1083, 'distance': 1249, 'noticeable': 2995, 'plenty': 3275, 'material': 2743, 'loosely': 2645, 'bottom': 490, 'shipping': 3963, 'said': 3796, 'damage': 1044, 'risk': 3733, 'unknown': 4681, 'africa': 85, 'expect': 1543, 'produced': 3400, 'mixture': 2842, 'african': 86, 'feeling': 1649, 'soft': 4086, 'fit': 1705, 'recorded': 3567, 'france': 1794, 'paris': 3151, 'professional': 3406, 'working': 4939, 'hot': 2158, 'lazy': 2522, 'expectation': 1544, 'shoe': 3970, 'ripped': 3729, 'apart': 192, 'sole': 4091, 'clark': 756, 'sadly': 3791, 'within': 4915, 'month': 2858, 'similar': 4004, 'holding': 2124, 'profound': 3410, 'narrative': 2913, 'style': 4283, 'famous': 1613, 'john': 2402, 'frequently': 1808, 'carry': 628, 'tone': 4533, 'amateur': 140, 'historian': 2113, 'passing': 3163, 'neither': 2941, 'graduate': 1948, 'considered': 892, 'represents': 3659, 'today': 4521, 'research': 3669, 'thin': 4464, 'essentially': 1484, 'primary': 3379, 'secondary': 3874, 'source': 4132, 'rated': 3519, 'yr': 4994, 'barbie': 328, 'computer': 866, 'enjoying': 1447, 'worried': 4943, 'vibrant': 4754, 'friendly': 1814, 'started': 4197, 'ton': 4532, 'together': 4525, 'finding': 1685, 'alone': 127, 'creativity': 988, 'adventure': 72, 'addicted': 52, 'opening': 3055, 'singing': 4016, 'non': 2979, 'stop': 4237, 'solving': 4098, 'prince': 3382, 'sings': 4018, 'took': 4535, 'save': 3819, 'cry': 1011, 'child': 714, 'currently': 1025, 'bedroom': 375, 'result': 3687, 'painting': 3130, 'coloring': 810, 'halfway': 2011, 'program': 3411, 'hung': 2178, 'leave': 2543, 'exit': 1539, 'frozen': 1821, 'spot': 4175, 'urge': 4709, 'explore': 1562, 'software': 4088, 'site': 4024, 'fault': 1631, 'hoping': 2145, 'catch': 641, 'bug': 551, 'caught': 646, 'buck': 543, 'avoid': 294, 'creative': 987, 'granddaughter': 1954, 'plan': 3256, 'imagination': 2207, 'fight': 1665, 'choose': 724, 'theme': 4452, 'allows': 124, 'power': 3332, 'stone': 4235, 'bring': 527, 'animation': 167, 'boring': 483, 'adult': 67, 'scheme': 3838, 'pattern': 3175, 'bored': 481, 'highly': 2105, 'rental': 3640, 'exciting': 1528, 'basically': 340, 'sister': 4022, 'classic': 758, 'requires': 3666, 'multiple': 2890, 'slow': 4060, 'access': 15, 'everytime': 1506, 'task': 4389, 'sequence': 3910, 'throwing': 4489, 'saved': 3820, 'file': 1670, 'crash': 977, 'possible': 3318, 'grand': 1952, 'patience': 3171, 'survive': 4350, 'trial': 4596, 'substitute': 4290, 'vendor': 4746, 'feedback': 1644, 'rate': 3518, 'bother': 487, 'future': 1841, 'company': 838, 'mistake': 2836, 'spend': 4157, 'hundred': 2177, 'dollar': 1268, 'building': 555, 'careful': 619, 'smell': 4068, 'bottle': 489, 'delicate': 1111, 'summer': 4318, 'impressed': 2222, 'creepy': 992, 'wow': 4955, 'revenge': 3700, 'door': 1274, 'open': 3052, 'prepared': 3356, 'didnt': 1188, 'menu': 2790, 'stated': 4201, 'package': 3117, 'exist': 1534, 'matter': 2746, 'exception': 1521, 'dubbing': 1324, 'title': 4519, 'sub': 4284, 'par': 3141, 'remain': 3616, 'shame': 3942, 'original': 3078, 'offering': 3033, 'shock': 3966, 'sooo': 4115, 'official': 3036, 'record': 3566, 'production': 3404, 'fallen': 1607, 'screw': 3859, 'pioneer': 3246, 'sad': 3790, 'ya': 4974, 'rap': 3511, 'ta': 4370, 'blow': 452, 'jam': 2370, 'ride': 3720, 'underrated': 4659, 'houston': 2164, 'pat': 3167, 'steve': 4217, 'regardless': 3591, 'alive': 119, 'keeping': 2435, 'legacy': 2549, 'dirty': 1210, 'south': 4133, 'guest': 1994, 'fat': 1628, 'chris': 730, 'chronicle': 737, 'farm': 1622, 'photo': 3224, 'version': 4749, 'bill': 421, 'history': 2115, 'relationship': 3601, 'treasure': 4588, 'keeper': 2434, 'air': 101, 'idea': 2189, 'draw': 1297, 'comfy': 823, 'warm': 4814, 'run': 3779, 'cake': 583, 'topper': 4540, 'june': 2423, 'given': 1902, 'july': 2419, 'went': 4862, 'receiving': 3554, 'wrong': 4964, 'pearl': 3184, 'kit': 2454, 'cute': 1033, 'provide': 3436, 'annoyed': 172, 'included': 2236, 'trust': 4612, 'promised': 3418, 'additional': 56, 'sweet': 4357, 'grace': 1945, 'email': 1410, 'supply': 4327, 'list': 2603, 'sheet': 3952, 'ready': 3532, 'boot': 477, 'contact': 901, 'phone': 3223, 'manufacturer': 2712, 'wishing': 4912, 'unreliable': 4690, 'critic': 999, 'consumer': 900, 'alike': 118, 'released': 3607, 'rock': 3742, 'debut': 1080, 'radio': 3495, 'hit': 2116, 'band': 322, 'hopefully': 2144, 'release': 3606, 'club': 790, 'sale': 3799, 'practically': 3336, 'leap': 2536, 'grab': 1943, 'neck': 2933, 'upcoming': 4697, 'omg': 3045, 'saturday': 3818, 'jamming': 2373, 'cause': 647, 'classical': 759, 'jason': 2379, 'lead': 2526, 'moment': 2849, 'relief': 3612, 'suggest': 4309, 'skipping': 4042, 'releasing': 3608, 'finally': 1681, 'horribly': 2148, 'lacked': 2480, 'mystery': 2903, 'ten': 4421, 'educational': 1380, 'train': 4571, 'shape': 3943, 'puzzle': 3470, 'range': 3507, 'silly': 4002, 'odd': 3025, 'theory': 4454, 'concert': 873, 'string': 4261, 'appreciate': 207, 'excelent': 1518, 'rendition': 3638, 'caution': 650, 'remastered': 3622, 'irrelevant': 2353, 'textbook': 4441, 'shipped': 3962, 'transaction': 4573, 'engaging': 1437, 'te': 4394, 'washed': 4826, 'shore': 3975, 'colin': 800, 'wash': 4825, 'opposite': 3062, 'call': 585, 'trashy': 4581, 'expecting': 1546, 'usually': 4724, 'tied': 4497, 'wearing': 4849, 'heroine': 2093, 'part': 3153, 'content': 907, 'island': 2356, 'solitude': 4093, 'fear': 1636, 'strange': 4248, 'strike': 4260, 'friendship': 1815, 'discovers': 1225, 'courage': 960, 'amusing': 153, 'loses': 2650, 'mostly': 2866, 'characterization': 683, 'character': 682, 'introduced': 2334, 'sided': 3992, 'behavior': 384, 'lack': 2479, 'development': 1170, 'forced': 1767, 'improve': 2225, 'towards': 4557, 'skip': 4040, 'portable': 3307, 'drive': 1308, 'performance': 3201, 'constantly': 897, 'half': 2010, 'uncomfortable': 4655, 'pant': 3138, 'incredibly': 2246, 'stiff': 4224, 'authentic': 286, 'encounter': 1426, 'yoruba': 4989, 'helping': 2087, 'particular': 3155, 'certain': 665, 'nuance': 3002, 'spoke': 4172, 'anybody': 182, 'clue': 791, 'leaf': 2530, 'question': 3477, 'unanswered': 4650, 'giving': 1903, 'learn': 2537, 'impossible': 2220, 'native': 2920, 'confusing': 882, 'teach': 4396, 'provides': 3438, 'basic': 339, 'vocabulary': 4786, 'specific': 4149, 'vehicle': 4743, 'correct': 944, 'mat': 2741, 'therefore': 4458, 'sits': 4025, 'grandchild': 1953, 'value': 4733, 'challenging': 673, 'miss': 2832, 'toe': 4523, 'kelly': 2436, 'pet': 3215, 'parade': 3144, 'dress': 1304, 'pony': 3295, 'jump': 2420, 'etc': 1489, 'animal': 165, 'nail': 2908, 'float': 1733, 'showing': 3985, 'accomplished': 24, 'along': 128, 'wonderfully': 4927, 'installed': 2292, 'laptop': 2495, 'tough': 4554, 'bear': 359, 'fish': 1701, 'finger': 1688, 'pad': 3121, 'easier': 1356, 'load': 2623, 'different': 1193, 'prepare': 3355, 'endless': 1433, 'graphic': 1960, 'colorful': 809, 'winner': 4903, 'issue': 2358, 'activity': 40, 'slip': 4056, 'heel': 2078, 'satisfied': 3816, 'manner': 2707, 'awesome': 299, 'advertisement': 74, 'uk': 4642, 'touch': 4551, 'assuming': 259, 'available': 291, 'england': 1441, 'arcade': 213, 'ive': 2364, 'fooled': 1761, 'guy': 2003, 'compatible': 844, 'machine': 2678, 'deeply': 1093, 'stage': 4186, 'revolution': 3706, 'equivalent': 1472, 'lacking': 2482, 'favourite': 1635, 'killed': 2445, 'situation': 4027, 'lucky': 2670, 'newest': 2949, 'letter': 2562, 'admit': 62, 'michael': 2803, 'montgomery': 2857, 'finest': 1687, 'approach': 210, 'couple': 959, 'latest': 2508, 'beer': 376, 'spice': 4161, 'deserves': 1147, 'cuz': 1035, 'soldier': 4090, 'punk': 3456, 'hr': 2168, 'ball': 317, 'este': 1487, 'libro': 2570, 'lo': 2622, 'que': 3474, 'el': 1393, 'si': 3989, 'de': 1069, 'con': 867, 'mi': 2802, 'ex': 1513, 'cereal': 664, 'hooked': 2140, 'eat': 1362, 'especially': 1480, 'taste': 4390, 'hungry': 2179, 'bunch': 563, 'filled': 1672, 'word': 4932, 'warning': 4822, 'local': 2625, 'walmart': 4806, 'stopped': 4238, 'carrying': 629, 'including': 2238, 'church': 739, 'small': 4063, 'bowl': 495, 'timber': 4505, 'frame': 1793, 'build': 554, 'technical': 4402, 'joint': 2405, 'span': 4137, 'mill': 2812, 'museum': 2894, 'master': 2738, 'recent': 3555, 'trip': 4602, 'avid': 293, 'inclined': 2234, 'various': 4738, 'illustrated': 2202, 'practical': 3335, 'outstanding': 3098, 'although': 136, 'construction': 899, 'invaluable': 2339, 'process': 3398, 'considering': 893, 'editing': 1376, 'placed': 3253, 'cap': 603, 'traditional': 4566, 'pick': 3232, 'print': 3384, 'drawing': 1299, 'project': 3416, 'searched': 3869, 'temperature': 4415, 'describe': 1138, 'egg': 1387, 'transfer': 4574, 'needle': 2937, 'intelligent': 2309, 'immediately': 2211, 'lose': 2648, 'explicit': 1560, 'war': 4813, 'coast': 793, 'pc': 3180, 'biggest': 419, 'sink': 4020, 'meant': 2761, 'race': 3489, 'landscape': 2490, 'slide': 4051, 'total': 4547, 'rubbish': 3771, 'mine': 2819, 'ireland': 2348, 'florida': 1737, 'henry': 2090, 'nose': 2989, 'chewed': 710, 'nobody': 2974, 'dad': 1039, 'ill': 2200, 'significance': 3998, 'battle': 350, 'obsession': 3015, 'threw': 4481, 'followed': 1753, 'replacement': 3652, 'closet': 784, 'shelf': 3953, 'thread': 4479, 'bare': 330, 'online': 3048, 'le': 2525, 'opened': 3053, 'thanks': 4447, 'disney': 1240, 'toy': 4561, 'six': 4028, 'contemporary': 906, 'delight': 1113, 'snow': 4080, 'grown': 1986, 'ups': 4704, 'act': 35, 'rewarding': 3710, 'forward': 1785, 'sketch': 4037, 'excitement': 1527, 'actual': 43, 'rendering': 3637, 'beginner': 381, 'thrilled': 4483, 'instructional': 2300, 'match': 2742, 'cushion': 1029, 'description': 1142, 'delivered': 1117, 'impression': 2223, 'receive': 3551, 'insert': 2280, 'attach': 266, 'strap': 4251, 'definately': 1098, 'luckily': 2669, 'policy': 3290, 'laugh': 2511, 'free': 1803, 'sex': 3929, 'publishing': 3448, 'broadway': 533, 'theatre': 4450, 'archive': 215, 'ruined': 3775, 'costume': 948, 'absurd': 7, 'blanket': 441, 'worse': 4945, 'btw': 541, 'director': 1209, 'appears': 202, 'goal': 1919, 'intention': 2314, 'recording': 3568, 'extended': 1574, 'drinking': 1307, 'sit': 4023, 'blurry': 460, 'returning': 3695, 'depending': 1128, 'audience': 278, 'charming': 691, 'chance': 674, 'student': 4272, 'compilation': 848, 'chose': 729, 'performed': 3202, 'artist': 235, 'poorly': 3298, 'covered': 967, 'wave': 4841, 'prior': 3388, 'sung': 4320, 'garbage': 1859, 'prompt': 3420, 'november': 2999, 'nowhere': 3001, 'group': 1983, 'performs': 3205, 'duh': 1328, 'trash': 4580, 'wedding': 4854, 'session': 3921, 'sounding': 4129, 'sing': 4014, 'cheap': 696, 'died': 1190, 'replaced': 3651, 'camera': 590, 'continue': 909, 'faster': 1627, 'closed': 780, 'tech': 4401, 'mr': 2883, 'curious': 1023, 'producer': 3401, 'realized': 3538, 'reveal': 3696, 'crucial': 1008, 'unbelievable': 4652, 'earlier': 1349, 'ending': 1432, 'detective': 1163, 'speak': 4141, 'abuse': 8, 'talk': 4379, 'childhood': 716, 'forgive': 1772, 'successful': 4295, 'spite': 4167, 'lord': 2646, 'refer': 3575, 'peter': 3216, 'major': 2693, 'league': 2531, 'score': 3849, 'extensive': 1576, 'resource': 3677, 'tomorrow': 4531, 'till': 4503, 'massive': 2737, 'living': 2620, 'subscription': 4286, 'coverage': 966, 'minor': 2823, 'college': 807, 'brand': 504, 'steer': 4210, 'secret': 3875, 'joe': 2401, 'al': 108, 'intriguing': 2331, 'influenced': 2265, 'titan': 4517, 'exploration': 1561, 'seemed': 3884, 'jet': 2394, 'craft': 973, 'fuel': 1826, 'atmosphere': 264, 'originally': 3080, 'intrigue': 2329, 'intrigued': 2330, 'father': 1630, 'mission': 2835, 'reality': 3536, 'fantasy': 1618, 'david': 1065, 'asimov': 245, 'block': 448, 'obviously': 3017, 'noise': 2976, 'easily': 1358, 'identify': 2192, 'banana': 321, 'penguin': 3190, 'frustrated': 1822, 'tends': 4424, 'wall': 4805, 'dropping': 1315, 'stepped': 4214, 'treatment': 4591, 'art': 231, 'collector': 806, 'twin': 4631, 'learning': 2539, 'tool': 4536, 'fisher': 1702, 'spin': 4163, 'queen': 3475, 'banging': 324, 'plain': 3255, 'wooden': 4931, 'object': 3010, 'opportunity': 3061, 'eye': 1583, 'purchasing': 3460, 'decision': 1088, 'overnight': 3103, 'rocket': 3743, 'scientist': 3845, 'dissapointing': 1246, 'concept': 869, 'baby': 306, 'mother': 2867, 'shake': 3936, 'imaginative': 2208, 'edge': 1373, 'safety': 3794, 'grandson': 1957, 'goodness': 1930, 'shopping': 3974, 'interested': 2318, 'adorable': 65, 'upgrade': 4700, 'format': 1776, 'storage': 4240, 'listed': 2604, 'researched': 3670, 'durable': 1335, 'perfectly': 3199, 'hurt': 2181, 'category': 643, 'factor': 1590, 'younger': 4991, 'fully': 1828, 'comprehend': 863, 'dig': 1197, 'waterproof': 4839, 'compared': 840, 'whale': 4866, 'mary': 2734, 'study': 4275, 'communication': 832, 'studied': 4273, 'washington': 4829, 'direct': 1204, 'nifty': 2963, 'halloween': 2013, 'dummy': 1332, 'forgot': 1773, 'search': 3868, 'certainly': 666, 'campaign': 593, 'academic': 10, 'organization': 3075, 'dedicated': 1090, 'propaganda': 3424, 'office': 3034, 'regularly': 3596, 'hide': 2099, 'terrorist': 4434, 'weapon': 4847, 'violence': 4770, 'intended': 2311, 'innocent': 2276, 'extreme': 1580, 'formula': 1780, 'fortunately': 1783, 'hesitate': 2094, 'knock': 2460, 'chinese': 720, 'green': 1971, 'red': 3570, 'logo': 2633, 'fx': 1845, 'serial': 3912, 'handful': 2019, 'memorable': 2783, 'wing': 4902, 'blame': 438, 'self': 3892, 'sorry': 4122, 'travesty': 4586, 'watched': 4836, 'letting': 2563, 'killer': 2446, 'supernatural': 4325, 'storyline': 4244, 'hole': 2125, 'gory': 1936, 'stephen': 4213, 'initially': 2272, 'indie': 2255, 'horror': 2152, 'flick': 1727, 'jennifer': 2389, 'weekend': 4856, 'bernie': 406, 'terry': 4435, 'actor': 41, 'lol': 2634, 'anyways': 188, 'mask': 2735, 'maker': 2696, 'horrifying': 2151, 'suspense': 4353, 'shocking': 3968, 'displayed': 1242, 'effort': 1386, 'dialogue': 1180, 'tree': 4592, 'root': 3759, 'yard': 4975, 'knee': 2456, 'cinematic': 742, 'path': 3169, 'typically': 4637, 'predictable': 3345, 'fashion': 1624, 'murder': 2892, 'victim': 4758, 'us': 4710, 'face': 1587, 'achieve': 30, 'motivation': 2870, 'entry': 1461, 'familiar': 1611, 'cast': 636, 'effective': 1384, 'treat': 4589, 'williams': 4895, 'role': 3747, 'lee': 2546, 'leading': 2529, 'equally': 1469, 'ii': 2198, 'filmmaker': 1677, 'borrowed': 486, 'everyone': 1504, 'turning': 4624, 'unimaginative': 4671, 'happens': 2029, 'exactly': 1515, 'fright': 1816, 'safe': 3793, 'brief': 523, 'appearance': 200, 'icon': 2188, 'genre': 1881, 'allowed': 122, 'artifact': 234, 'card': 614, 'yellow': 4980, 'ordinary': 3072, 'holocaust': 2130, 'diary': 1184, 'printed': 3385, 'eastern': 1360, 'medicine': 2770, 'healing': 2064, 'dissappointed': 1248, 'unhappy': 4670, 'primer': 3381, 'basis': 341, 'application': 205, 'philosophy': 3222, 'natural': 2921, 'balance': 315, 'nature': 2923, 'informative': 2268, 'redundant': 3574, 'combat': 811, 'pleasure': 3274, 'respect': 3678, 'ambient': 145, 'enthusiast': 1457, 'whatsoever': 4869, 'darn': 1058, 'guitarist': 2000, 'showcase': 3982, 'utopia': 4725, 'dissapointed': 1245, 'direction': 1207, 'taken': 4374, 'pay': 3178, 'pillow': 3241, 'smelled': 4069, 'close': 779, 'sending': 3897, 'softer': 4087, 'post': 3320, 'tiny': 4512, 'foam': 1746, 'replacing': 3653, 'worthless': 4948, 'amount': 151, 'whatever': 4867, 'super': 4321, 'handle': 2020, 'heavy': 2076, 'dense': 1125, 'cant': 601, 'sleeping': 4049, 'otherwise': 3086, 'position': 3315, 'width': 4888, 'lay': 2519, 'false': 1609, 'military': 2811, 'dealing': 1073, 'changed': 677, 'pic': 3231, 'emailed': 1411, 'serum': 3916, 'rid': 3719, 'weather': 4850, 'somehow': 4101, 'double': 1277, 'ai': 98, 'fix': 1710, 'slightly': 4054, 'shop': 3973, 'grocery': 1979, 'dick': 1185, 'provoking': 3440, 'winter': 4906, 'suited': 4315, 'advanced': 70, 'powerful': 3334, 'prefer': 3347, 'outfit': 3093, 'controlled': 920, 'automatically': 289, 'exchange': 1525, 'hello': 2083, 'skating': 4034, 'technique': 4403, 'body': 464, 'split': 4168, 'muscle': 2893, 'asking': 248, 'watching': 4837, 'consider': 891, 'worthwhile': 4949, 'stink': 4228, 'scream': 3854, 'ice': 2187, 'simplistic': 4009, 'onto': 3049, 'enjoyment': 1448, 'low': 2664, 'dud': 1325, 'somebody': 4099, 'thats': 4448, 'sake': 3798, 'seven': 3925, 'enjoys': 1449, 'xp': 4972, 'frustration': 1824, 'experienced': 1551, 'crowd': 1007, 'crashed': 978, 'despite': 1156, 'practice': 3337, 'trick': 4599, 'learns': 2540, 'yesterday': 4984, 'confidence': 877, 'moved': 2879, 'smoothly': 4075, 'called': 586, 'gentleman': 1883, 'la': 2473, 'rating': 3521, 'pity': 3251, 'delivery': 1119, 'mail': 2688, 'joy': 2411, 'rare': 3514, 'dose': 1275, 'focus': 1747, 'fire': 1693, 'truck': 4608, 'pleased': 3273, 'horse': 2153, 'imagery': 2206, 'newspaper': 2953, 'afternoon': 87, 'reviewing': 3705, 'supplier': 4326, 'waiting': 4800, 'reply': 3654, 'nasty': 2916, 'address': 57, 'apartment': 193, 'switch': 4360, 'outlet': 3094, 'standing': 4190, 'eight': 1391, 'plug': 3277, 'device': 1172, 'hitch': 2117, 'mystical': 2904, 'relax': 3604, 'dr': 1289, 'legend': 2551, 'stranger': 4250, 'dream': 1302, 'surreal': 4346, 'symbolism': 4364, 'someday': 4100, 'peace': 3182, 'shine': 3959, 'land': 2489, 'captivating': 610, 'lj': 2621, 'smith': 4071, 'ash': 240, 'teenage': 4408, 'charm': 690, 'humor': 2174, 'paranormal': 3149, 'disaster': 1217, 'area': 216, 'darkness': 1057, 'protect': 3430, 'happiness': 2032, 'possibly': 3319, 'remains': 3619, 'instantly': 2297, 'poetry': 3284, 'respond': 3679, 'personality': 3212, 'vampire': 4735, 'vision': 4776, 'trilogy': 4601, 'recommended': 3565, 'recognized': 3560, 'soulmate': 4126, 'unrealistic': 4689, 'tune': 4619, 'male': 2699, 'attraction': 276, 'witch': 4914, 'instance': 2295, 'calling': 587, 'legendary': 2552, 'gel': 1871, 'pen': 3188, 'ink': 2274, 'square': 4181, 'located': 2627, 'magazine': 2684, 'publication': 3444, 'glimpse': 1909, 'nation': 2918, 'shortly': 3978, 'scholar': 3839, 'offered': 3032, 'compelling': 846, 'precious': 3342, 'evolution': 1512, 'allowing': 123, 'conclusion': 875, 'presented': 3361, 'vast': 4739, 'data': 1059, 'readable': 3529, 'arrive': 228, 'reflection': 3581, 'professor': 3407, 'regret': 3594, 'wade': 4796, 'likely': 2587, 'wealth': 4846, 'dry': 1320, 'awake': 295, 'packed': 3120, 'somewhat': 4106, 'useful': 4717, 'richard': 3717, 'convincing': 930, 'writes': 4961, 'wide': 4884, 'perspective': 3214, 'kylie': 2472, 'bite': 432, 'subtle': 4292, 'performer': 3203, 'ballad': 318, 'nightmare': 2965, 'flow': 1738, 'catchy': 642, 'chorus': 728, 'melt': 2780, 'includes': 2237, 'funky': 1836, 'language': 2492, 'usa': 4711, 'import': 2216, 'limited': 2592, 'thrown': 4490, 'border': 479, 'edit': 1374, 'cut': 1032, 'improved': 2226, 'arrangement': 226, 'rarity': 3516, 'tom': 4527, 'remix': 3630, 'cord': 938, 'thomas': 4470, 'naturally': 2922, 'interest': 2317, 'compelled': 845, 'related': 3598, 'rambling': 3503, 'mindless': 2818, 'footage': 1763, 'meet': 2773, 'rent': 3639, 'kay': 2431, 'pushed': 3466, 'aside': 244, 'shown': 3986, 'added': 51, 'toward': 4556, 'interview': 2327, 'normal': 2985, 'center': 661, 'missed': 2833, 'commercial': 829, 'introduction': 2337, 'pain': 3125, 'advice': 76, 'sleep': 4047, 'asleep': 250, 'horrific': 2150, 'warrior': 4824, 'brilliantly': 526, 'gore': 1934, 'fanatic': 1615, 'warranty': 4823, 'equipment': 1471, 'mention': 2788, 'printer': 3386, 'travelling': 4585, 'stretch': 4258, 'waist': 4797, 'tight': 4498, 'inch': 2233, 'comfortable': 820, 'ordering': 3071, 'largely': 2498, 'slack': 4043, 'usual': 4723, 'normally': 2986, 'flimsy': 1729, 'fabric': 1585, 'advertising': 75, 'coffee': 797, 'gray': 1963, 'misleading': 2830, 'handling': 2022, 'business': 571, 'chain': 669, 'iron': 2350, 'emphasis': 1422, 'mature': 2748, 'disturbing': 1254, 'fairy': 1603, 'tale': 4376, 'grim': 1974, 'wwii': 4968, 'glove': 1913, 'appropriate': 211, 'valuable': 4732, 'alternative': 135, 'italy': 2360, 'youth': 4992, 'confusion': 883, 'credibility': 990, 'remind': 3625, 'rome': 3755, 'greater': 1965, 'appreciation': 209, 'depth': 1136, 'eating': 1364, 'dish': 1235, 'satisfying': 3817, 'flight': 1728, 'food': 1759, 'relatively': 3603, 'detract': 1166, 'laura': 2517, 'overdone': 3101, 'pun': 3454, 'sensual': 3904, 'glory': 1912, 'soul': 4124, 'preparation': 3354, 'discover': 1222, 'mexican': 2801, 'magic': 2685, 'preparing': 3357, 'fable': 1584, 'cook': 931, 'cooking': 934, 'inspired': 2288, 'nude': 3003, 'chick': 712, 'lit': 2612, 'roman': 3752, 'market': 2722, 'porn': 3305, 'desired': 1151, 'tip': 4513, 'insult': 2304, 'everywhere': 1507, 'sold': 4089, 'depicted': 1130, 'vivid': 4785, 'lousy': 2657, 'jerk': 2391, 'portrayed': 3312, 'substance': 4288, 'happier': 2030, 'metaphor': 2799, 'adequate': 58, 'occasionally': 3020, 'plane': 3257, 'suppose': 4331, 'generally': 1874, 'speaking': 4143, 'management': 2703, 'report': 3655, 'financial': 1683, 'analysis': 156, 'ability': 1, 'inspire': 2287, 'topic': 4539, 'elsewhere': 1407, 'cash': 634, 'limit': 2591, 'tha': 4444, 'existence': 1536, 'permanently': 3209, 'fill': 1671, 'repetitive': 3649, 'repeat': 3644, 'huh': 2171, 'yeah': 4978, 'signed': 3997, 'gon': 1926, 'na': 2907, 'lil': 2589, 'alright': 132, 'rapper': 3513, 'million': 2814, 'checked': 702, 'discovered': 1223, 'juvenile': 2429, 'faded': 1594, 'suck': 4297, 'as': 239, 'rip': 3728, 'da': 1038, 'solo': 4094, 'drop': 1313, 'recognize': 3559, 'quit': 3483, 'comedian': 817, 'wayne': 4843, 'talked': 4380, 'besides': 408, 'alien': 117, 'degreez': 1107, 'fresh': 1809, 'dictionary': 1187, 'wack': 4795, 'belive': 392, 'wit': 4913, 'crap': 975, 'walk': 4802, 'putting': 3469, 'pointless': 3288, 'strong': 4263, 'bump': 562, 'em': 1409, 'ha': 2005, 'shot': 3979, 'hook': 2139, 'blew': 446, 'explaining': 1557, 'logic': 2631, 'cheaper': 697, 'responsible': 3683, 'co': 792, 'worker': 4938, 'restaurant': 3685, 'eaten': 1363, 'french': 1806, 'quarter': 3472, 'orleans': 3081, 'delightful': 1115, 'stayed': 4206, 'miller': 2813, 'unlimited': 4685, 'sun': 4319, 'brave': 506, 'tim': 4504, 'dinner': 1202, 'touching': 4553, 'wheel': 4870, 'lesson': 2559, 'desktop': 1153, 'introducing': 2336, 'thorough': 4471, 'comprehensive': 864, 'covering': 968, 'web': 4851, 'smart': 4066, 'index': 2249, 'locate': 2626, 'clever': 768, 'technology': 4405, 'intermediate': 2321, 'website': 4853, 'produce': 3399, 'client': 772, 'explained': 1556, 'expert': 1553, 'depicts': 1132, 'correctly': 946, 'arrival': 227, 'indicate': 2252, 'healthy': 2066, 'thoughtful': 4476, 'fiction': 1661, 'identity': 2193, 'bond': 468, 'cultural': 1016, 'australia': 284, 'complain': 849, 'portrayal': 3311, 'sounded': 4128, 'cartridge': 632, 'throat': 4486, 'spray': 4177, 'hurry': 2180, 'yo': 4986, 'sore': 4119, 'recommendation': 3564, 'mom': 2848, 'glider': 1908, 'sooner': 4114, 'bench': 401, 'painted': 3129, 'metal': 2798, 'scratched': 3853, 'unsure': 4692, 'tighten': 4499, 'wasnt': 4830, 'bar': 327, 'sitting': 4026, 'sturdy': 4282, 'front': 1819, 'suggested': 4310, 'assemble': 252, 'movement': 2880, 'blah': 437, 'compliment': 858, 'chair': 670, 'arm': 222, 'appeared': 201, 'shipment': 3961, 'include': 2235, 'heck': 2077, 'priced': 3375, 'drag': 1291, 'held': 2081, 'wet': 4865, 'james': 2371, 'awsome': 303, 'sample': 3803, 'ear': 1346, 'seal': 3865, 'iv': 2363, 'rushed': 3783, 'eerie': 1382, 'itunes': 2362, 'helped': 2085, 'researching': 3671, 'understanding': 4662, 'generation': 1876, 'united': 4677, 'jewish': 2396, 'worthy': 4950, 'rabbi': 3487, 'element': 1400, 'laid': 2486, 'explored': 1563, 'truth': 4613, 'gospel': 1937, 'economics': 1369, 'broad': 532, 'variety': 4737, 'political': 3292, 'marriage': 2727, 'stood': 4236, 'bothered': 488, 'married': 2728, 'welcome': 4860, 'spouse': 4176, 'cared': 617, 'complained': 850, 'portrays': 3313, 'argument': 220, 'watchable': 4835, 'cat': 640, 'angry': 164, 'decide': 1084, 'length': 2555, 'endure': 1434, 'teaching': 4398, 'test': 4436, 'discussion': 1230, 'discussed': 1228, 'outside': 3097, 'literature': 2615, 'responded': 3680, 'answer': 175, 'checking': 703, 'excuse': 1529, 'waited': 4799, 'wolverine': 4922, 'owned': 3110, 'cheer': 704, 'bound': 492, 'bass': 344, 'attitude': 275, 'drum': 1317, 'unique': 4675, 'witty': 4918, 'suggestion': 4311, 'acoustic': 33, 'according': 25, 'knowledge': 2465, 'instrumental': 2303, 'road': 3738, 'mini': 2820, 'cheaply': 698, 'terrific': 4431, 'organ': 3073, 'mess': 2795, 'burnt': 569, 'rubber': 3770, 'service': 3919, 'paced': 3115, 'riveting': 3737, 'disappoint': 1213, 'bookstore': 476, 'gothic': 1940, 'curse': 1026, 'supposedly': 4333, 'impressive': 2224, 'feehan': 1647, 'warned': 4819, 'christine': 734, 'realize': 3537, 'tie': 4496, 'engine': 1438, 'publish': 3445, 'nicoletta': 2961, 'village': 4766, 'exercise': 1533, 'select': 3889, 'mysterious': 2902, 'frightening': 1817, 'similarity': 4005, 'bringing': 528, 'continues': 911, 'sharing': 3948, 'eager': 1344, 'presence': 3358, 'unlike': 4683, 'passion': 3164, 'empathy': 1420, 'potential': 3327, 'developed': 1168, 'relate': 3597, 'spark': 4140, 'desire': 1150, 'action': 38, 'suspenseful': 4354, 'believable': 388, 'sexy': 3931, 'emma': 1416, 'holly': 2127, 'reached': 3526, 'dimensional': 1201, 'advantage': 71, 'success': 4294, 'begining': 380, 'weird': 4859, 'created': 983, 'lively': 2619, 'adore': 66, 'strongly': 4265, 'wasted': 4832, 'tea': 4395, 'severely': 3928, 'confused': 881, 'reminded': 3626, 'pace': 3114, 'managed': 2702, 'camcorder': 588, 'usb': 4714, 'streaming': 4254, 'overseas': 3106, 'choppy': 726, 'recently': 3556, 'driver': 1311, 'protection': 3431, 'accurate': 28, 'barrel': 334, 'piano': 3230, 'common': 831, 'teacher': 4397, 'lid': 2571, 'pulling': 3451, 'pushing': 3467, 'accidentally': 19, 'upon': 4702, 'alternate': 134, 'cruel': 1010, 'unusual': 4694, 'patricia': 3173, 'cornwell': 941, 'boyfriend': 499, 'telling': 4413, 'seat': 3872, 'stuck': 4271, 'thriller': 4484, 'evil': 1510, 'holder': 2123, 'nazi': 2925, 'criminal': 996, 'scarpetta': 3832, 'summary': 4317, 'virtually': 4773, 'paramount': 3147, 'harris': 2044, 'becomes': 370, 'trite': 4605, 'frankly': 1800, 'turner': 4623, 'unable': 4648, 'underlying': 4657, 'cassette': 635, 'envelope': 1462, 'prevent': 3370, 'police': 3289, 'row': 3767, 'executed': 1530, 'current': 1024, 'particularly': 3156, 'niece': 2962, 'continuing': 912, 'installment': 2294, 'potter': 3328, 'field': 1663, 'science': 3843, 'muddled': 2887, 'electric': 1395, 'redeeming': 3572, 'developing': 1169, 'latter': 2510, 'leaving': 2544, 'villain': 4767, 'flaw': 1719, 'blown': 454, 'sat': 3813, 'bed': 373, 'intend': 2310, 'hardcover': 2037, 'force': 1766, 'stopping': 4239, 'prime': 3380, 'shallow': 3941, 'introduce': 2333, 'contains': 905, 'widely': 4885, 'dated': 1061, 'discussing': 1229, 'incomplete': 2240, 'binding': 425, 'documentation': 1262, 'unclear': 4654, 'testing': 4439, 'involved': 2344, 'adam': 46, 'partner': 3157, 'earth': 1353, 'previously': 3373, 'zero': 4996, 'nope': 2984, 'studio': 4274, 'wake': 4801, 'sandler': 3808, 'viewer': 4763, 'climax': 774, 'lackluster': 2483, 'entirely': 1459, 'weaker': 4845, 'walked': 4803, 'hill': 2110, 'comic': 824, 'illness': 2201, 'lifestyle': 2574, 'necessarily': 2931, 'doesnt': 1263, 'accomplish': 23, 'george': 1885, 'experimental': 1552, 'drug': 1316, 'decides': 1086, 'ira': 2347, 'patch': 3168, 'suddenly': 4302, 'die': 1189, 'immature': 2210, 'lame': 2488, 'sexual': 3930, 'nudity': 3004, 'circle': 744, 'reputation': 3661, 'dramatic': 1296, 'cold': 798, 'mainstream': 2691, 'press': 3364, 'downhill': 1281, 'jim': 2397, 'moon': 2860, 'marketing': 2723, 'theater': 4449, 'unnecessary': 4686, 'knocked': 2461, 'chemistry': 708, 'conversation': 926, 'rented': 3641, 'acceptable': 14, 'anger': 162, 'hilarious': 2108, 'humour': 2176, 'artsy': 237, 'demand': 1122, 'loser': 2649, 'asks': 249, 'bird': 427, 'supposed': 4332, 'titanic': 4518, 'drawn': 1300, 'beneath': 403, 'fair': 1601, 'share': 3946, 'appeal': 197, 'vulgar': 4794, 'offensive': 3030, 'likeable': 2585, 'lower': 2665, 'grass': 1962, 'grow': 1984, 'altogether': 138, 'tragic': 4568, 'scott': 3851, 'wont': 4929, 'collect': 803, 'depressing': 1134, 'sucked': 4298, 'smile': 4070, 'mel': 2776, 'there': 4457, 'isnt': 2357, 'excess': 1524, 'inspirational': 2286, 'endearing': 1430, 'anecdote': 160, 'north': 2987, 'thirty': 4469, 'phrase': 3227, 'stitch': 4230, 'capture': 611, 'vital': 4784, 'understands': 4663, 'artwork': 238, 'feast': 1637, 'dynamic': 1342, 'exotic': 1540, 'whimsical': 4875, 'featuring': 1639, 'lovely': 2661, 'host': 2156, 'headed': 2061, 'protagonist': 3429, 'narrator': 2914, 'greek': 1970, 'richly': 3718, 'diverse': 1256, 'seek': 3881, 'tradition': 4565, 'social': 4083, 'environment': 1463, 'promising': 3419, 'sin': 4012, 'whenever': 4871, 'habit': 2006, 'judging': 2414, 'forever': 1770, 'account': 26, 'losing': 2651, 'appealing': 198, 'religion': 3613, 'stereotypical': 4216, 'suitable': 4314, 'disrespect': 1244, 'witness': 4917, 'jean': 2386, 'closest': 783, 'president': 3363, 'fed': 1641, 'article': 233, 'lady': 2484, 'http': 2169, 'location': 2628, 'lighter': 2578, 'government': 1942, 'statement': 4202, 'claimed': 752, 'nonsense': 2983, 'department': 1127, 'mad': 2680, 'sum': 4316, 'physically': 3229, 'furthermore': 1839, 'insane': 2279, 'evidence': 1508, 'sword': 4362, 'december': 1082, 'recieved': 3557, 'absolutly': 5, 'tracking': 4563, 'confident': 878, 'steel': 4209, 'buddy': 547, 'symbol': 4363, 'blade': 436, 'contain': 903, 'adaptation': 47, 'gibberish': 1893, 'curve': 1028, 'update': 4698, 'customer': 1031, 'gap': 1857, 'heaven': 2074, 'develops': 1171, 'nicely': 2957, 'method': 2800, 'possibility': 3317, 'gault': 1865, 'uncle': 4653, 'investigation': 2341, 'handled': 2021, 'york': 4988, 'develop': 1167, 'dump': 1333, 'affair': 79, 'honesty': 2137, 'adjective': 59, 'apparent': 195, 'suffer': 4304, 'tripe': 4603, 'implausible': 2215, 'kidding': 2443, 'understandable': 4661, 'published': 3446, 'brain': 503, 'froze': 1820, 'sixth': 4029, 'labor': 2477, 'finishing': 1691, 'bizarre': 434, 'require': 3664, 'gut': 2002, 'factual': 1592, 'integrity': 2306, 'pale': 3134, 'ignorant': 2195, 'regarding': 3590, 'highest': 2103, 'profile': 3408, 'thumb': 4492, 'pit': 3248, 'contrived': 918, 'meaningless': 2760, 'sympathetic': 4365, 'conflict': 880, 'remainder': 3617, 'table': 4371, 'described': 1139, 'inconsistent': 2242, 'struck': 4266, 'scary': 3833, 'stronger': 4264, 'emotionally': 1419, 'continued': 910, 'amazed': 141, 'spoil': 4169, 'temple': 4416, 'insulting': 2305, 'intelligence': 2308, 'medical': 2768, 'virginia': 4772, 'whose': 4881, 'killing': 2447, 'began': 378, 'central': 662, 'park': 3152, 'terrifying': 4432, 'accuracy': 27, 'storyteller': 4245, 'skipped': 4041, 'fireplace': 1696, 'doc': 1258, 'genius': 1880, 'engineer': 1439, 'stilted': 4226, 'ring': 3727, 'pile': 3239, 'profit': 3409, 'terror': 4433, 'bluegrass': 457, 'proven': 3435, 'progress': 3414, 'met': 2797, 'realizes': 3539, 'torn': 4542, 'thousand': 4477, 'lasted': 2503, 'granted': 1959, 'shaped': 3944, 'noisy': 2977, 'vibration': 4755, 'objective': 3011, 'attached': 267, 'display': 1241, 'grasp': 1961, 'advance': 69, 'exposition': 1569, 'principle': 3383, 'desert': 1144, 'afraid': 84, 'hey': 2096, 'bitter': 433, 'friday': 1812, 'knowledgeable': 2466, 'bank': 325, 'civilization': 750, 'port': 3306, 'ark': 221, 'giant': 1892, 'map': 2714, 'superficial': 4323, 'scientific': 3844, 'lincoln': 2593, 'perception': 3196, 'belongs': 397, 'hazlitt': 2056, 'understood': 4664, 'economic': 1368, 'intervention': 2326, 'planning': 3260, 'discus': 1227, 'economy': 1370, 'capitalism': 607, 'merit': 2794, 'significantly': 4000, 'base': 335, 'ideal': 2190, 'stick': 4220, 'serve': 3917, 'tend': 4422, 'third': 4468, 'conservative': 890, 'rant': 3510, 'relevant': 3610, 'crisis': 997, 'politician': 3293, 'classroom': 760, 'collapse': 801, 'failure': 1600, 'passed': 3162, 'definition': 1101, 'outdated': 3090, 'reflect': 3580, 'broken': 535, 'fixing': 1712, 'mental': 2786, 'pro': 3393, 'damn': 1047, 'benefit': 404, 'adding': 54, 'cave': 651, 'union': 4674, 'amazingly': 143, 'university': 4680, 'chicago': 711, 'crazy': 980, 'march': 2716, 'bore': 480, 'studying': 4276, 'fundamental': 1833, 'overwhelming': 3108, 'majority': 2694, 'education': 1379, 'growth': 1988, 'revolutionary': 3707, 'directly': 1208, 'plague': 3254, 'foundation': 1787, 'von': 4791, 'credit': 991, 'depression': 1135, 'proved': 3434, 'fail': 1596, 'elementary': 1401, 'fellow': 1652, 'loss': 2652, 'freedom': 1804, 'fancy': 1616, 'consequence': 889, 'tremendous': 4594, 'tax': 4392, 'expense': 1548, 'destroy': 1157, 'necessary': 2932, 'measure': 2762, 'aka': 107, 'enemy': 1435, 'narration': 2912, 'tedious': 4406, 'suffered': 4305, 'critique': 1003, 'popular': 3302, 'agenda': 91, 'rarely': 3515, 'contrary': 915, 'grain': 1949, 'salt': 3801, 'bigger': 418, 'influence': 2264, 'health': 2065, 'compare': 839, 'dangerous': 1052, 'myth': 2905, 'context': 908, 'corporate': 943, 'trade': 4564, 'anti': 179, 'rush': 3782, 'net': 2944, 'flesh': 1725, 'et': 1488, 'hammer': 2015, 'blind': 447, 'utopian': 4726, 'functioning': 1832, 'anytime': 186, 'enlightening': 1450, 'casual': 639, 'spring': 4179, 'premise': 3352, 'lifetime': 2575, 'gain': 1848, 'informed': 2269, 'surprisingly': 4345, 'paul': 3177, 'laughable': 2512, 'faulty': 1632, 'apparently': 196, 'flawed': 1720, 'duty': 1337, 'equation': 1470, 'narrow': 2915, 'introductory': 2338, 'importantly': 2219, 'spends': 4159, 'concerned': 871, 'wan': 4807, 'liking': 2588, 'ripping': 3730, 'instrument': 2302, 'velvet': 4745, 'techno': 4404, 'electronica': 1398, 'tired': 4515, 'ho': 2119, 'dumb': 1331, 'im': 2204, 'stellar': 4211, 'challenged': 672, 'musical': 2896, 'animated': 166, 'punch': 3455, 'exists': 1538, 'station': 4203, 'fade': 1593, 'definitly': 1103, 'tripod': 4604, 'bag': 314, 'circuit': 745, 'anderson': 159, 'poverty': 3331, 'journey': 2410, 'sorrow': 4121, 'daniel': 1053, 'hidden': 2098, 'describing': 1141, 'constant': 896, 'nineteen': 2969, 'contribution': 917, 'minority': 2824, 'incomprehensible': 2241, 'anthology': 177, 'christian': 732, 'torso': 4543, 'cincher': 740, 'boning': 470, 'chest': 709, 'tire': 4514, 'hanging': 2025, 'causing': 649, 'wire': 4907, 'rub': 3768, 'bra': 500, 'whereas': 4872, 'custom': 1030, 'cloth': 786, 'squeem': 4182, 'shapewear': 3945, 'nicer': 2958, 'bone': 469, 'sticking': 4222, 'butt': 573, 'hardly': 2039, 'vintage': 4768, 'expensive': 1549, 'clothes': 787, 'liner': 2595, 'training': 4572, 'comfortably': 821, 'layer': 2520, 'measurement': 2763, 'asked': 247, 'posture': 3325, 'associated': 256, 'clothing': 788, 'pointed': 3287, 'opted': 3064, 'tighter': 4500, 'boob': 472, 'dd': 1068, 'everyday': 1503, 'belly': 394, 'pregnancy': 3349, 'sick': 3990, 'thicker': 4461, 'literally': 2613, 'desk': 1152, 'pleasant': 3270, 'flexible': 1726, 'unbearable': 4651, 'sign': 3995, 'spare': 4139, 'sized': 4032, 'shirt': 3965, 'lift': 2576, 'upset': 4705, 'miracle': 2826, 'falling': 1608, 'serving': 3920, 'fraction': 1791, 'lb': 2523, 'tummy': 4618, 'bulge': 558, 'thou': 4473, 'pound': 3329, 'tank': 4384, 'sweat': 4355, 'tall': 4382, 'inner': 2275, 'cotton': 949, 'pure': 3461, 'occasion': 3018, 'birth': 428, 'specifically': 4150, 'bulky': 559, 'sizing': 4033, 'closing': 785, 'speed': 4154, 'needing': 2936, 'firm': 1698, 'surgery': 4341, 'maintain': 2692, 'stomach': 4234, 'underneath': 4658, 'breathing': 515, 'bell': 393, 'walking': 4804, 'snug': 4081, 'breast': 512, 'believer': 391, 'pregnant': 3350, 'pinch': 3244, 'fold': 1749, 'ur': 4707, 'downside': 1286, 'portion': 3308, 'delivers': 1118, 'sock': 4085, 'shorter': 3977, 'upper': 4703, 'defeat': 1094, 'increase': 2244, 'bent': 405, 'repair': 3643, 'gym': 2004, 'adjust': 60, 'washing': 4828, 'assume': 257, 'reach': 3525, 'scared': 3829, 'visible': 4775, 'pink': 3245, 'spine': 4164, 'severe': 3927, 'injury': 2273, 'ship': 3960, 'burn': 566, 'merchandise': 2792, 'fitting': 1708, 'slim': 4055, 'absorbing': 6, 'torture': 4544, 'instant': 2296, 'providing': 3439, 'loop': 2643, 'mirror': 2827, 'squeeze': 4183, 'seam': 3866, 'bend': 402, 'rave': 3522, 'snapped': 4078, 'noted': 2992, 'suit': 4313, 'eventually': 1498, 'visually': 4782, 'ouch': 3087, 'daily': 1041, 'allow': 121, 'rod': 3746, 'painfully': 3127, 'ultimately': 4644, 'resulted': 3688, 'wound': 4953, 'grandmother': 1956, 'trapped': 4579, 'diet': 1191, 'snap': 4077, 'badly': 313, 'havent': 2054, 'hence': 2089, 'wider': 4886, 'picking': 3234, 'reminder': 3627, 'occur': 3021, 'slight': 4052, 'stamp': 4187, 'burned': 567, 'disease': 1232, 'terribly': 4430, 'gross': 1981, 'disgusting': 1234, 'caused': 648, 'performing': 3204, 'reviewed': 3703, 'sometime': 4104, 'aircraft': 103, 'marie': 2718, 'doll': 1267, 'seemingly': 3885, 'permanent': 3208, 'near': 2928, 'china': 719, 'german': 1887, 'contained': 904, 'jimmy': 2398, 'nine': 2968, 'unwatchable': 4695, 'cheese': 705, 'paying': 3179, 'scholarly': 3840, 'distinct': 1251, 'mass': 2736, 'easiest': 1357, 'gold': 1923, 'facing': 1588, 'overcome': 3100, 'vinyl': 4769, 'rhapsody': 3712, 'caan': 580, 'higgins': 2100, 'danger': 1051, 'publisher': 3447, 'prof': 3405, 'sean': 3867, 'justice': 2427, 'competition': 847, 'british': 531, 'legal': 2550, 'entertainment': 1455, 'dillon': 1199, 'speaks': 4144, 'dozen': 1288, 'para': 3142, 'born': 484, 'reward': 3708, 'expose': 1567, 'producing': 3402, 'selling': 3895, 'outline': 3095, 'jumped': 2421, 'generous': 1878, 'sequel': 3909, 'borrow': 485, 'guilty': 1997, 'status': 4204, 'oops': 3051, 'th': 4443, 'struggle': 4268, 'strangely': 4249, 'editor': 1378, 'dialog': 1179, 'kate': 2430, 'reaction': 3527, 'rough': 3762, 'curiosity': 1022, 'tension': 4425, 'executive': 1532, 'cliche': 769, 'agent': 92, 'target': 4388, 'shoot': 3971, 'timing': 4510, 'silent': 4001, 'jefferson': 2388, 'slipping': 4057, 'extension': 1575, 'meeting': 2774, 'spy': 4180, 'assumed': 258, 'dragged': 1292, 'cartoon': 631, 'refused': 3587, 'pose': 3314, 'jacket': 2367, 'dust': 1336, 'harry': 2045, 'screenplay': 3857, 'shred': 3987, 'shall': 3940, 'uninspired': 4672, 'critical': 1000, 'slightest': 4053, 'eagle': 1345, 'sudden': 4301, 'switched': 4361, 'caring': 621, 'dy': 1340, 'saga': 3795, 'bernstein': 407, 'nerve': 2943, 'irish': 2349, 'hack': 2007, 'stinker': 4229, 'los': 2647, 'rabbit': 3488, 'steal': 4207, 'ballroom': 320, 'vega': 4741, 'warn': 4818, 'duke': 1329, 'swing': 4358, 'greatness': 1968, 'herb': 2091, 'precise': 3343, 'plant': 3261, 'stream': 4253, 'scanner': 3827, 'vista': 4780, 'scan': 3826, 'firmware': 1699, 'jane': 2374, 'universe': 4679, 'ridiculously': 3722, 'kindle': 2450, 'tear': 4400, 'scarlet': 3831, 'struggling': 4270, 'hawthorne': 2055, 'huxley': 2183, 'vacation': 4729, 'captivated': 609, 'puritan': 3463, 'physical': 3228, 'reccomend': 3548, 'dolby': 1266, 'mundane': 2891, 'allusion': 125, 'hester': 2095, 'dealt': 1074, 'tortured': 4545, 'convey': 927, 'overrated': 3105, 'dickens': 1186, 'boredom': 482, 'creates': 984, 'fahrenheit': 1595, 'footnote': 1764, 'served': 3918, 'nonetheless': 2981, 'gripping': 1977, 'neat': 2930, 'essence': 1482, 'breathtaking': 516, 'navigate': 2924, 'ebook': 1366, 'nathaniel': 2917, 'strength': 4256, 'rigid': 3726, 'psychological': 3441, 'divorce': 1257, 'adultery': 68, 'reprint': 3660, 'remembered': 3624, 'irritating': 2354, 'pretentious': 3368, 'era': 1473, 'hi': 2097, 'redeem': 3571, 'assignment': 255, 'choosing': 725, 'aunt': 282, 'ugh': 4640, 'honor': 2138, 'wordy': 4933, 'disturbed': 1253, 'tragedy': 4567, 'effectively': 1385, 'reccommend': 3549, 'mainly': 2690, 'pill': 3240, 'taught': 4391, 'timely': 4508, 'cliff': 773, 'robot': 3741, 'indeed': 2247, 'beg': 377, 'ignore': 2196, 'suffers': 4307, 'dislike': 1239, 'empty': 1424, 'overly': 3102, 'humanity': 2173, 'appreciated': 208, 'filler': 1673, 'cynical': 1037, 'named': 2910, 'vice': 4757, 'awhile': 301, 'assigned': 254, 'cliched': 770, 'marking': 2724, 'masterful': 2739, 'literary': 2614, 'rule': 3777, 'shell': 3954, 'belong': 396, 'electronic': 1397, 'formatting': 1777, 'cheated': 699, 'spirit': 4165, 'delighted': 1114, 'paperback': 3140, 'engrossing': 1443, 'brings': 529, 'flawless': 1721, 'revealed': 3697, 'guilt': 1996, 'irony': 2352, 'exceptional': 1522, 'feed': 1643, 'yawn': 4976, 'shadow': 3934, 'headache': 2060, 'jeff': 2387, 'ap': 190, 'hint': 2111, 'quote': 3485, 'involving': 2345, 'significant': 3999, 'inability': 2228, 'revelation': 3699, 'fist': 1704, 'court': 962, 'unlikely': 4684, 'existed': 1535, 'bang': 323, 'exceptionally': 1523, 'surprising': 4344, 'uninteresting': 4673, 'sucker': 4299, 'forth': 1782, 'raise': 3500, 'sophomore': 4118, 'degree': 1106, 'pack': 3116, 'exam': 1516, 'remaining': 3618, 'deserve': 1145, 'afterwards': 88, 'regarded': 3589, 'exposure': 1570, 'versus': 4750, 'refreshing': 3583, 'constructed': 898, 'noble': 2973, 'judge': 2413, 'applicable': 204, 'ought': 3088, 'serf': 3911, 'teenager': 4409, 'font': 1758, 'victorian': 4759, 'sue': 4303, 'portray': 3310, 'okay': 3041, 'slowly': 4062, 'failing': 1598, 'lightly': 2580, 'locked': 2630, 'attic': 274, 'mentally': 2787, 'sandra': 3809, 'tempted': 4420, 'therapy': 4456, 'cure': 1020, 'insomnia': 2284, 'bloody': 451, 'junior': 2425, 'patient': 3172, 'rank': 3509, 'october': 3024, 'luck': 2668, 'hat': 2048, 'meaningful': 2759, 'ashamed': 241, 'harsh': 2046, 'reflects': 3582, 'stress': 4257, 'thier': 4462, 'orwell': 3083, 'bradbury': 501, 'attack': 268, 'dare': 1054, 'expressed': 1572, 'superior': 4324, 'arthur': 232, 'visual': 4781, 'aid': 99, 'moore': 2861, 'driving': 1312, 'introduces': 2335, 'crafted': 974, 'poetic': 3283, 'pride': 3377, 'wander': 4808, 'favor': 1633, 'dreary': 1303, 'dreadful': 1301, 'miserably': 2828, 'beating': 362, 'numerous': 3006, 'explores': 1564, 'composition': 862, 'relates': 3599, 'bush': 570, 'prison': 3389, 'rain': 3498, 'proof': 3422, 'suprised': 4334, 'senior': 3899, 'dual': 1322, 'meaning': 2758, 'tomato': 4528, 'anthony': 178, 'wilbur': 4891, 'ft': 1825, 'downloading': 1284, 'listing': 2611, 'cent': 660, 'cheating': 700, 'suction': 4300, 'cleaning': 765, 'feeding': 1646, 'tap': 4385, 'compartment': 842, 'knife': 2458, 'board': 461, 'tray': 4587, 'traveling': 4584, 'attempted': 270, 'visit': 4777, 'se': 3863, 'asia': 242, 'lao': 2493, 'august': 281, 'australian': 285, 'updated': 4699, 'sloppy': 4058, 'functional': 1831, 'yep': 4981, 'probe': 3395, 'convinced': 929, 'atrocious': 265, 'destroying': 1159, 'wouldnt': 4952, 'kiss': 2453, 'jerry': 2392, 'lewis': 2565, 'depressed': 1133, 'holiday': 2126, 'dissapointment': 1247, 'receipt': 3550, 'rude': 3772, 'funniest': 1837, 'discount': 1221, 'rack': 3492, 'pretend': 3367, 'bomb': 467, 'flop': 1735, 'following': 1754, 'ruin': 3774, 'simpson': 4011, 'drunk': 1319, 'whitney': 4878, 'allen': 120, 'crack': 971, 'santa': 3811, 'teeth': 4410, 'cried': 994, 'billy': 422, 'remotely': 3632, 'treated': 4590, 'downright': 1285, 'stargate': 4194, 'bias': 414, 'signal': 3996, 'gas': 1864, 'laughing': 2514, 'formed': 1778, 'flute': 1741, 'jones': 2407, 'quartet': 3473, 'william': 4894, 'dave': 1064, 'inappropriate': 2231, 'shut': 3988, 'repeated': 3645, 'edward': 1381, 'yer': 4982, 'flag': 1713, 'reasonable': 3543, 'elvis': 1408, 'deborah': 1079, 'drummer': 1318, 'king': 2451, 'prove': 3433, 'crossed': 1006, 'diane': 1183, 'height': 2079, 'una': 4647, 'swinging': 4359, 'cinema': 741, 'spoiled': 4170, 'erotic': 1475, 'listenable': 2606, 'motion': 2869, 'properly': 3426, 'fixed': 1711, 'assembly': 253, 'ebay': 1365, 'guarantee': 1990, 'shade': 3933, 'rubbed': 3769, 'grows': 1987, 'raised': 3501, 'hardware': 2040, 'pepper': 3193, 'grinder': 1975, 'shoddy': 3969, 'jensen': 2390, 'determine': 1164, 'directed': 1205, 'accessible': 16, 'psychology': 3442, 'industry': 2258, 'intellectual': 2307, 'seeking': 3882, 'regard': 3588, 'phd': 3217, 'fuzzy': 1843, 'unacceptable': 4649, 'unfortunate': 4668, 'fluff': 1739, 'breathe': 514, 'affect': 80, 'academy': 11, 'oscar': 3084, 'bible': 416, 'journalist': 2409, 'minimal': 2821, 'hype': 2184, 'definite': 1099, 'garage': 1858, 'successfully': 4296, 'twenty': 4629, 'diagram': 1178, 'instructor': 2301, 'oil': 3039, 'scale': 3825, 'refers': 3578, 'existing': 1537, 'promptly': 3421, 'photography': 3226, 'louis': 2656, 'groove': 1980, 'rhyme': 3713, 'cube': 1014, 'gadget': 1847, 'refill': 3579, 'lip': 2599, 'ran': 3505, 'lunchbox': 2672, 'crocodile': 1004, 'lunch': 2671, 'drink': 1306, 'soup': 4131, 'breath': 513, 'woven': 4954, 'pray': 3341, 'temptation': 4419, 'perfection': 3198, 'descent': 1137, 'mediocre': 2771, 'mar': 2715, 'johnson': 2403, 'bland': 439, 'proud': 3432, 'spell': 4155, 'wilson': 4897, 'lp': 2667, 'howard': 2165, 'anne': 171, 'smash': 4067, 'epic': 1465, 'dropped': 1314, 'mtv': 2885, 'ann': 170, 'career': 618, 'wolf': 4921, 'rockin': 3744, 'sorely': 4120, 'slave': 4046, 'supporting': 4330, 'mistress': 2837, 'truely': 4610, 'corny': 942, 'durability': 1334, 'magnificent': 2687, 'complexity': 856, 'sonic': 4111, 'progressive': 3415, 'rhythm': 3714, 'spectrum': 4152, 'planned': 3259, 'velcro': 4744, 'smoke': 4072, 'sam': 3802, 'charlie': 689, 'hitting': 2118, 'hall': 2012, 'rage': 3496, 'jazzy': 2385, 'viewing': 4764, 'clock': 778, 'scripture': 3861, 'christ': 731, 'hd': 2057, 'sync': 4367, 'mouth': 2877, 'warner': 4820, 'ease': 1355, 'whim': 4874, 'eve': 1494, 'quest': 3476, 'gang': 1856, 'blu': 455, 'ray': 3524, 'capacity': 605, 'babe': 305, 'wise': 4910, 'eternal': 1490, 'charles': 688, 'crew': 993, 'deliver': 1116, 'jesus': 2393, 'worry': 4944, 'bless': 444, 'passage': 3161, 'crisp': 998, 'newer': 2948, 'deluxe': 1121, 'gentle': 1882, 'speech': 4153, 'uneven': 4665, 'thankfully': 4446, 'spec': 4146, 'min': 2815, 'couch': 950, 'soooo': 4116, 'dying': 1341, 'widescreen': 4887, 'creation': 986, 'upside': 4706, 'connected': 885, 'chasing': 694, 'slept': 4050, 'mattress': 2747, 'powerbook': 3333, 'adapter': 48, 'amp': 152, 'ibook': 2186, 'macally': 2677, 'ac': 9, 'apple': 203, 'pictured': 3237, 'preferred': 3348, 'cycle': 1036, 'ruining': 3776, 'connection': 887, 'indicator': 2254, 'charged': 685, 'fluke': 1740, 'generated': 1875, 'bargain': 332, 'brick': 521, 'handy': 2023, 'adaptor': 49, 'led': 2545, 'connector': 888, 'plugged': 3278, 'resume': 3689, 'operate': 3057, 'continuously': 913, 'connect': 884, 'breaking': 511, 'drawback': 1298, 'operation': 3059, 'request': 3662, 'initial': 2271, 'requested': 3663, 'quiet': 3480, 'confirmed': 879, 'manages': 2705, 'orange': 3067, 'airport': 106, 'affordable': 83, 'indicates': 2253, 'remove': 3634, 'glance': 1905, 'electrical': 1396, 'budget': 548, 'bum': 561, 'transformer': 4575, 'idiot': 2194, 'satisfaction': 3815, 'backpack': 310, 'damaged': 1045, 'outer': 3092, 'taped': 4387, 'suspect': 4352, 'hassle': 2047, 'usage': 4713, 'repeating': 3647, 'lemon': 2553, 'tested': 4438, 'candy': 598, 'complaining': 851, 'oem': 3029, 'justify': 2428, 'minded': 2817, 'unstable': 4691, 'overpriced': 3104, 'temporary': 4418, 'destroyed': 1158, 'compact': 836, 'puppy': 3457, 'operating': 3058, 'link': 2596, 'shaft': 3935, 'odds': 3026, 'binchy': 424, 'spending': 4158, 'investing': 2342, 'silver': 4003, 'poignant': 3285, 'observation': 3014, 'marvelous': 2733, 'nephew': 2942, 'artistic': 236, 'busy': 572, 'improvement': 2227, 'jumping': 2422, 'toddler': 4522, 'pin': 3243, 'bead': 357, 'mold': 2847, 'sand': 3806, 'scifi': 3846, 'spiritual': 4166, 'dude': 1326, 'blowing': 453, 'booklet': 474, 'il': 2199, 'tempo': 4417, 'del': 1108, 'empire': 1423, 'dire': 1203, 'mike': 2808, 'un': 4646, 'west': 4863, 'wine': 4901, 'por': 3304, 'en': 1425, 'ella': 1404, 'ma': 2675, 'brian': 520, 'earned': 1351, 'poem': 3281, 'verse': 4748, 'leader': 2527, 'cannon': 599, 'expedition': 1547, 'river': 3736, 'fort': 1781, 'gun': 2001, 'trek': 4593, 'cracked': 972, 'install': 2290, 'mount': 2874, 'mechanical': 2765, 'core': 939, 'evident': 1509, 'traveler': 4583, 'scenery': 3836, 'odysseus': 3027, 'ulysses': 4645, 'flashlight': 1716, 'bulb': 557, 'heating': 2073, 'woke': 4920, 'occasional': 3019, 'eddie': 1372, 'expand': 1541, 'latin': 2509, 'funk': 1835, 'texture': 4442, 'committed': 830, 'testament': 4437, 'circumstance': 746, 'aussie': 283, 'popped': 3300, 'shower': 3984, 'photograph': 3225, 'webb': 4852, 'dimension': 1200, 'glen': 1907, 'campbell': 594, 'upbeat': 4696, 'dwarf': 1339, 'interpretation': 2325, 'stunning': 4279, 'organized': 3076, 'amish': 148, 'therapist': 4455, 'thrill': 4482, 'platform': 3264, 'ego': 1388, 'commentary': 828, 'shared': 3947, 'disgrace': 1233, 'cooker': 933, 'uplifting': 4701, 'importance': 2217, 'quilt': 3481, 'insightful': 2283, 'east': 1359, 'marine': 2719, 'closely': 781, 'leak': 2532, 'pour': 3330, 'meal': 2756, 'output': 3096, 'grinding': 1976, 'celtic': 657, 'chore': 727, 'bunny': 564, 'shaker': 3937, 'chunk': 738, 'invasion': 2340, 'burmese': 565, 'breed': 517, 'meat': 2764, 'chicken': 713, 'raw': 3523, 'owning': 3112, 'gorgeous': 1935, 'combine': 813, 'cop': 936, 'napoleon': 2911, 'biography': 426, 'rise': 3731, 'emperor': 1421, 'praising': 3339, 'memoir': 2782, 'lab': 2474, 'sinister': 4019, 'underground': 4656, 'ghost': 1891, 'perform': 3200, 'setup': 3924, 'housing': 2163, 'lowest': 2666, 'rural': 3781, 'urban': 4708, 'fifty': 1664, 'cleaner': 764, 'catherine': 644, 'comfort': 819, 'cream': 981, 'begun': 383, 'visited': 4778, 'haunted': 2052, 'dishwasher': 1236, 'headset': 2063, 'bluetooth': 458, 'motorola': 2873, 'wannabe': 4809, 'clip': 777, 'win': 4898, 'balanced': 316, 'harmony': 2042, 'songwriter': 4110, 'camp': 592, 'taylor': 4393, 'boat': 462, 'pocket': 3280, 'arranged': 225, 'chill': 717, 'thrash': 4478, 'northern': 2988, 'dome': 1270, 'xmas': 4971, 'diameter': 1181, 'google': 1932, 'prep': 3353, 'brazil': 507, 'scope': 3848, 'companion': 837, 'peel': 3186, 'opener': 3054, 'drill': 1305, 'dolly': 1269, 'parton': 3158, 'sugar': 4308, 'independent': 2248, 'unforgettable': 4667, 'fond': 1756, 'lhasa': 2566, 'kurt': 2471, 'lasting': 2504, 'originality': 3079, 'tango': 4383, 'ala': 109, 'subsequent': 4287, 'musicianship': 2898, 'spooky': 4173, 'knight': 2459, 'accurately': 29, 'accent': 12, 'distracting': 1252, 'elizabeth': 1403, 'fighting': 1667, 'whats': 4868, 'inspiring': 2289, 'sir': 4021, 'simon': 4006, 'laughter': 2515, 'mankind': 2706, 'bubble': 542, 'holy': 2131, 'casting': 637, 'standout': 4191, 'deeper': 1092, 'bolt': 466, 'smallest': 4065, 'route': 3764, 'india': 2250, 'sport': 4174, 'headphone': 2062, 'eidos': 1390, 'gameplay': 1853, 'tomb': 4529, 'raider': 3497, 'lara': 2496, 'horrid': 2149, 'lock': 2629, 'blank': 440, 'turkey': 4620, 'delay': 1109, 'controller': 921, 'sensitive': 3902, 'fence': 1658, 'screaming': 3855, 'freeze': 1805, 'news': 2952, 'cutting': 1034, 'preview': 3371, 'franchise': 1795, 'viewpoint': 4765, 'sticker': 4221, 'unusable': 4693, 'glitch': 1910, 'explosion': 1566, 'reboot': 3546, 'resident': 3673, 'reported': 3656, 'washer': 4827, 'deck': 1089, 'chemical': 707, 'network': 2945, 'manufactured': 2711, 'encourage': 1428, 'retailer': 3691, 'disposable': 1243, 'motor': 2871, 'concern': 870, 'fishing': 1703, 'buggy': 552, 'represented': 3658, 'relevance': 3609, 'desperate': 1154, 'provided': 3437, 'forum': 1784, 'foreign': 1769, 'watson': 4840, 'desperately': 1155, 'merely': 2793, 'erotica': 1476, 'inaccurate': 2229, 'lust': 2673, 'devoted': 1174, 'fragile': 1792, 'sarah': 3812, 'devoid': 1173, 'backdrop': 308, 'wierd': 4889, 'dawn': 1066, 'fly': 1742, 'clamp': 753, 'round': 3763, 'april': 212, 'connecting': 886, 'stripped': 4262, 'occurred': 3022, 'buddhism': 545, 'entertained': 1453, 'inevitably': 2259, 'entirety': 1460, 'gifted': 1896, 'notion': 2997, 'documentary': 1261, 'impact': 2214, 'thrilling': 4485, 'vol': 4789, 'restore': 3686, 'shoulder': 3980, 'rope': 3760, 'escape': 1479, 'reverse': 3701, 'anchor': 157, 'logical': 2632, 'harder': 2038, 'code': 796, 'brutal': 540, 'mayhem': 2752, 'interface': 2320, 'selected': 3890, 'army': 223, 'arch': 214, 'strategy': 4252, 'demo': 1123, 'expansion': 1542, 'fewer': 1659, 'discovering': 1224, 'notch': 2990, 'tribe': 4597, 'intro': 2332, 'partial': 3154, 'listens': 2610, 'deaf': 1071, 'alert': 115, 'cousin': 964, 'flipping': 1732, 'buddhist': 546, 'obnoxious': 3012, 'humorous': 2175, 'quirky': 3482, 'tremendously': 4595, 'blessing': 445, 'leadership': 2528, 'lace': 2478, 'posted': 3322, 'encountered': 1427, 'storm': 4242, 'martin': 2731, 'follows': 1755, 'discovery': 1226, 'belva': 399, 'stable': 4184, 'immensely': 2212, 'grabbed': 1944, 'gerald': 1886, 'breakdown': 510, 'strictly': 4259, 'tossed': 4546, 'bin': 423, 'golf': 1925, 'filter': 1678, 'roller': 3749, 'coaster': 794, 'bruce': 539, 'martial': 2730, 'relation': 3600, 'discipline': 1219, 'grey': 1973, 'melissa': 2777, 'deleted': 1110, 'blast': 442, 'virus': 4774, 'midi': 2805, 'countless': 956, 'gear': 1870, 'component': 859, 'polish': 3291, 'deserved': 1146, 'glued': 1916, 'glue': 1915, 'accessory': 17, 'pressed': 3365, 'indian': 2251, 'intent': 2313, 'installation': 2291, 'praise': 3338, 'comparison': 841, 'lightness': 2581, 'nikon': 2967, 'usable': 4712, 'lens': 2556, 'hilditch': 2109, 'felicia': 1650, 'concerning': 872, 'chilling': 718, 'fi': 1660, 'golden': 1924, 'pump': 3452, 'mug': 2888, 'liquid': 2601, 'thesis': 4459, 'monitor': 2851, 'prop': 3423, 'crappy': 976, 'generic': 1877, 'translated': 4577, 'marvel': 2732, 'affected': 81, 'ministry': 2822, 'solve': 4096, 'newly': 2950, 'representation': 3657, 'violent': 4771, 'aged': 90, 'origin': 3077, 'picky': 3235, 'leather': 2542, 'alarm': 110, 'fuss': 1840, 'carpet': 624, 'ceiling': 654, 'pricey': 3376, 'curtain': 1027, 'dive': 1255, 'wisdom': 4909, 'boxed': 497, 'neighbor': 2940, 'journal': 2408, 'edited': 1375, 'presenting': 3362, 'carried': 626, 'leaking': 2534, 'madonna': 2683, 'dean': 1075, 'whoever': 4879, 'valve': 4734, 'nipple': 2970, 'lane': 2491, 'pumping': 3453, 'launch': 2516, 'securely': 3878, 'subtitle': 4291, 'padding': 3122, 'yoga': 4987, 'workbook': 4936, 'tribute': 4598, 'riff': 3724, 'bedding': 374, 'expired': 1554, 'ironic': 2351, 'expression': 1573, 'xanth': 4969, 'unreadable': 4688, 'zombie': 4999, 'dale': 1042, 'elevator': 1402, 'beatles': 363, 'accompanying': 22, 'asian': 243, 'pool': 3296, 'shaking': 3939, 'hammering': 2016, 'loaded': 2624, 'aimed': 100, 'coleman': 799, 'soviet': 4135, 'tightly': 4501, 'region': 3593, 'acted': 36, 'kick': 2441, 'makeup': 2697, 'lesbian': 2557, 'filming': 1676, 'corrected': 945, 'consistent': 894, 'elastic': 1394, 'dot': 1276, 'fee': 1642, 'bat': 346, 'warmth': 4817, 'viewed': 4762, 'national': 2919, 'pan': 3136, 'korean': 2469, 'cookbook': 932, 'pa': 3113, 'established': 1485, 'nyc': 3009, 'phenomenal': 3218, 'shooting': 3972, 'diabetic': 1177, 'medication': 2769, 'diabetes': 1176, 'kudos': 2470, 'peak': 3183, 'med': 2767, 'controlling': 922, 'venus': 4747, 'identical': 2191, 'tile': 4502, 'fashioned': 1625, 'buff': 550, 'argentine': 217, 'dancer': 1049, 'routine': 3766, 'ranger': 3508, 'february': 1640, 'schedule': 3837, 'bd': 354, 'spiderman': 4162, 'extraordinary': 1579, 'samsung': 3804, 'defect': 1095, 'xbox': 4970, 'russian': 3785, 'bold': 465, 'retail': 3690, 'grainy': 1950, 'diamond': 1182, 'refunded': 3585, 'acid': 31, 'steam': 4208, 'sympathy': 4366, 'wicca': 4882, 'goddess': 1921, 'retarded': 3692, 'obscure': 3013, 'firewire': 1697, 'september': 3908, 'ad': 45, 'tony': 4534, 'installing': 2293, 'lake': 2487, 'survived': 4351, 'pitchshifter': 3249, 'industrial': 2257, 'marry': 2729, 'manager': 2704, 'scotland': 3850, 'canada': 596, 'ra': 3486, 'egyptian': 1389, 'agreed': 95, 'liberty': 2568, 'cameron': 591, 'gillian': 1898, 'popularity': 3303, 'gary': 1863, 'creature': 989, 'whining': 4876, 'communist': 834, 'haiku': 2008, 'van': 4736, 'handbook': 2018, 'poet': 3282, 'kerouac': 2438, 'skeptical': 4036, 'mothman': 2868, 'prophecy': 3427, 'keel': 2432, 'ufo': 4639, 'phenomenon': 3219, 'disjointed': 1237, 'sighting': 3994, 'albeit': 112, 'screenwriter': 3858, 'gordon': 1933, 'primarily': 3378, 'mighty': 2807, 'storytelling': 4246, 'letdown': 2561, 'controversial': 923, 'admittedly': 63, 'beast': 360, 'believed': 390, 'document': 1260, 'london': 2636, 'parallel': 3146, 'incoherent': 2239, 'scenario': 3834, 'goofy': 1931, 'monster': 2855, 'driven': 1310, 'innovative': 2277, 'racism': 3490, 'hop': 2141, 'fighter': 1666, 'lene': 2554, 'analog': 155, 'censorship': 659, 'anime': 168, 'dubbed': 1323, 'resolved': 3675, 'suicide': 4312, 'math': 2744, 'newman': 2951, 'guard': 1991, 'definitive': 1102, 'debate': 1078, 'nightwish': 2966, 'eva': 1493, 'bob': 463, 'frequent': 1807, 'temp': 4414, 'hospital': 2155, 'tent': 4426, 'alice': 116, 'criticism': 1001, 'bdsm': 355, 'misplaced': 2831, 'inadequate': 2230, 'emblem': 1415, 'snmp': 4079, 'reveals': 3698, 'lately': 2506, 'tooth': 4537, 'frankenstein': 1799, 'koontz': 2468, 'repetition': 3648, 'madness': 2682, 'canon': 600, 'rewind': 3711, 'posting': 3324, 'sixty': 4030, 'differently': 1194, 'nirvana': 2971, 'hardcore': 2036, 'bean': 358, 'estate': 1486, 'courtney': 963, 'yea': 4977, 'accompanied': 21, 'doug': 1279, 'referred': 3577, 'fitness': 1706, 'climbing': 776, 'survival': 4349, 'hiking': 2107, 'climb': 775, 'gritty': 1978, 'sci': 3842, 'reread': 3667, 'dell': 1120, 'toxic': 4560, 'troma': 4606, 'citizen': 747, 'poster': 3323, 'utter': 4727, 'lesser': 2558, 'router': 3765, 'discontinued': 1220, 'marked': 2721, 'bow': 493, 'carriage': 625, 'popping': 3301, 'finance': 1682, 'mild': 2809, 'acne': 32, 'darker': 1056, 'camping': 595, 'becoming': 371, 'admire': 61, 'exuviance': 1582, 'avail': 290, 'vibrator': 4756, 'heinlein': 2080, 'collecting': 804, 'omitted': 3046, 'fare': 1620, 'depiction': 1131, 'realism': 3534, 'hardy': 2041, 'wondered': 4925, 'rape': 3512, 'alec': 114, 'changing': 678, 'valley': 4731, 'prediction': 3346, 'couldnt': 952, 'scare': 3828, 'criticize': 1002, 'suffering': 4306, 'monotonous': 2854, 'bike': 420, 'fitted': 1707, 'secure': 3877, 'breeze': 518, 'grandfather': 1955, 'bradley': 502, 'crawford': 979, 'outdoor': 3091, 'stumbled': 4278, 'satire': 3814, 'chase': 693, 'juliet': 2418, 'sleeper': 4048, 'cinematography': 743, 'regime': 3592, 'filmed': 1675, 'paranoid': 3148, 'sf': 3932, 'voyage': 4793, 'counting': 955, 'heater': 2072, 'chaos': 680, 'slot': 4059, 'postcard': 3321, 'rewarded': 3709, 'mt': 2884, 'pilot': 3242, 'accident': 18, 'gossip': 1938, 'barn': 333, 'nobel': 2972, 'bay': 351, 'dharma': 1175, 'fame': 1610, 'hp': 2167, 'theology': 4453, 'shia': 3957, 'megan': 2775, 'fox': 1790, 'actress': 42, 'he': 2058, 'labeouf': 2476, 'ben': 400, 'ep': 1464, 'optimus': 3065, 'freak': 1802, 'bluray': 459, 'surfing': 4340, 'nonexistent': 2982, 'cgi': 668, 'jar': 2378, 'remake': 3620, 'procedure': 3397, 'bullet': 560, 'smoking': 4073, 'dts': 1321, 'slap': 4044, 'stupidity': 4281, 'blockbuster': 449, 'flying': 1744, 'gb': 1868, 'jackson': 2368, 'syndrome': 4368, 'theatrical': 4451, 'ticket': 4495, 'hockey': 2120, 'riding': 3723, 'surround': 4347, 'destruction': 1160, 'renting': 3642, 'cowboy': 969, 'specie': 4148, 'epson': 1467, 'compatibility': 843, 'rambo': 3504, 'wwe': 4966, 'cena': 658, 'patrick': 3174, 'wrestling': 4958, 'hogan': 2121, 'afford': 82, 'terminator': 4428, 'emarker': 1412, 'playlist': 3269, 'emarks': 1413, 'supported': 4329, 'execution': 1531, 'gammell': 1855, 'ti': 4494, 'gruesome': 1989, 'banned': 326, 'aloud': 130, 'mythology': 2906, 'rice': 3715, 'bellydance': 395, 'atea': 262, 'privacy': 3390, 'brando': 505, 'altitude': 137, 'hike': 2106, 'trail': 4569, 'rugged': 3773, 'warmer': 4815, 'anticipated': 180, 'ralph': 3502, 'gabriel': 1846, 'cult': 1015, 'hound': 2160, 'ballet': 319, 'predator': 3344, 'ryan': 3789, 'christopher': 736, 'officer': 3035, 'julie': 2417, 'grant': 1958, 'douglas': 1280, 'genuine': 1884, 'brio': 530, 'sensor': 3903, 'feeder': 1645, 'jammed': 2372, 'reset': 3672, 'stewart': 4219, 'succeeds': 4293, 'mellow': 2778, 'convince': 928, 'amnesia': 149, 'tubthumping': 4617, 'lightning': 2582, 'gal': 1850, 'pitiful': 3250, 'earthquake': 1354, 'determined': 1165, 'laser': 2501, 'exposed': 1568, 'reminiscent': 3629, 'mule': 2889, 'gibson': 1894, 'isaac': 2355, 'spoiler': 4171, 'futuristic': 1842, 'defend': 1097, 'unexpected': 4666, 'genesis': 1879, 'wwi': 4967, 'enthralling': 1456, 'hardback': 2035, 'recover': 3569, 'bud': 544, 'carrot': 627, 'cage': 582, 'addiction': 53, 'nick': 2959, 'cf': 667, 'dentist': 1126, 'batman': 348, 'guinea': 1998, 'directing': 1206, 'mccartney': 2754, 'removable': 3633, 'ritter': 3734, 'joyce': 2412, 'janet': 2375, 'gay': 1867, 'folding': 1750, 'external': 1577, 'removing': 3636, 'spear': 4145, 'catholic': 645, 'philosophical': 3221, 'portrait': 3309, 'cancer': 597, 'sensation': 3900, 'turtle': 4625, 'dystopian': 1343, 'aerial': 78, 'racist': 3491, 'shakespeare': 3938, 'rainy': 3499, 'rat': 3517, 'harness': 2043, 'curie': 1021, 'prize': 3392, 'simpletech': 4008, 'mb': 2753, 'patti': 3176, 'evita': 1511, 'intex': 2328, 'inflated': 2263, 'airbed': 102, 'leaked': 2533, 'weigh': 4857, 'deflate': 1104, 'inflate': 2262, 'deflated': 1105, 'comforter': 822, 'xtra': 4973, 'flannel': 1714, 'fleetwood': 1724, 'rumour': 3778, 'mercedes': 2791, 'ford': 1768, 'passionate': 3165, 'cocktail': 795, 'jungle': 2424, 'oop': 3050, 'fonda': 1757, 'barbra': 329, 'robbed': 3739, 'mattel': 2745, 'kinsella': 2452, 'sophie': 4117, 'dating': 1062, 'eby': 1367, 'romeo': 3756, 'spread': 4178, 'nurse': 3007, 'garcia': 1860, 'incest': 2232, 'shirley': 3964, 'homosexuality': 2134, 'manson': 2709, 'bugliosi': 553, 'helter': 2088, 'skelter': 4035, 'airplane': 105, 'dali': 1043, 'basement': 338, 'batcave': 347, 'pci': 3181, 'clavell': 762, 'nomad': 2978, 'forbidden': 1765, 'cloud': 789, 'voodoo': 4792, 'nba': 2926, 'toefl': 4524, 'civil': 749, 'shift': 3958, 'earpiece': 1352, 'vegan': 4742, 'tina': 4511, 'wilderness': 4893, 'sd': 3862, 'sandisk': 3807, 'sansa': 3810, 'appalling': 194, 'carnegie': 623, 'snack': 4076, 'slasher': 4045, 'monk': 2852, 'collar': 802, 'dracula': 1290, 'flint': 1730, 'wireless': 4908, 'jabra': 2365, 'eargels': 1348, 'earbuds': 1347, 'jawbone': 2382, 'clan': 754, 'swedish': 4356, 'odyssey': 3028, 'ian': 2185, 'misfortune': 2829, 'philadelphia': 3220, 'programmer': 3412, 'winston': 4905, 'moby': 2843, 'peck': 3185, 'ahab': 96, 'damme': 1046, 'flea': 1723, 'frank': 1797, 'lackey': 2481, 'tuscan': 4626, 'tuscany': 4627, 'pal': 3132, 'communism': 833, 'rollerball': 3750, 'russell': 3784, 'chandler': 675, 'noir': 2975, 'scooter': 3847, 'pratchett': 3340, 'discworld': 1231, 'om': 3044, 'celiac': 655, 'gluten': 1917, 'amy': 154, 'usmle': 4722, 'freshman': 1810, 'gba': 1869, 'carter': 630, 'rebel': 3545, 'bowie': 494, 'holmes': 2129, 'sting': 4227, 'cummins': 1018, 'freud': 1811, 'organic': 3074, 'parable': 3143, 'joan': 2399, 'palance': 3133, 'souljah': 4125, 'fw': 1844, 'birthing': 430, 'childbirth': 715, 'sheri': 3955, 'attend': 272, 'bayles': 352, 'argento': 218, 'usher': 4720, 'auel': 280, 'ayla': 304, 'prehistoric': 3351, 'neanderthal': 2927, 'lipstick': 2600, 'gamecube': 1852, 'astrology': 260, 'antivirus': 181, 'femalien': 1656, 'unrated': 4687, 'flyboys': 1743, 'lafayette': 2485, 'escadrille': 1478, 'dogfight': 1265, 'judith': 2415, 'hostel': 2157, 'bebel': 367, 'everest': 1500, 'gammelgaard': 1854, 'elmo': 1405, 'firefighter': 1694, 'csi': 1013, 'frm': 1818, 'garp': 1862, 'oceania': 3023, 'totalitarian': 4548, 'newspeak': 2954, 'totalitarianism': 4549, 'scariest': 3830, 'fundamentalist': 1834, 'concealer': 868, 'zeta': 4997, 'montag': 2856, 'fireman': 1695, 'farenheit': 1621, 'piper': 3247, 'fellowship': 1653, 'moria': 2863, 'rivendell': 3735, 'ati': 263, 'radeon': 3493, 'pam': 3135, 'finnegans': 1692, 'lapinator': 2494, 'hatebreed': 2050, 'halti': 2014, 'continuum': 914, 'musiq': 2899, 'lola': 2635, 'franka': 1798, 'tism': 4516, 'ziggy': 4998, 'stardust': 4193, 'nickelodeon': 2960, 'knot': 2462, 'liam': 2567, 'owen': 3109, 'neeson': 2938, 'lili': 2590, 'asvab': 261, 'goodman': 1929, 'cedar': 653, 'florette': 1736, 'manon': 2708, 'apache': 191, 'marquez': 2726, 'oprah': 3063, 'buendia': 549, 'macondo': 2679, 'java': 2380, 'canterbury': 602, 'chaucer': 695, 'pellegrino': 3187, 'coyote': 970, 'perabo': 3195, 'redgrave': 3573, 'warnes': 4821, 'ronson': 3757, 'tomcat': 4530, 'fraser': 1801, 'mckellen': 2755, 'brendan': 519, 'mosby': 2865, 'stacie': 4185, 'orrico': 3082, 'christina': 733, 'ry': 3788, 'carlton': 622, 'hopkins': 2146, 'lovebird': 2659, 'linksys': 2597, 'basset': 345, 'baskerville': 342, 'doyle': 1287, 'sherlock': 3956, 'baskervilles': 343, 'marlon': 2725, 'donati': 1271, 'claustrophobic': 761}\n"
     ]
    }
   ],
   "source": [
    "print(Tfidf_vect.vocabulary_)"
   ]
  },
  {
   "cell_type": "markdown",
   "metadata": {
    "id": "MaGG69W8GJjL"
   },
   "source": [
    "Se imprimen los datos en el vector Train_X_Tfidf\n",
    "La primera columna corresponde al número en Train_X_Tfidf.\n",
    "La segunda columna es el número entero único para cada palabra\n",
    "La tercera columna es el peso de cada palabra"
   ]
  },
  {
   "cell_type": "code",
   "execution_count": 23,
   "metadata": {
    "id": "p2h1_GOjGJjL",
    "scrolled": true
   },
   "outputs": [
    {
     "name": "stdout",
     "output_type": "stream",
     "text": [
      "  (0, 4507)\t0.3486470899659668\n",
      "  (0, 4506)\t0.13918161943006\n",
      "  (0, 3967)\t0.37450229430769727\n",
      "  (0, 3873)\t0.23301952003183105\n",
      "  (0, 3841)\t0.24949404180102433\n",
      "  (0, 3728)\t0.3529096795591593\n",
      "  (0, 3624)\t0.37232836223976784\n",
      "  (0, 3528)\t0.28693298387879335\n",
      "  (0, 2901)\t0.2127938139418236\n",
      "  (0, 1495)\t0.16459753118279385\n",
      "  (0, 501)\t0.29744815685881976\n",
      "  (0, 473)\t0.11398858016925568\n",
      "  (0, 411)\t0.17739337914626235\n",
      "  (0, 224)\t0.22685101941798666\n",
      "  (1, 4693)\t0.36584399356569\n",
      "  (1, 4068)\t0.6228063984086468\n",
      "  (1, 3403)\t0.3640459393772947\n",
      "  (1, 2584)\t0.3819779071979273\n",
      "  (1, 1234)\t0.3737138995394454\n",
      "  (1, 576)\t0.16573467732453828\n",
      "  (1, 491)\t0.1808417344859992\n",
      "  (2, 4738)\t0.19858812659986624\n",
      "  (2, 4635)\t0.16278260362265232\n",
      "  (2, 4465)\t0.11118883418444593\n",
      "  (2, 4192)\t0.12721108994587332\n",
      "  :\t:\n",
      "  (6998, 2615)\t0.16255993820309536\n",
      "  (6998, 2564)\t0.15269285526358803\n",
      "  (6998, 2560)\t0.13036177467776944\n",
      "  (6998, 2502)\t0.12358899725464935\n",
      "  (6998, 2115)\t0.1431610046272704\n",
      "  (6998, 1964)\t0.07608477545662391\n",
      "  (6998, 1772)\t0.23087213015142088\n",
      "  (6998, 1690)\t0.17010096614712117\n",
      "  (6998, 1550)\t0.14530854455213985\n",
      "  (6998, 1529)\t0.19423745190711136\n",
      "  (6998, 1504)\t0.1403947070630004\n",
      "  (6998, 1499)\t0.10371704005632586\n",
      "  (6998, 1273)\t0.31014825292006243\n",
      "  (6998, 473)\t0.37952450157269374\n",
      "  (6999, 4147)\t0.5231810976953861\n",
      "  (6999, 3808)\t0.36628786641749705\n",
      "  (6999, 2881)\t0.166199587655239\n",
      "  (6999, 1964)\t0.1446071503316864\n",
      "  (6999, 1638)\t0.29205055835262766\n",
      "  (6999, 1495)\t0.17359713185390194\n",
      "  (6999, 1377)\t0.2887778458348142\n",
      "  (6999, 1218)\t0.31538826346123966\n",
      "  (6999, 411)\t0.18709261073584116\n",
      "  (6999, 299)\t0.28602069477505987\n",
      "  (6999, 46)\t0.3584380426769884\n"
     ]
    }
   ],
   "source": [
    "print(Train_X_Tfidf)"
   ]
  },
  {
   "cell_type": "markdown",
   "metadata": {
    "id": "JKSvSRTLGJjL"
   },
   "source": [
    "Paso -8: Se utilizan los algoritmos de Machine Learning para predecir la salida"
   ]
  },
  {
   "cell_type": "code",
   "execution_count": 24,
   "metadata": {
    "id": "PTpg-aNFGJjL"
   },
   "outputs": [
    {
     "name": "stdout",
     "output_type": "stream",
     "text": [
      "Naive Bayes Accuracy Score ->  83.6\n"
     ]
    }
   ],
   "source": [
    "# Se ajusta el dataset de entrenamiento con el algoritmo de Clasificación de Naive Bayes\n",
    "Naive = naive_bayes.MultinomialNB()\n",
    "Naive.fit(Train_X_Tfidf,Train_Y)\n",
    "# Se hace la predicción\n",
    "predictions_NB = Naive.predict(Test_X_Tfidf)\n",
    "# Se calcula el accuracy\n",
    "print(\"Naive Bayes Accuracy Score -> \",accuracy_score(predictions_NB, Test_Y)*100)"
   ]
  },
  {
   "cell_type": "code",
   "execution_count": 25,
   "metadata": {
    "id": "jYrwWX62GJjL"
   },
   "outputs": [
    {
     "name": "stdout",
     "output_type": "stream",
     "text": [
      "SVM Accuracy Score ->  85.06666666666666\n"
     ]
    }
   ],
   "source": [
    "# Se ajusta el dataset de entrenamiento con el algoritmo de Clasificación de SVM\n",
    "\n",
    "SVM = svm.SVC(C=1.0, kernel='linear', degree=3, gamma='auto')\n",
    "SVM.fit(Train_X_Tfidf,Train_Y)\n",
    "# Se hace la predicción\n",
    "predictions_SVM = SVM.predict(Test_X_Tfidf)\n",
    "# Se calcula el accuracy\n",
    "print(\"SVM Accuracy Score -> \",accuracy_score(predictions_SVM, Test_Y)*100)"
   ]
  },
  {
   "cell_type": "code",
   "execution_count": null,
   "metadata": {},
   "outputs": [],
   "source": []
  }
 ],
 "metadata": {
  "colab": {
   "provenance": []
  },
  "kernelspec": {
   "display_name": "Python 3 (ipykernel)",
   "language": "python",
   "name": "python3"
  },
  "language_info": {
   "codemirror_mode": {
    "name": "ipython",
    "version": 3
   },
   "file_extension": ".py",
   "mimetype": "text/x-python",
   "name": "python",
   "nbconvert_exporter": "python",
   "pygments_lexer": "ipython3",
   "version": "3.11.5"
  }
 },
 "nbformat": 4,
 "nbformat_minor": 1
}
