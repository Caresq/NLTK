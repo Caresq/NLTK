{
 "cells": [
  {
   "cell_type": "markdown",
   "metadata": {
    "id": "iTdJRzZkzwTe"
   },
   "source": [
    "# Longitud de una lista de palabras"
   ]
  },
  {
   "cell_type": "code",
   "execution_count": 1,
   "metadata": {
    "colab": {
     "base_uri": "https://localhost:8080/"
    },
    "id": "yF64MOAvzaBV",
    "outputId": "8be64480-36da-4fd6-c05a-ae709a9cbdb0"
   },
   "outputs": [
    {
     "name": "stdout",
     "output_type": "stream",
     "text": [
      "4\n"
     ]
    }
   ],
   "source": [
    "lista = [\"libro\", \"escritorio\", \"estudiar\", \"examen\"]\n",
    "x = len(lista)\n",
    "print(x)"
   ]
  },
  {
   "cell_type": "markdown",
   "metadata": {
    "id": "ZI758yvvHKGJ"
   },
   "source": [
    "# Longitud de una frase o enunciado"
   ]
  },
  {
   "cell_type": "code",
   "execution_count": 4,
   "metadata": {
    "colab": {
     "base_uri": "https://localhost:8080/"
    },
    "id": "tCd_ueohHPRg",
    "outputId": "3004dd2e-8124-46ad-9889-5d36c726869b"
   },
   "outputs": [
    {
     "name": "stdout",
     "output_type": "stream",
     "text": [
      "10\n"
     ]
    }
   ],
   "source": [
    "x = len(\"Hola Mundo\")\n",
    "print(x)"
   ]
  },
  {
   "cell_type": "markdown",
   "metadata": {
    "id": "alR23T_YHaEb"
   },
   "source": [
    "# División de una oración en palabras"
   ]
  },
  {
   "cell_type": "code",
   "execution_count": 6,
   "metadata": {
    "colab": {
     "base_uri": "https://localhost:8080/"
    },
    "id": "r2dpU7V4Hddx",
    "outputId": "1f5a5488-1138-4e6b-8cdb-be7952c0c4bd"
   },
   "outputs": [
    {
     "name": "stdout",
     "output_type": "stream",
     "text": [
      "['Bienvenido', 'a', 'la', 'fiesta']\n"
     ]
    }
   ],
   "source": [
    "texto = \"Bienvenido a la fiesta\"\n",
    "x = texto.split()\n",
    "print(x)"
   ]
  },
  {
   "cell_type": "markdown",
   "metadata": {
    "id": "GCuCyX2VHm6L"
   },
   "source": [
    "# La función istitle() devuelve un True si todas las palabras de un texto comienzan con mayúscula y el resto son minúsculas. En caso contrario devuelve un False"
   ]
  },
  {
   "cell_type": "code",
   "execution_count": 10,
   "metadata": {
    "colab": {
     "base_uri": "https://localhost:8080/"
    },
    "id": "HgyVItpeHnSg",
    "outputId": "b4d41604-8a0d-46f9-ce5c-79b82513b337"
   },
   "outputs": [
    {
     "name": "stdout",
     "output_type": "stream",
     "text": [
      "False\n",
      "False\n",
      "False\n",
      "True\n"
     ]
    }
   ],
   "source": [
    "text1 = \"EL CIELO ESTÁ NUBLADO\"\n",
    "text2 = \"sala\"\n",
    "text3 = \"10 perros\"\n",
    "text4 = \"¿El Futuro Es Hoy?\"\n",
    "print(text1.istitle())\n",
    "print(text2.istitle())\n",
    "print(text3.istitle())\n",
    "print(text4.istitle())"
   ]
  },
  {
   "cell_type": "markdown",
   "metadata": {
    "id": "Mji80ixZIeC9"
   },
   "source": [
    "# La función endswith() verifica si una cadena termina con una puntuación o un texto que se especifique por el usuario.\n",
    "# También se puede incorporar un parámetro que indique si existe coincidencia entre el signo o texto a evaluar con la posición de caracteres definidos (start,end).\n"
   ]
  },
  {
   "cell_type": "code",
   "execution_count": 17,
   "metadata": {
    "colab": {
     "base_uri": "https://localhost:8080/"
    },
    "id": "0Zd9zgI5IUhQ",
    "outputId": "8fc8d8de-647c-484f-e986-cb2eeb2dda32"
   },
   "outputs": [
    {
     "name": "stdout",
     "output_type": "stream",
     "text": [
      "True\n"
     ]
    }
   ],
   "source": [
    "text = \"Nos vemos a las 5 de la tarde.\"\n",
    "x = text.endswith(\"de la tarde.\")\n",
    "print(x)"
   ]
  },
  {
   "cell_type": "code",
   "execution_count": 23,
   "metadata": {
    "colab": {
     "base_uri": "https://localhost:8080/"
    },
    "id": "F7Dw1ezGIy1T",
    "outputId": "56e745ec-99df-45e4-ffec-107544e3510d"
   },
   "outputs": [
    {
     "name": "stdout",
     "output_type": "stream",
     "text": [
      "True\n"
     ]
    }
   ],
   "source": [
    "text = \"Nos vemos.\"\n",
    "x = text.endswith(\"vemos.\",4,10)\n",
    "print(x)"
   ]
  },
  {
   "cell_type": "code",
   "execution_count": 27,
   "metadata": {
    "colab": {
     "base_uri": "https://localhost:8080/",
     "height": 35
    },
    "id": "d3KTOGtMJTI2",
    "outputId": "2050c094-0ca7-481e-ac17-b952729a3ad3"
   },
   "outputs": [
    {
     "data": {
      "application/vnd.google.colaboratory.intrinsic+json": {
       "type": "string"
      },
      "text/plain": [
       "'N'"
      ]
     },
     "execution_count": 27,
     "metadata": {},
     "output_type": "execute_result"
    }
   ],
   "source": [
    "text[0]"
   ]
  },
  {
   "cell_type": "code",
   "execution_count": 15,
   "metadata": {
    "colab": {
     "base_uri": "https://localhost:8080/"
    },
    "id": "wauj0v9jIy7L",
    "outputId": "71c45509-9c36-4ac8-ab89-556415e9c88a"
   },
   "outputs": [
    {
     "name": "stdout",
     "output_type": "stream",
     "text": [
      "False\n"
     ]
    }
   ],
   "source": [
    "text = \"Nos vemos.\"\n",
    "x = text.endswith(\"vemos.\",5,10)\n",
    "print(x)"
   ]
  },
  {
   "cell_type": "markdown",
   "metadata": {
    "id": "e9M7-hqWKJWl"
   },
   "source": [
    "# La función startswith() verifica si una cadena termina con una puntuación o un texto que se especifique por el usuario."
   ]
  },
  {
   "cell_type": "code",
   "execution_count": 33,
   "metadata": {
    "colab": {
     "base_uri": "https://localhost:8080/"
    },
    "id": "yCu7dmo-KJo3",
    "outputId": "4daa60ec-d19b-48d7-8816-2f2efe9592cf"
   },
   "outputs": [
    {
     "name": "stdout",
     "output_type": "stream",
     "text": [
      "True\n"
     ]
    }
   ],
   "source": [
    "text = \"Nos vemos a las 5 de la tarde.\"\n",
    "x = text.startswith(\"Nos\")\n",
    "print(x)"
   ]
  },
  {
   "cell_type": "markdown",
   "metadata": {
    "id": "q3wQxuShJs2T"
   },
   "source": [
    "# La función lower() transforma todas las letras del texto en minúsculas"
   ]
  },
  {
   "cell_type": "code",
   "execution_count": 28,
   "metadata": {
    "colab": {
     "base_uri": "https://localhost:8080/"
    },
    "id": "gvA18IkqJ0_r",
    "outputId": "1bba59db-48f6-43d1-9a91-63c4273fd817"
   },
   "outputs": [
    {
     "name": "stdout",
     "output_type": "stream",
     "text": [
      "esto debería estar en minúsculas!\n"
     ]
    }
   ],
   "source": [
    "texto = \"ESTO DEBERÍA ESTAR EN MINÚSCULAS!\"\n",
    "print(texto.lower())"
   ]
  },
  {
   "cell_type": "markdown",
   "metadata": {
    "id": "c33nGO2DKpvJ"
   },
   "source": [
    "# La función isupper() detecta textos en mayúsculas. Devuelve verdadero si todos los caracteres del texto son mayúsculas y falso si algún carácter es minúscula.\n",
    "\n",
    "# La función islower() detecta textos en mayúsculas. Devuelve verdadero si todos los caracteres del texto son mayúsculas y falso si algún carácter es minúscula."
   ]
  },
  {
   "cell_type": "code",
   "execution_count": 37,
   "metadata": {
    "colab": {
     "base_uri": "https://localhost:8080/"
    },
    "id": "rsHbyryAKwXp",
    "outputId": "27fe79f8-0bec-4882-9536-032d548b8896"
   },
   "outputs": [
    {
     "name": "stdout",
     "output_type": "stream",
     "text": [
      "True\n"
     ]
    }
   ],
   "source": [
    "texto = \"ESTO ESTÁ BIEN!\"\n",
    "print(texto.isupper());"
   ]
  },
  {
   "cell_type": "code",
   "execution_count": 39,
   "metadata": {
    "colab": {
     "base_uri": "https://localhost:8080/"
    },
    "id": "HNPVmwpGLBiC",
    "outputId": "f734fd11-4fa6-41b2-a07e-79f8db5a3d20"
   },
   "outputs": [
    {
     "name": "stdout",
     "output_type": "stream",
     "text": [
      "True\n"
     ]
    }
   ],
   "source": [
    "texto = \"esto está bien!\"\n",
    "print(texto.islower());"
   ]
  },
  {
   "cell_type": "markdown",
   "metadata": {
    "id": "For8Q690LOGn"
   },
   "source": [
    "# is alpha() es un método que regresa “verdadero” si todos los caracteres de una cadena se encuentran en alfabeto; sino regresa “falso”."
   ]
  },
  {
   "cell_type": "code",
   "execution_count": 45,
   "metadata": {
    "colab": {
     "base_uri": "https://localhost:8080/"
    },
    "id": "Qx72PTnDMBLF",
    "outputId": "8ab05c9a-e653-40b5-f319-f9598a7f4071"
   },
   "outputs": [
    {
     "name": "stdout",
     "output_type": "stream",
     "text": [
      "True\n"
     ]
    }
   ],
   "source": [
    "name=\"Monica\"\n",
    "print(name.isalpha())"
   ]
  },
  {
   "cell_type": "code",
   "execution_count": 46,
   "metadata": {
    "colab": {
     "base_uri": "https://localhost:8080/"
    },
    "id": "56mmPGY7MFK2",
    "outputId": "c503653e-12d7-4d93-e057-680f9f02660b"
   },
   "outputs": [
    {
     "name": "stdout",
     "output_type": "stream",
     "text": [
      "False\n"
     ]
    }
   ],
   "source": [
    "name=\"15460\"\n",
    "print(name.isalpha())"
   ]
  },
  {
   "cell_type": "code",
   "execution_count": 43,
   "metadata": {
    "colab": {
     "base_uri": "https://localhost:8080/"
    },
    "id": "YElPm-hRMQ2M",
    "outputId": "44833cac-e9a8-4daf-edf2-0f3067c970b4"
   },
   "outputs": [
    {
     "name": "stdout",
     "output_type": "stream",
     "text": [
      "False\n"
     ]
    }
   ],
   "source": [
    "name=\"154ayush60\"\n",
    "print(name.isalpha())"
   ]
  },
  {
   "cell_type": "markdown",
   "metadata": {
    "id": "M7IzEWBdOY9v"
   },
   "source": [
    "# isdigit() es un método que regresa “verdadero” si todos los caracteres de una cadena son dígitos; sino regresa “falso”.\n",
    "\n"
   ]
  },
  {
   "cell_type": "code",
   "execution_count": 47,
   "metadata": {
    "colab": {
     "base_uri": "https://localhost:8080/"
    },
    "id": "gnjOCZA9L2UN",
    "outputId": "f00812c7-e6f1-4e89-9948-7b179ffd48ba"
   },
   "outputs": [
    {
     "name": "stdout",
     "output_type": "stream",
     "text": [
      "True\n"
     ]
    }
   ],
   "source": [
    "name=\"15460\"\n",
    "print(name.isdigit())"
   ]
  },
  {
   "cell_type": "code",
   "execution_count": 48,
   "metadata": {
    "colab": {
     "base_uri": "https://localhost:8080/"
    },
    "id": "7tlS8hWIOjwM",
    "outputId": "17d20775-ee58-49ae-9e70-6c4f2e82dba1"
   },
   "outputs": [
    {
     "name": "stdout",
     "output_type": "stream",
     "text": [
      "False\n"
     ]
    }
   ],
   "source": [
    "name=\"15a4B6iy0\"\n",
    "print(name.isdigit())"
   ]
  },
  {
   "cell_type": "markdown",
   "metadata": {
    "id": "kVZdsclwOrm8"
   },
   "source": [
    "# isalnum() es un método que regresa “verdadero” si todos los caracteres de una cadena son alfanuméricos (cualquiera de los dos: alfabético o numérico); sino regresa “falso”."
   ]
  },
  {
   "cell_type": "code",
   "execution_count": 51,
   "metadata": {
    "colab": {
     "base_uri": "https://localhost:8080/"
    },
    "id": "eqJHOnE1OykF",
    "outputId": "16282fe5-1e31-44a7-ad3c-9e1ed8650c29"
   },
   "outputs": [
    {
     "name": "stdout",
     "output_type": "stream",
     "text": [
      "True\n",
      "False\n",
      "True\n"
     ]
    }
   ],
   "source": [
    "name=\"Mo3nicaGell22er\"\n",
    "print(name.isalnum())\n",
    "\n",
    "name = \"M3onica Gell22er \" #devuelve un falso porque tiene un espacio en blanco\n",
    "print(name.isalnum())\n",
    "\n",
    "name = \"133\"\n",
    "print(name.isalnum())"
   ]
  },
  {
   "cell_type": "markdown",
   "metadata": {
    "id": "lIh_Ax35PvQe"
   },
   "source": [
    "# Las funciones upper() y lower() convierten el texto a mayúsculas y minúsculas respectivamente"
   ]
  },
  {
   "cell_type": "code",
   "execution_count": 53,
   "metadata": {
    "colab": {
     "base_uri": "https://localhost:8080/"
    },
    "id": "UCFKNVCjP8PE",
    "outputId": "ee80e9b9-3e7e-489a-8815-088b557fdf4d"
   },
   "outputs": [
    {
     "name": "stdout",
     "output_type": "stream",
     "text": [
      "este es un texto\n"
     ]
    }
   ],
   "source": [
    "texto = \"ESTE ES UN TEXTO\"\n",
    "texto = texto.lower()\n",
    "print(texto)"
   ]
  },
  {
   "cell_type": "code",
   "execution_count": 54,
   "metadata": {
    "colab": {
     "base_uri": "https://localhost:8080/"
    },
    "id": "hQ5qfiAuQKa9",
    "outputId": "4b613905-0c3a-482d-cef1-f42b4593d817"
   },
   "outputs": [
    {
     "name": "stdout",
     "output_type": "stream",
     "text": [
      "ESTE ES UN TEXTO\n"
     ]
    }
   ],
   "source": [
    "texto = \"este es un texto\"\n",
    "texto = texto.upper()\n",
    "print(texto)"
   ]
  },
  {
   "cell_type": "markdown",
   "metadata": {
    "id": "FeD2SaMpQZLA"
   },
   "source": [
    "# title() convierte el texto de entrada en un título en el que todas las palabras comienzan con mayúscula y el resto se encuentran en minúscula.\n",
    "\n"
   ]
  },
  {
   "cell_type": "code",
   "execution_count": 59,
   "metadata": {
    "colab": {
     "base_uri": "https://localhost:8080/"
    },
    "id": "C61Rjs9SP8Yi",
    "outputId": "4964f44b-fd72-499d-ce7d-1460fb4f04b8"
   },
   "outputs": [
    {
     "name": "stdout",
     "output_type": "stream",
     "text": [
      "Saludos A La Madre Tierra\n"
     ]
    }
   ],
   "source": [
    "texto = \"SALUDOS a la Madre TIERRA\"\n",
    "print(texto.title())"
   ]
  },
  {
   "cell_type": "markdown",
   "metadata": {
    "id": "i0gx-wUFRYI-"
   },
   "source": [
    "# splitlines() separa una cadena de texto en una lista. La separación´es hecha por salto de línea."
   ]
  },
  {
   "cell_type": "code",
   "execution_count": 63,
   "metadata": {
    "colab": {
     "base_uri": "https://localhost:8080/"
    },
    "id": "CfanhvHsRcqS",
    "outputId": "a7e2cdd7-c4da-4ea5-9bf2-ae831de41593"
   },
   "outputs": [
    {
     "name": "stdout",
     "output_type": "stream",
     "text": [
      "['Cada una de las líneas ', ' Se separan por ', ' Salto de línea ']\n"
     ]
    }
   ],
   "source": [
    "texto = \"Cada una de las líneas \\n Se separan por \\n Salto de línea \"\n",
    "x = texto.splitlines()\n",
    "print(x)"
   ]
  },
  {
   "cell_type": "markdown",
   "metadata": {
    "id": "UWcABX-XSQ3Q"
   },
   "source": [
    "# join() concatena todos los elementos de una tupla o lista, en una cadena, los separa por algún carácter específico dado por el usuario.\n"
   ]
  },
  {
   "cell_type": "code",
   "execution_count": 69,
   "metadata": {
    "colab": {
     "base_uri": "https://localhost:8080/"
    },
    "id": "rdcERveCSNhx",
    "outputId": "528ef967-0705-4f26-e079-89e447a84b5b"
   },
   "outputs": [
    {
     "name": "stdout",
     "output_type": "stream",
     "text": [
      "No voy a//terminar la//tesis\n"
     ]
    }
   ],
   "source": [
    "frases = [\"No voy a\", \"terminar la\", \"tesis\"]\n",
    "x = \"//\".join(frases)\n",
    "print(x)"
   ]
  },
  {
   "cell_type": "markdown",
   "metadata": {
    "id": "gZ9lQl-CS07t"
   },
   "source": [
    "# strip() remueve espacios blancos al principio y al final de una cadena de texto."
   ]
  },
  {
   "cell_type": "code",
   "execution_count": 77,
   "metadata": {
    "colab": {
     "base_uri": "https://localhost:8080/"
    },
    "id": "TO-1O5EiS5n0",
    "outputId": "89033153-a8c4-4250-883a-6a441dd0a5d2"
   },
   "outputs": [
    {
     "name": "stdout",
     "output_type": "stream",
     "text": [
      "        quita espacios       \n",
      "quita espacios\n",
      "Esta función quita espacios del texto\n"
     ]
    }
   ],
   "source": [
    "txt = \"        quita espacios       \"\n",
    "print(txt)\n",
    "x = txt.strip()\n",
    "print(x)\n",
    "print(\"Esta función\", x, \"del texto\")"
   ]
  },
  {
   "cell_type": "markdown",
   "metadata": {
    "id": "jNuoqZmsTpVy"
   },
   "source": [
    "# find() localiza una palabra específica dada por el usuario en una cadena de texto. Devuelve: El valor “integer” de la posición en la que se encuentra el primer carácter de la palabra buscada. (recordar que python inicia conteo en cero)"
   ]
  },
  {
   "cell_type": "code",
   "execution_count": 82,
   "metadata": {
    "colab": {
     "base_uri": "https://localhost:8080/"
    },
    "id": "2f_KOdd6TxoD",
    "outputId": "23c7e4c6-dd23-4cbe-83e1-0ff9b401da4a"
   },
   "outputs": [
    {
     "name": "stdout",
     "output_type": "stream",
     "text": [
      "18\n"
     ]
    }
   ],
   "source": [
    "txt = \"Busca una palabra en especial\"\n",
    "x = txt.find(\"en\")\n",
    "print(x)"
   ]
  },
  {
   "cell_type": "code",
   "execution_count": 83,
   "metadata": {
    "colab": {
     "base_uri": "https://localhost:8080/",
     "height": 35
    },
    "id": "aWxmrO-yT2pU",
    "outputId": "8eb99288-3e8d-49c7-bd4f-d0aecbcf27d8"
   },
   "outputs": [
    {
     "data": {
      "application/vnd.google.colaboratory.intrinsic+json": {
       "type": "string"
      },
      "text/plain": [
       "'e'"
      ]
     },
     "execution_count": 83,
     "metadata": {},
     "output_type": "execute_result"
    }
   ],
   "source": [
    "txt[18]"
   ]
  },
  {
   "cell_type": "markdown",
   "metadata": {
    "id": "h_eX2gG1UKE5"
   },
   "source": [
    "# rfind() devuelve la última aparición del valor especificado en una cadena de texto, en caso de no encontrar el valor retorna “-1”.\n",
    "\n"
   ]
  },
  {
   "cell_type": "code",
   "execution_count": 87,
   "metadata": {
    "colab": {
     "base_uri": "https://localhost:8080/"
    },
    "id": "rxWrp9iQUTXS",
    "outputId": "ce0dc3e5-8468-49ff-8827-ddf71a121ee3"
   },
   "outputs": [
    {
     "name": "stdout",
     "output_type": "stream",
     "text": [
      "3\n"
     ]
    }
   ],
   "source": [
    "txt= \"El estado del tiempo será permeado por lluvias ligeras\"\n",
    "x= txt.rfind(\"es\")\n",
    "print (x)"
   ]
  },
  {
   "cell_type": "code",
   "execution_count": 88,
   "metadata": {
    "colab": {
     "base_uri": "https://localhost:8080/"
    },
    "id": "opEPYOj4Ukhp",
    "outputId": "258f98a6-3104-474a-e0b6-0e0b9af168d9"
   },
   "outputs": [
    {
     "name": "stdout",
     "output_type": "stream",
     "text": [
      "21\n"
     ]
    }
   ],
   "source": [
    "txt= \"El estado del tiempo es permeado por lluvias ligeras\"\n",
    "x= txt.rfind(\"es\")\n",
    "print (x)"
   ]
  },
  {
   "cell_type": "markdown",
   "metadata": {
    "id": "5bNDx7EVUrr-"
   },
   "source": [
    "# replace() es un método para reemplazar una frase especificada con otra de interés"
   ]
  },
  {
   "cell_type": "code",
   "execution_count": 90,
   "metadata": {
    "colab": {
     "base_uri": "https://localhost:8080/"
    },
    "id": "4yvVoZbUUv0E",
    "outputId": "cff2ed79-a4ba-42e2-b2be-1f1d04d2572a"
   },
   "outputs": [
    {
     "name": "stdout",
     "output_type": "stream",
     "text": [
      "Las programaciones teatrales de la localidad harán su presentación en una localidad extranjera\n"
     ]
    }
   ],
   "source": [
    "txt= \"Las programaciones teatrales de la ciudad harán su presentación en una ciudad extranjera\"\n",
    "x=txt.replace(\"ciudad\", \"localidad\")\n",
    "print (x)"
   ]
  },
  {
   "cell_type": "markdown",
   "metadata": {
    "id": "DauVBNeBVv8A"
   },
   "source": [
    "# La función list() es un constructor de lista y puede tener como opción la iteración de las palabras."
   ]
  },
  {
   "cell_type": "code",
   "execution_count": 98,
   "metadata": {
    "colab": {
     "base_uri": "https://localhost:8080/"
    },
    "id": "rnjLf8RaVGzi",
    "outputId": "cc290cbd-9606-42f2-b830-8fa7f38308f0"
   },
   "outputs": [
    {
     "name": "stdout",
     "output_type": "stream",
     "text": [
      "['l', 'a', 's', ' ', 'v', 'o', 'c', 'a', 'l', 'e', 's', ' ', 's', 'o', 'n', ' ', 'a', 'e', 'i', 'o', 'u']\n",
      "['las', 'vocales', 'son', 'aeiou']\n"
     ]
    }
   ],
   "source": [
    "vocales = \"las vocales son aeiou\"\n",
    "print (list(vocales))\n",
    "print(vocales.split())"
   ]
  },
  {
   "cell_type": "markdown",
   "metadata": {
    "id": "1fCyzvYtWaJe"
   },
   "source": [
    "# Lo siguiente se utiliza como bucle creando una lista dentro de una búsqueda para realizar la cuenta de los elementos especificados en una palabra, frase o texto."
   ]
  },
  {
   "cell_type": "code",
   "execution_count": 103,
   "metadata": {
    "colab": {
     "base_uri": "https://localhost:8080/"
    },
    "id": "dOjXKplxV50M",
    "outputId": "aa8b7ea8-cc91-4d99-f8b0-d18b42b235c9"
   },
   "outputs": [
    {
     "name": "stdout",
     "output_type": "stream",
     "text": [
      "['a', 'e', 'i', 'o', 'u']\n"
     ]
    }
   ],
   "source": [
    "vocales = \"aeiou\"\n",
    "lista_vocales = [c for c in vocales]\n",
    "print(lista_vocales)"
   ]
  },
  {
   "cell_type": "code",
   "execution_count": 105,
   "metadata": {
    "colab": {
     "base_uri": "https://localhost:8080/"
    },
    "id": "4-72fqNaWmic",
    "outputId": "5835e0cc-ea49-44ac-a803-6f4e7d74ded1"
   },
   "outputs": [
    {
     "name": "stdout",
     "output_type": "stream",
     "text": [
      "a\n",
      "e\n",
      "i\n",
      "o\n",
      "u\n"
     ]
    }
   ],
   "source": [
    "for vocal in vocales:\n",
    "  print(vocal)"
   ]
  },
  {
   "cell_type": "markdown",
   "metadata": {
    "id": "fN7sOB3NXKBl"
   },
   "source": [
    "# f=open() es una función para abrir un documento de texto en el servidor.\n",
    "# f.read() es la función que lee todo el contenido de un archivo de texto dado.\n",
    "\n"
   ]
  },
  {
   "cell_type": "code",
   "execution_count": 107,
   "metadata": {
    "colab": {
     "base_uri": "https://localhost:8080/"
    },
    "id": "Q9TUPsBuXPDV",
    "outputId": "d4f6d459-52ea-46a1-b9ff-eacd1a8f0c0b"
   },
   "outputs": [
    {
     "name": "stdout",
     "output_type": "stream",
     "text": [
      "IXIL.— El artista visual Pedro Tec donó piezas de su colección privada del pueblo lacandón al Museo de Ropa Étnica de México (Murem), que se ubica en el Pueblo Mágico de Valladolid.\n",
      "\n",
      "En 2018, el fotógrafo llevó al cabo una expedición a los pueblos lacandones de Na-ha y Chanbolón, con el propósito de capturar con su lente su estilo de vida.\n",
      "\n",
      "Este grupo étnico maya se desplazó hacia la selva de Chiapas y Guatemala durante la conquista española en la península de Yucatán, así que se alejó de la esclavitud y conservó su cultura autóctona por muchos años.\n",
      "\n",
      "Pedro Tec tuvo como compañera de viaje a su cámara, así como un guía lacandón que habla español, durante tres meses en la selva.\n",
      "\n",
      "Respecto a los objetos que donó, éstos serán exhibidos en el espacio cultural, así como en los Estados Unidos, para cumplir con su misión de promover y difundir las raíces mayas mexicanas en otras latitudes.\n"
     ]
    }
   ],
   "source": [
    "f = open (\"prueba.txt\", \"r\")\n",
    "print(f.read())"
   ]
  },
  {
   "cell_type": "markdown",
   "metadata": {
    "id": "QBplutxUYQUo"
   },
   "source": [
    "# f.readline() lee todas las líneas de un archivo. Devuelve una lista que contiene las líneas del archivo. Leyendo de una línea en una línea.  "
   ]
  },
  {
   "cell_type": "code",
   "execution_count": 124,
   "metadata": {
    "colab": {
     "base_uri": "https://localhost:8080/"
    },
    "id": "ZC0NutcYYVCg",
    "outputId": "ac5eb865-6428-4a15-ebb8-7006c20b03e3"
   },
   "outputs": [
    {
     "name": "stdout",
     "output_type": "stream",
     "text": [
      "IXIL.— El artista visual Pedro Tec donó piezas de su colección privada del pueblo lacandón al Museo de Ropa Étnica de México (Murem), que se ubica en el Pueblo Mágico de Valladolid.\n",
      "\n",
      "\n",
      "\n",
      "En 2018, el fotógrafo llevó al cabo una expedición a los pueblos lacandones de Na-ha y Chanbolón, con el propósito de capturar con su lente su estilo de vida.\n",
      "\n"
     ]
    }
   ],
   "source": [
    "f = open (\"prueba.txt\", \"r\")\n",
    "print(f.readline())\n",
    "print(f.readline())\n",
    "print(f.readline())"
   ]
  },
  {
   "cell_type": "code",
   "execution_count": 125,
   "metadata": {
    "colab": {
     "base_uri": "https://localhost:8080/"
    },
    "id": "AoehHrMiZcVU",
    "outputId": "f3bf4bb2-caf2-4281-cb15-047d62f65819"
   },
   "outputs": [
    {
     "name": "stdout",
     "output_type": "stream",
     "text": [
      "IXIL.— El artista visual Pedro Tec donó piezas de su colección privada del pueblo lacandón al Museo de Ropa Étnica de México (Murem), que se ubica en el Pueblo Mágico de Valladolid.\n",
      "\n",
      "\n",
      "\n",
      "En 2018, el fotógrafo llevó al cabo una expedición a los pueblos lacandones de Na-ha y Chanbolón, con el propósito de capturar con su lente su estilo de vida.\n",
      "\n",
      "\n",
      "\n",
      "Este grupo étnico maya se desplazó hacia la selva de Chiapas y Guatemala durante la conquista española en la península de Yucatán, así que se alejó de la esclavitud y conservó su cultura autóctona por muchos años.\n",
      "\n",
      "\n",
      "\n",
      "Pedro Tec tuvo como compañera de viaje a su cámara, así como un guía lacandón que habla español, durante tres meses en la selva.\n",
      "\n",
      "\n",
      "\n",
      "Respecto a los objetos que donó, éstos serán exhibidos en el espacio cultural, así como en los Estados Unidos, para cumplir con su misión de promover y difundir las raíces mayas mexicanas en otras latitudes.\n"
     ]
    }
   ],
   "source": [
    "f = open (\"prueba.txt\", \"r\")\n",
    "for linea in f:\n",
    "  print(linea)"
   ]
  },
  {
   "cell_type": "markdown",
   "metadata": {
    "id": "AGS8SpAibC7u"
   },
   "source": [
    "# f.seek(n) cambia de posición el puntero a la especificada en el parámetro de entrada. Es decir lee el archivo desde la posición dada.\n",
    "\n"
   ]
  },
  {
   "cell_type": "code",
   "execution_count": 126,
   "metadata": {
    "colab": {
     "base_uri": "https://localhost:8080/"
    },
    "id": "5lYXreBja9pr",
    "outputId": "4d4874f0-cfe1-426f-df1a-3f2a70db47c6"
   },
   "outputs": [
    {
     "name": "stdout",
     "output_type": "stream",
     "text": [
      "ro Tec donó piezas de su colección privada del pueblo lacandón al Museo de Ropa Étnica de México (Murem), que se ubica en el Pueblo Mágico de Valladolid.\n",
      "\n",
      "En 2018, el fotógrafo llevó al cabo una expedición a los pueblos lacandones de Na-ha y Chanbolón, con el propósito de capturar con su lente su estilo de vida.\n",
      "\n",
      "Este grupo étnico maya se desplazó hacia la selva de Chiapas y Guatemala durante la conquista española en la península de Yucatán, así que se alejó de la esclavitud y conservó su cultura autóctona por muchos años.\n",
      "\n",
      "Pedro Tec tuvo como compañera de viaje a su cámara, así como un guía lacandón que habla español, durante tres meses en la selva.\n",
      "\n",
      "Respecto a los objetos que donó, éstos serán exhibidos en el espacio cultural, así como en los Estados Unidos, para cumplir con su misión de promover y difundir las raíces mayas mexicanas en otras latitudes.\n"
     ]
    }
   ],
   "source": [
    "f.seek(30)\n",
    "print(f.read())"
   ]
  },
  {
   "cell_type": "markdown",
   "metadata": {
    "id": "8Ney3488c19R"
   },
   "source": [
    "# La función f.read() también leer todo el contenido de un archivo de texto dado, hasta la posición que se le especifique.\n",
    "\n"
   ]
  },
  {
   "cell_type": "code",
   "execution_count": 130,
   "metadata": {
    "colab": {
     "base_uri": "https://localhost:8080/"
    },
    "id": "UR7JfiMqbfR6",
    "outputId": "7f880ae9-d34f-4812-a595-a55a6f001f71"
   },
   "outputs": [
    {
     "name": "stdout",
     "output_type": "stream",
     "text": [
      "IXIL.— El \n"
     ]
    }
   ],
   "source": [
    "f = open (\"prueba.txt\", \"r\")\n",
    "texto = f.read(10)\n",
    "print(texto)"
   ]
  },
  {
   "cell_type": "markdown",
   "metadata": {
    "id": "mWYy9JhWeSVC"
   },
   "source": [
    "# La función splitlines() divide las líneas en los límites de cada una de ellas.  Devolviendo una lista de líneas."
   ]
  },
  {
   "cell_type": "code",
   "execution_count": 135,
   "metadata": {
    "colab": {
     "base_uri": "https://localhost:8080/"
    },
    "id": "znX7GQK3dQ50",
    "outputId": "0745d122-980d-4342-a86c-5cb4df96cce4"
   },
   "outputs": [
    {
     "data": {
      "text/plain": [
       "['IXIL.— El artista visual Pedro Tec donó piezas de su colección privada del pueblo lacandón al Museo de Ropa Étnica de México (Murem), que se ubica en el Pueblo Mágico de Valladolid.',\n",
       " '',\n",
       " 'En 2018, el fotógrafo llevó al cabo una expedición a los pueblos lacandones de Na-ha y Chanbolón, con el propósito de capturar con su lente su estilo de vida.',\n",
       " '',\n",
       " 'Este grupo étnico maya se desplazó hacia la selva de Chiapas y Guatemala durante la conquista española en la península de Yucatán, así que se alejó de la esclavitud y conservó su cultura autóctona por muchos años.',\n",
       " '',\n",
       " 'Pedro Tec tuvo como compañera de viaje a su cámara, así como un guía lacandón que habla español, durante tres meses en la selva.',\n",
       " '',\n",
       " 'Respecto a los objetos que donó, éstos serán exhibidos en el espacio cultural, así como en los Estados Unidos, para cumplir con su misión de promover y difundir las raíces mayas mexicanas en otras latitudes.']"
      ]
     },
     "execution_count": 135,
     "metadata": {},
     "output_type": "execute_result"
    }
   ],
   "source": [
    "f = open(\"prueba.txt\", \"r\")\n",
    "linea = f.read()\n",
    "linea.splitlines()"
   ]
  },
  {
   "cell_type": "markdown",
   "metadata": {
    "id": "3-tuTC4gezRC"
   },
   "source": [
    "# La función f.write() escribe valores en un archivo de texto. Si se usa el parámetro w el texto anterior se cambia por el nuevo, si se usa el parámetro a, el nuevo texto se agrega al anterior."
   ]
  },
  {
   "cell_type": "code",
   "execution_count": 140,
   "metadata": {
    "id": "kxROLlpyeg7b"
   },
   "outputs": [],
   "source": [
    "f = open(\"prueba.txt\", \"a\")\n",
    "f.write(\"\\n Esto se va a poner en vez de tu texto\")\n",
    "f.close()"
   ]
  },
  {
   "cell_type": "code",
   "execution_count": null,
   "metadata": {
    "id": "h9_XeiTWen8z"
   },
   "outputs": [],
   "source": [
    "f = open(\"prueba.txt\", \"r\")\n",
    "linea = f.read()\n",
    "linea.splitlines()"
   ]
  },
  {
   "cell_type": "markdown",
   "metadata": {
    "id": "xpsadhbMfR4R"
   },
   "source": [
    "# f.close() cierra un archivo abierto. En un archivo cerrado ya no se puede leer ni escribir más.\n",
    "\n"
   ]
  },
  {
   "cell_type": "code",
   "execution_count": 142,
   "metadata": {
    "colab": {
     "base_uri": "https://localhost:8080/",
     "height": 197
    },
    "id": "7ZZI04KOfVN2",
    "outputId": "b96812a3-1a88-4975-9d82-19e7434b8bdb"
   },
   "outputs": [
    {
     "ename": "ValueError",
     "evalue": "I/O operation on closed file.",
     "output_type": "error",
     "traceback": [
      "\u001b[0;31m---------------------------------------------------------------------------\u001b[0m",
      "\u001b[0;31mValueError\u001b[0m                                Traceback (most recent call last)",
      "\u001b[0;32m<ipython-input-142-bf012af3c351>\u001b[0m in \u001b[0;36m<cell line: 2>\u001b[0;34m()\u001b[0m\n\u001b[1;32m      1\u001b[0m \u001b[0mf\u001b[0m\u001b[0;34m.\u001b[0m\u001b[0mclose\u001b[0m\u001b[0;34m(\u001b[0m\u001b[0;34m)\u001b[0m\u001b[0;34m\u001b[0m\u001b[0;34m\u001b[0m\u001b[0m\n\u001b[0;32m----> 2\u001b[0;31m \u001b[0mf\u001b[0m\u001b[0;34m.\u001b[0m\u001b[0mread\u001b[0m\u001b[0;34m(\u001b[0m\u001b[0;34m)\u001b[0m\u001b[0;34m\u001b[0m\u001b[0;34m\u001b[0m\u001b[0m\n\u001b[0m",
      "\u001b[0;31mValueError\u001b[0m: I/O operation on closed file."
     ]
    }
   ],
   "source": [
    "f.close()\n",
    "f.read()"
   ]
  },
  {
   "cell_type": "markdown",
   "metadata": {
    "id": "M631FJ7OJIpk"
   },
   "source": [
    "# Se instala la librería nltk (Natural Language Tool Kit)"
   ]
  },
  {
   "cell_type": "code",
   "execution_count": 8,
   "metadata": {
    "colab": {
     "base_uri": "https://localhost:8080/"
    },
    "id": "td1Z4kpDGj-m",
    "outputId": "132a8a36-4c07-4ca5-db6a-9985ed5acaca"
   },
   "outputs": [
    {
     "name": "stdout",
     "output_type": "stream",
     "text": [
      "Requirement already satisfied: nltk in /usr/local/lib/python3.10/dist-packages (3.8.1)\n",
      "Requirement already satisfied: click in /usr/local/lib/python3.10/dist-packages (from nltk) (8.1.7)\n",
      "Requirement already satisfied: joblib in /usr/local/lib/python3.10/dist-packages (from nltk) (1.3.2)\n",
      "Requirement already satisfied: regex>=2021.8.3 in /usr/local/lib/python3.10/dist-packages (from nltk) (2023.12.25)\n",
      "Requirement already satisfied: tqdm in /usr/local/lib/python3.10/dist-packages (from nltk) (4.66.1)\n"
     ]
    }
   ],
   "source": [
    "%pip install nltk"
   ]
  },
  {
   "cell_type": "markdown",
   "metadata": {
    "id": "cVSXX-rAJb9N"
   },
   "source": [
    "# Se importa  la librería y los métodos para identificar stopwords"
   ]
  },
  {
   "cell_type": "code",
   "execution_count": 12,
   "metadata": {
    "id": "FtLMrK1zHfFI"
   },
   "outputs": [],
   "source": [
    "import nltk\n",
    "from nltk.corpus import stopwords"
   ]
  },
  {
   "cell_type": "markdown",
   "metadata": {
    "id": "6Kmq-50UJkWS"
   },
   "source": [
    "# Se descarga el paquete con stopwords"
   ]
  },
  {
   "cell_type": "code",
   "execution_count": 21,
   "metadata": {
    "colab": {
     "base_uri": "https://localhost:8080/"
    },
    "id": "c23DFjK1IQL7",
    "outputId": "f845cbb1-3f72-4447-dd81-cb51b356ed99"
   },
   "outputs": [
    {
     "name": "stderr",
     "output_type": "stream",
     "text": [
      "[nltk_data] Downloading package stopwords to /root/nltk_data...\n",
      "[nltk_data]   Package stopwords is already up-to-date!\n"
     ]
    },
    {
     "data": {
      "text/plain": [
       "True"
      ]
     },
     "execution_count": 21,
     "metadata": {},
     "output_type": "execute_result"
    }
   ],
   "source": [
    "nltk.download('stopwords')"
   ]
  },
  {
   "cell_type": "markdown",
   "metadata": {
    "id": "99jokk1SJui0"
   },
   "source": [
    "# Podemos ver las stopwords en inglés"
   ]
  },
  {
   "cell_type": "code",
   "execution_count": 22,
   "metadata": {
    "colab": {
     "base_uri": "https://localhost:8080/"
    },
    "id": "lmXURANNJrLW",
    "outputId": "d430013c-fbbf-4a1f-dfc7-975e5850e6ad"
   },
   "outputs": [
    {
     "name": "stdout",
     "output_type": "stream",
     "text": [
      "['i', 'me', 'my', 'myself', 'we', 'our', 'ours', 'ourselves', 'you', \"you're\", \"you've\", \"you'll\", \"you'd\", 'your', 'yours', 'yourself', 'yourselves', 'he', 'him', 'his', 'himself', 'she', \"she's\", 'her', 'hers', 'herself', 'it', \"it's\", 'its', 'itself', 'they', 'them', 'their', 'theirs', 'themselves', 'what', 'which', 'who', 'whom', 'this', 'that', \"that'll\", 'these', 'those', 'am', 'is', 'are', 'was', 'were', 'be', 'been', 'being', 'have', 'has', 'had', 'having', 'do', 'does', 'did', 'doing', 'a', 'an', 'the', 'and', 'but', 'if', 'or', 'because', 'as', 'until', 'while', 'of', 'at', 'by', 'for', 'with', 'about', 'against', 'between', 'into', 'through', 'during', 'before', 'after', 'above', 'below', 'to', 'from', 'up', 'down', 'in', 'out', 'on', 'off', 'over', 'under', 'again', 'further', 'then', 'once', 'here', 'there', 'when', 'where', 'why', 'how', 'all', 'any', 'both', 'each', 'few', 'more', 'most', 'other', 'some', 'such', 'no', 'nor', 'not', 'only', 'own', 'same', 'so', 'than', 'too', 'very', 's', 't', 'can', 'will', 'just', 'don', \"don't\", 'should', \"should've\", 'now', 'd', 'll', 'm', 'o', 're', 've', 'y', 'ain', 'aren', \"aren't\", 'couldn', \"couldn't\", 'didn', \"didn't\", 'doesn', \"doesn't\", 'hadn', \"hadn't\", 'hasn', \"hasn't\", 'haven', \"haven't\", 'isn', \"isn't\", 'ma', 'mightn', \"mightn't\", 'mustn', \"mustn't\", 'needn', \"needn't\", 'shan', \"shan't\", 'shouldn', \"shouldn't\", 'wasn', \"wasn't\", 'weren', \"weren't\", 'won', \"won't\", 'wouldn', \"wouldn't\"]\n"
     ]
    }
   ],
   "source": [
    "print(stopwords.words('english'))"
   ]
  },
  {
   "cell_type": "markdown",
   "metadata": {
    "id": "L4Dajf-iJ7KC"
   },
   "source": [
    "# Podemos ver las stopwords en español"
   ]
  },
  {
   "cell_type": "code",
   "execution_count": 23,
   "metadata": {
    "colab": {
     "base_uri": "https://localhost:8080/"
    },
    "id": "4X4wM3V2J1lJ",
    "outputId": "b47c1e8f-eeae-443d-8647-c6a6f010f51a"
   },
   "outputs": [
    {
     "name": "stdout",
     "output_type": "stream",
     "text": [
      "['de', 'la', 'que', 'el', 'en', 'y', 'a', 'los', 'del', 'se', 'las', 'por', 'un', 'para', 'con', 'no', 'una', 'su', 'al', 'lo', 'como', 'más', 'pero', 'sus', 'le', 'ya', 'o', 'este', 'sí', 'porque', 'esta', 'entre', 'cuando', 'muy', 'sin', 'sobre', 'también', 'me', 'hasta', 'hay', 'donde', 'quien', 'desde', 'todo', 'nos', 'durante', 'todos', 'uno', 'les', 'ni', 'contra', 'otros', 'ese', 'eso', 'ante', 'ellos', 'e', 'esto', 'mí', 'antes', 'algunos', 'qué', 'unos', 'yo', 'otro', 'otras', 'otra', 'él', 'tanto', 'esa', 'estos', 'mucho', 'quienes', 'nada', 'muchos', 'cual', 'poco', 'ella', 'estar', 'estas', 'algunas', 'algo', 'nosotros', 'mi', 'mis', 'tú', 'te', 'ti', 'tu', 'tus', 'ellas', 'nosotras', 'vosotros', 'vosotras', 'os', 'mío', 'mía', 'míos', 'mías', 'tuyo', 'tuya', 'tuyos', 'tuyas', 'suyo', 'suya', 'suyos', 'suyas', 'nuestro', 'nuestra', 'nuestros', 'nuestras', 'vuestro', 'vuestra', 'vuestros', 'vuestras', 'esos', 'esas', 'estoy', 'estás', 'está', 'estamos', 'estáis', 'están', 'esté', 'estés', 'estemos', 'estéis', 'estén', 'estaré', 'estarás', 'estará', 'estaremos', 'estaréis', 'estarán', 'estaría', 'estarías', 'estaríamos', 'estaríais', 'estarían', 'estaba', 'estabas', 'estábamos', 'estabais', 'estaban', 'estuve', 'estuviste', 'estuvo', 'estuvimos', 'estuvisteis', 'estuvieron', 'estuviera', 'estuvieras', 'estuviéramos', 'estuvierais', 'estuvieran', 'estuviese', 'estuvieses', 'estuviésemos', 'estuvieseis', 'estuviesen', 'estando', 'estado', 'estada', 'estados', 'estadas', 'estad', 'he', 'has', 'ha', 'hemos', 'habéis', 'han', 'haya', 'hayas', 'hayamos', 'hayáis', 'hayan', 'habré', 'habrás', 'habrá', 'habremos', 'habréis', 'habrán', 'habría', 'habrías', 'habríamos', 'habríais', 'habrían', 'había', 'habías', 'habíamos', 'habíais', 'habían', 'hube', 'hubiste', 'hubo', 'hubimos', 'hubisteis', 'hubieron', 'hubiera', 'hubieras', 'hubiéramos', 'hubierais', 'hubieran', 'hubiese', 'hubieses', 'hubiésemos', 'hubieseis', 'hubiesen', 'habiendo', 'habido', 'habida', 'habidos', 'habidas', 'soy', 'eres', 'es', 'somos', 'sois', 'son', 'sea', 'seas', 'seamos', 'seáis', 'sean', 'seré', 'serás', 'será', 'seremos', 'seréis', 'serán', 'sería', 'serías', 'seríamos', 'seríais', 'serían', 'era', 'eras', 'éramos', 'erais', 'eran', 'fui', 'fuiste', 'fue', 'fuimos', 'fuisteis', 'fueron', 'fuera', 'fueras', 'fuéramos', 'fuerais', 'fueran', 'fuese', 'fueses', 'fuésemos', 'fueseis', 'fuesen', 'sintiendo', 'sentido', 'sentida', 'sentidos', 'sentidas', 'siente', 'sentid', 'tengo', 'tienes', 'tiene', 'tenemos', 'tenéis', 'tienen', 'tenga', 'tengas', 'tengamos', 'tengáis', 'tengan', 'tendré', 'tendrás', 'tendrá', 'tendremos', 'tendréis', 'tendrán', 'tendría', 'tendrías', 'tendríamos', 'tendríais', 'tendrían', 'tenía', 'tenías', 'teníamos', 'teníais', 'tenían', 'tuve', 'tuviste', 'tuvo', 'tuvimos', 'tuvisteis', 'tuvieron', 'tuviera', 'tuvieras', 'tuviéramos', 'tuvierais', 'tuvieran', 'tuviese', 'tuvieses', 'tuviésemos', 'tuvieseis', 'tuviesen', 'teniendo', 'tenido', 'tenida', 'tenidos', 'tenidas', 'tened']\n"
     ]
    }
   ],
   "source": [
    "print(stopwords.words('spanish'))"
   ]
  },
  {
   "cell_type": "markdown",
   "metadata": {
    "id": "DVKTGJ3OKEmP"
   },
   "source": [
    "# Podemos ver las stopwords en otros idiomas"
   ]
  },
  {
   "cell_type": "code",
   "execution_count": 24,
   "metadata": {
    "colab": {
     "base_uri": "https://localhost:8080/"
    },
    "id": "cTMD_W4UJ_H9",
    "outputId": "42bacb6b-0ebb-4419-bed9-18c0186e05bd"
   },
   "outputs": [
    {
     "name": "stdout",
     "output_type": "stream",
     "text": [
      "['一', '一下', '一些', '一切', '一则', '一天', '一定', '一方面', '一旦', '一时', '一来', '一样', '一次', '一片', '一直', '一致', '一般', '一起', '一边', '一面', '万一', '上下', '上升', '上去', '上来', '上述', '上面', '下列', '下去', '下来', '下面', '不一', '不久', '不仅', '不会', '不但', '不光', '不单', '不变', '不只', '不可', '不同', '不够', '不如', '不得', '不怕', '不惟', '不成', '不拘', '不敢', '不断', '不是', '不比', '不然', '不特', '不独', '不管', '不能', '不要', '不论', '不足', '不过', '不问', '与', '与其', '与否', '与此同时', '专门', '且', '两者', '严格', '严重', '个', '个人', '个别', '中小', '中间', '丰富', '临', '为', '为主', '为了', '为什么', '为什麽', '为何', '为着', '主张', '主要', '举行', '乃', '乃至', '么', '之', '之一', '之前', '之后', '之後', '之所以', '之类', '乌乎', '乎', '乘', '也', '也好', '也是', '也罢', '了', '了解', '争取', '于', '于是', '于是乎', '云云', '互相', '产生', '人们', '人家', '什么', '什么样', '什麽', '今后', '今天', '今年', '今後', '仍然', '从', '从事', '从而', '他', '他人', '他们', '他的', '代替', '以', '以上', '以下', '以为', '以便', '以免', '以前', '以及', '以后', '以外', '以後', '以来', '以至', '以至于', '以致', '们', '任', '任何', '任凭', '任务', '企图', '伟大', '似乎', '似的', '但', '但是', '何', '何况', '何处', '何时', '作为', '你', '你们', '你的', '使得', '使用', '例如', '依', '依照', '依靠', '促进', '保持', '俺', '俺们', '倘', '倘使', '倘或', '倘然', '倘若', '假使', '假如', '假若', '做到', '像', '允许', '充分', '先后', '先後', '先生', '全部', '全面', '兮', '共同', '关于', '其', '其一', '其中', '其二', '其他', '其余', '其它', '其实', '其次', '具体', '具体地说', '具体说来', '具有', '再者', '再说', '冒', '冲', '决定', '况且', '准备', '几', '几乎', '几时', '凭', '凭借', '出去', '出来', '出现', '分别', '则', '别', '别的', '别说', '到', '前后', '前者', '前进', '前面', '加之', '加以', '加入', '加强', '十分', '即', '即令', '即使', '即便', '即或', '即若', '却不', '原来', '又', '及', '及其', '及时', '及至', '双方', '反之', '反应', '反映', '反过来', '反过来说', '取得', '受到', '变成', '另', '另一方面', '另外', '只是', '只有', '只要', '只限', '叫', '叫做', '召开', '叮咚', '可', '可以', '可是', '可能', '可见', '各', '各个', '各人', '各位', '各地', '各种', '各级', '各自', '合理', '同', '同一', '同时', '同样', '后来', '后面', '向', '向着', '吓', '吗', '否则', '吧', '吧哒', '吱', '呀', '呃', '呕', '呗', '呜', '呜呼', '呢', '周围', '呵', '呸', '呼哧', '咋', '和', '咚', '咦', '咱', '咱们', '咳', '哇', '哈', '哈哈', '哉', '哎', '哎呀', '哎哟', '哗', '哟', '哦', '哩', '哪', '哪个', '哪些', '哪儿', '哪天', '哪年', '哪怕', '哪样', '哪边', '哪里', '哼', '哼唷', '唉', '啊', '啐', '啥', '啦', '啪达', '喂', '喏', '喔唷', '嗡嗡', '嗬', '嗯', '嗳', '嘎', '嘎登', '嘘', '嘛', '嘻', '嘿', '因', '因为', '因此', '因而', '固然', '在', '在下', '地', '坚决', '坚持', '基本', '处理', '复杂', '多', '多少', '多数', '多次', '大力', '大多数', '大大', '大家', '大批', '大约', '大量', '失去', '她', '她们', '她的', '好的', '好象', '如', '如上所述', '如下', '如何', '如其', '如果', '如此', '如若', '存在', '宁', '宁可', '宁愿', '宁肯', '它', '它们', '它们的', '它的', '安全', '完全', '完成', '实现', '实际', '宣布', '容易', '密切', '对', '对于', '对应', '将', '少数', '尔后', '尚且', '尤其', '就', '就是', '就是说', '尽', '尽管', '属于', '岂但', '左右', '巨大', '巩固', '己', '已经', '帮助', '常常', '并', '并不', '并不是', '并且', '并没有', '广大', '广泛', '应当', '应用', '应该', '开外', '开始', '开展', '引起', '强烈', '强调', '归', '当', '当前', '当时', '当然', '当着', '形成', '彻底', '彼', '彼此', '往', '往往', '待', '後来', '後面', '得', '得出', '得到', '心里', '必然', '必要', '必须', '怎', '怎么', '怎么办', '怎么样', '怎样', '怎麽', '总之', '总是', '总的来看', '总的来说', '总的说来', '总结', '总而言之', '恰恰相反', '您', '意思', '愿意', '慢说', '成为', '我', '我们', '我的', '或', '或是', '或者', '战斗', '所', '所以', '所有', '所谓', '打', '扩大', '把', '抑或', '拿', '按', '按照', '换句话说', '换言之', '据', '掌握', '接着', '接著', '故', '故此', '整个', '方便', '方面', '旁人', '无宁', '无法', '无论', '既', '既是', '既然', '时候', '明显', '明确', '是', '是否', '是的', '显然', '显著', '普通', '普遍', '更加', '曾经', '替', '最后', '最大', '最好', '最後', '最近', '最高', '有', '有些', '有关', '有利', '有力', '有所', '有效', '有时', '有点', '有的', '有着', '有著', '望', '朝', '朝着', '本', '本着', '来', '来着', '极了', '构成', '果然', '果真', '某', '某个', '某些', '根据', '根本', '欢迎', '正在', '正如', '正常', '此', '此外', '此时', '此间', '毋宁', '每', '每个', '每天', '每年', '每当', '比', '比如', '比方', '比较', '毫不', '没有', '沿', '沿着', '注意', '深入', '清楚', '满足', '漫说', '焉', '然则', '然后', '然後', '然而', '照', '照着', '特别是', '特殊', '特点', '现代', '现在', '甚么', '甚而', '甚至', '用', '由', '由于', '由此可见', '的', '的话', '目前', '直到', '直接', '相似', '相信', '相反', '相同', '相对', '相对而言', '相应', '相当', '相等', '省得', '看出', '看到', '看来', '看看', '看见', '真是', '真正', '着', '着呢', '矣', '知道', '确定', '离', '积极', '移动', '突出', '突然', '立即', '第', '等', '等等', '管', '紧接着', '纵', '纵令', '纵使', '纵然', '练习', '组成', '经', '经常', '经过', '结合', '结果', '给', '绝对', '继续', '继而', '维持', '综上所述', '罢了', '考虑', '者', '而', '而且', '而况', '而外', '而已', '而是', '而言', '联系', '能', '能否', '能够', '腾', '自', '自个儿', '自从', '自各儿', '自家', '自己', '自身', '至', '至于', '良好', '若', '若是', '若非', '范围', '莫若', '获得', '虽', '虽则', '虽然', '虽说', '行为', '行动', '表明', '表示', '被', '要', '要不', '要不是', '要不然', '要么', '要是', '要求', '规定', '觉得', '认为', '认真', '认识', '让', '许多', '论', '设使', '设若', '该', '说明', '诸位', '谁', '谁知', '赶', '起', '起来', '起见', '趁', '趁着', '越是', '跟', '转动', '转变', '转贴', '较', '较之', '边', '达到', '迅速', '过', '过去', '过来', '运用', '还是', '还有', '这', '这个', '这么', '这么些', '这么样', '这么点儿', '这些', '这会儿', '这儿', '这就是说', '这时', '这样', '这点', '这种', '这边', '这里', '这麽', '进入', '进步', '进而', '进行', '连', '连同', '适应', '适当', '适用', '逐步', '逐渐', '通常', '通过', '造成', '遇到', '遭到', '避免', '那', '那个', '那么', '那么些', '那么样', '那些', '那会儿', '那儿', '那时', '那样', '那边', '那里', '那麽', '部分', '鄙人', '采取', '里面', '重大', '重新', '重要', '鉴于', '问题', '防止', '阿', '附近', '限制', '除', '除了', '除此之外', '除非', '随', '随着', '随著', '集中', '需要', '非但', '非常', '非徒', '靠', '顺', '顺着', '首先', '高兴', '是不是']\n"
     ]
    }
   ],
   "source": [
    "print(stopwords.words('chinese'))"
   ]
  },
  {
   "cell_type": "code",
   "execution_count": 28,
   "metadata": {
    "colab": {
     "base_uri": "https://localhost:8080/"
    },
    "id": "cjPLcVfiKK1r",
    "outputId": "97a29dc7-882d-4058-9acb-9be2ff716c31"
   },
   "outputs": [
    {
     "name": "stdout",
     "output_type": "stream",
     "text": [
      "['de', 'en', 'van', 'ik', 'te', 'dat', 'die', 'in', 'een', 'hij', 'het', 'niet', 'zijn', 'is', 'was', 'op', 'aan', 'met', 'als', 'voor', 'had', 'er', 'maar', 'om', 'hem', 'dan', 'zou', 'of', 'wat', 'mijn', 'men', 'dit', 'zo', 'door', 'over', 'ze', 'zich', 'bij', 'ook', 'tot', 'je', 'mij', 'uit', 'der', 'daar', 'haar', 'naar', 'heb', 'hoe', 'heeft', 'hebben', 'deze', 'u', 'want', 'nog', 'zal', 'me', 'zij', 'nu', 'ge', 'geen', 'omdat', 'iets', 'worden', 'toch', 'al', 'waren', 'veel', 'meer', 'doen', 'toen', 'moet', 'ben', 'zonder', 'kan', 'hun', 'dus', 'alles', 'onder', 'ja', 'eens', 'hier', 'wie', 'werd', 'altijd', 'doch', 'wordt', 'wezen', 'kunnen', 'ons', 'zelf', 'tegen', 'na', 'reeds', 'wil', 'kon', 'niets', 'uw', 'iemand', 'geweest', 'andere']\n"
     ]
    }
   ],
   "source": [
    "print(stopwords.words('dutch'))"
   ]
  },
  {
   "cell_type": "markdown",
   "metadata": {
    "id": "tw39QaL7Kdzl"
   },
   "source": [
    "# Descargamos el paquete 'punkt' para poder dividir una frase en tokens o palabras"
   ]
  },
  {
   "cell_type": "code",
   "execution_count": 18,
   "metadata": {
    "colab": {
     "base_uri": "https://localhost:8080/"
    },
    "id": "48VxTJrEIj4A",
    "outputId": "fddc01fd-fc28-4ef1-a99a-e745b48bd8eb"
   },
   "outputs": [
    {
     "name": "stderr",
     "output_type": "stream",
     "text": [
      "[nltk_data] Downloading package punkt to /root/nltk_data...\n",
      "[nltk_data]   Unzipping tokenizers/punkt.zip.\n"
     ]
    },
    {
     "data": {
      "text/plain": [
       "True"
      ]
     },
     "execution_count": 18,
     "metadata": {},
     "output_type": "execute_result"
    }
   ],
   "source": [
    "nltk.download('punkt')"
   ]
  },
  {
   "cell_type": "markdown",
   "metadata": {
    "id": "AuabQ4AlKpZG"
   },
   "source": [
    "# Importamos la librería para tokenizar"
   ]
  },
  {
   "cell_type": "code",
   "execution_count": 16,
   "metadata": {
    "id": "mkvbme0zIbfk"
   },
   "outputs": [],
   "source": [
    "from nltk.tokenize import word_tokenize"
   ]
  },
  {
   "cell_type": "markdown",
   "metadata": {
    "id": "7fEKjyIhK0os"
   },
   "source": [
    "# Con esto ya podemos tokenizar una frase o un texto largo en palabras"
   ]
  },
  {
   "cell_type": "code",
   "execution_count": 35,
   "metadata": {
    "colab": {
     "base_uri": "https://localhost:8080/"
    },
    "id": "iiLMn4vpGoti",
    "outputId": "98c90529-596d-4afe-d12f-2736ef82b3dd"
   },
   "outputs": [
    {
     "name": "stdout",
     "output_type": "stream",
     "text": [
      "Vector con todas las palabras que conforman la frase\n",
      "['This', 'is', 'a', 'sample', 'sentence', '.']\n",
      "\n",
      "Vector sin stopwords\n",
      "['This', 'sample', 'sentence', '.']\n"
     ]
    }
   ],
   "source": [
    "texto = \"This is a sample sentence.\"\n",
    "stop_words = set(stopwords.words('english')) #definimos el lenguaje del texto\n",
    "tokens = word_tokenize(texto) #tokenizamos por palabras el texto (dividimos el texto por palabras)\n",
    "print(\"Vector con todas las palabras que conforman la frase\")\n",
    "print(tokens) #imprimimos la lista de tokens (palabras)\n",
    "enunciado_filtrado = [ ] #creamos una lista que va a contener solo aquellas palabras que no son stopwords\n",
    "for w in tokens: # recorremos la lista de palabras para agregar a la lista de enunciado_filtrado aquellas que no sean stopwords\n",
    "    if w not in stop_words:\n",
    "      enunciado_filtrado.append(w)\n",
    "print()\n",
    "print(\"Vector sin stopwords\") #imprimimos la lista de palabras (enunciado_filtrado) que no son stopwords\n",
    "print(enunciado_filtrado)"
   ]
  },
  {
   "cell_type": "markdown",
   "metadata": {
    "id": "DVpvdrQvJEXL"
   },
   "source": [
    "# Ahora en español"
   ]
  },
  {
   "cell_type": "code",
   "execution_count": 36,
   "metadata": {
    "colab": {
     "base_uri": "https://localhost:8080/"
    },
    "id": "nHeSjYrQI6-L",
    "outputId": "82d55d74-28c3-4905-c84e-256e4b67dbc9"
   },
   "outputs": [
    {
     "name": "stdout",
     "output_type": "stream",
     "text": [
      "Vector con todas las palabras que conforman la frase\n",
      "['Este', 'es', 'un', 'ejemplo', 'de', 'enunciado', '.']\n",
      "\n",
      "Vector sin stopwords\n",
      "['Este', 'ejemplo', 'enunciado', '.']\n"
     ]
    }
   ],
   "source": [
    "texto = \"Este es un ejemplo de enunciado.\"\n",
    "stop_words = set(stopwords.words('spanish')) #definimos el lenguaje del texto\n",
    "tokens = word_tokenize(texto) #tokenizamos por palabras el texto (dividimos el texto por palabras)\n",
    "print(\"Vector con todas las palabras que conforman la frase\")\n",
    "print(tokens) #imprimimos la lista de tokens (palabras)\n",
    "enunciado_filtrado = [ ] #creamos una lista que va a contener solo aquellas palabras que no son stopwords\n",
    "for w in tokens: # recorremos la lista de palabras para agregar a la lista de enunciado_filtrado aquellas que no sean stopwords\n",
    "    if w not in stop_words:\n",
    "      enunciado_filtrado.append(w)\n",
    "print()\n",
    "print(\"Vector sin stopwords\") #imprimimos la lista de palabras (enunciado_filtrado) que no son stopwords\n",
    "print(enunciado_filtrado)"
   ]
  },
  {
   "cell_type": "code",
   "execution_count": null,
   "metadata": {
    "id": "7w8y3Bppzljx"
   },
   "outputs": [],
   "source": []
  }
 ],
 "metadata": {
  "colab": {
   "provenance": []
  },
  "kernelspec": {
   "display_name": "Python 3 (ipykernel)",
   "language": "python",
   "name": "python3"
  },
  "language_info": {
   "codemirror_mode": {
    "name": "ipython",
    "version": 3
   },
   "file_extension": ".py",
   "mimetype": "text/x-python",
   "name": "python",
   "nbconvert_exporter": "python",
   "pygments_lexer": "ipython3",
   "version": "3.11.5"
  }
 },
 "nbformat": 4,
 "nbformat_minor": 1
}
